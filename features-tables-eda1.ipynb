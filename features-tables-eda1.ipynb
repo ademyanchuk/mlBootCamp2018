{
 "cells": [
  {
   "cell_type": "markdown",
   "metadata": {},
   "source": [
    "### Imports "
   ]
  },
  {
   "cell_type": "code",
   "execution_count": 1,
   "metadata": {},
   "outputs": [],
   "source": [
    "%load_ext autoreload\n",
    "%autoreload 2\n",
    "\n",
    "%matplotlib inline"
   ]
  },
  {
   "cell_type": "code",
   "execution_count": 2,
   "metadata": {},
   "outputs": [],
   "source": [
    "from fastai.imports import *\n",
    "from fastai.structured import *\n",
    "\n",
    "from pandas_summary import DataFrameSummary\n",
    "from sklearn.ensemble import RandomForestRegressor, RandomForestClassifier\n",
    "from IPython.display import display\n",
    "\n",
    "from sklearn import metrics"
   ]
  },
  {
   "cell_type": "code",
   "execution_count": 21,
   "metadata": {},
   "outputs": [],
   "source": [
    "import seaborn as sns"
   ]
  },
  {
   "cell_type": "code",
   "execution_count": 3,
   "metadata": {},
   "outputs": [],
   "source": [
    "import lightgbm as lgb"
   ]
  },
  {
   "cell_type": "markdown",
   "metadata": {},
   "source": [
    "### Const and Func"
   ]
  },
  {
   "cell_type": "code",
   "execution_count": 4,
   "metadata": {},
   "outputs": [],
   "source": [
    "path = Path('data/dataset/')"
   ]
  },
  {
   "cell_type": "code",
   "execution_count": 5,
   "metadata": {
    "scrolled": true
   },
   "outputs": [
    {
     "data": {
      "text/plain": [
       "PosixPath('data/dataset')"
      ]
     },
     "execution_count": 5,
     "metadata": {},
     "output_type": "execute_result"
    }
   ],
   "source": [
    "path"
   ]
  },
  {
   "cell_type": "code",
   "execution_count": 6,
   "metadata": {
    "scrolled": true
   },
   "outputs": [
    {
     "name": "stdout",
     "output_type": "stream",
     "text": [
      "!dataset_fields_description.xlsx sample-submit-zero.csv\r\n",
      "bs_avg_kpi.csv                   \u001b[1m\u001b[36mtest\u001b[m\u001b[m\r\n",
      "bs_chnn_kpi.csv                  \u001b[1m\u001b[36mtrain\u001b[m\u001b[m\r\n"
     ]
    }
   ],
   "source": [
    "! ls {path}"
   ]
  },
  {
   "cell_type": "code",
   "execution_count": 7,
   "metadata": {
    "scrolled": true
   },
   "outputs": [
    {
     "name": "stdout",
     "output_type": "stream",
     "text": [
      "subs_bs_consumption_train.csv   subs_csi_train.csv\r\n",
      "subs_bs_data_session_train.csv  subs_features_train.csv\r\n",
      "subs_bs_voice_session_train.csv\r\n"
     ]
    }
   ],
   "source": [
    "! ls {path/'train'}"
   ]
  },
  {
   "cell_type": "code",
   "execution_count": 8,
   "metadata": {},
   "outputs": [],
   "source": [
    "def display_all(df):\n",
    "    with pd.option_context(\"display.max_rows\", 1000, \"display.max_columns\", 1000): \n",
    "        display(df)"
   ]
  },
  {
   "cell_type": "markdown",
   "metadata": {},
   "source": [
    "### Loads"
   ]
  },
  {
   "cell_type": "code",
   "execution_count": 9,
   "metadata": {},
   "outputs": [],
   "source": [
    "train_ids = pd.read_csv(path/'train/subs_csi_train.csv', sep=';')"
   ]
  },
  {
   "cell_type": "code",
   "execution_count": 10,
   "metadata": {},
   "outputs": [],
   "source": [
    "test_ids = pd.read_csv(path/'test/subs_csi_test.csv', sep=';')"
   ]
  },
  {
   "cell_type": "code",
   "execution_count": 11,
   "metadata": {},
   "outputs": [],
   "source": [
    "features_train = pd.read_csv(path/'train/subs_features_train.csv', sep=';', decimal=',', \n",
    "                              parse_dates=['SNAP_DATE'], infer_datetime_format=True, dayfirst=True)"
   ]
  },
  {
   "cell_type": "code",
   "execution_count": 12,
   "metadata": {},
   "outputs": [],
   "source": [
    "features_test = pd.read_csv(path/'test/subs_features_test.csv', sep=';', decimal=',', \n",
    "                              parse_dates=['SNAP_DATE'], infer_datetime_format=True, dayfirst=True)"
   ]
  },
  {
   "cell_type": "code",
   "execution_count": 33,
   "metadata": {},
   "outputs": [],
   "source": [
    "# convert to months (int)\n",
    "features_train.SNAP_DATE = features_train.SNAP_DATE.dt.month"
   ]
  },
  {
   "cell_type": "code",
   "execution_count": 34,
   "metadata": {},
   "outputs": [],
   "source": [
    "# convert to months (int)\n",
    "features_test.SNAP_DATE = features_test.SNAP_DATE.dt.month"
   ]
  },
  {
   "cell_type": "markdown",
   "metadata": {},
   "source": [
    "###  Data processing"
   ]
  },
  {
   "cell_type": "code",
   "execution_count": 13,
   "metadata": {},
   "outputs": [
    {
     "data": {
      "text/plain": [
       "(4222, 4222)"
      ]
     },
     "execution_count": 13,
     "metadata": {},
     "output_type": "execute_result"
    }
   ],
   "source": [
    "train_ids.SK_ID.nunique(), features_train.SK_ID.nunique()"
   ]
  },
  {
   "cell_type": "code",
   "execution_count": 14,
   "metadata": {},
   "outputs": [
    {
     "data": {
      "image/png": "[encoded data removed]",
      "text/plain": [
       "<Figure size 432x288 with 1 Axes>"
      ]
     },
     "metadata": {},
     "output_type": "display_data"
    }
   ],
   "source": [
    "train_ids.SK_ID.hist();"
   ]
  },
  {
   "cell_type": "code",
   "execution_count": 15,
   "metadata": {},
   "outputs": [
    {
     "data": {
      "image/png": "[encoded data removed]",
      "text/plain": [
       "<Figure size 432x288 with 1 Axes>"
      ]
     },
     "metadata": {},
     "output_type": "display_data"
    }
   ],
   "source": [
    "test_ids.SK_ID.hist();"
   ]
  },
  {
   "cell_type": "markdown",
   "metadata": {},
   "source": [
    "#### See time distribution"
   ]
  },
  {
   "cell_type": "code",
   "execution_count": 19,
   "metadata": {},
   "outputs": [
    {
     "data": {
      "text/plain": [
       "<matplotlib.axes._subplots.AxesSubplot at 0x11f684e48>"
      ]
     },
     "execution_count": 19,
     "metadata": {},
     "output_type": "execute_result"
    },
    {
     "data": {
      "image/png": "[encoded data removed]",
      "text/plain": [
       "<Figure size 432x288 with 1 Axes>"
      ]
     },
     "metadata": {},
     "output_type": "display_data"
    }
   ],
   "source": [
    "pd.to_datetime(train_ids['CONTACT_DATE'], format='%d.%m').hist()"
   ]
  },
  {
   "cell_type": "code",
   "execution_count": 20,
   "metadata": {},
   "outputs": [
    {
     "data": {
      "text/plain": [
       "<matplotlib.axes._subplots.AxesSubplot at 0x11f732f28>"
      ]
     },
     "execution_count": 20,
     "metadata": {},
     "output_type": "execute_result"
    },
    {
     "data": {
      "image/png": "[encoded data removed]",
      "text/plain": [
       "<Figure size 432x288 with 1 Axes>"
      ]
     },
     "metadata": {},
     "output_type": "display_data"
    }
   ],
   "source": [
    "pd.to_datetime(test_ids['CONTACT_DATE'], format='%d.%m').hist()"
   ]
  },
  {
   "cell_type": "code",
   "execution_count": 31,
   "metadata": {},
   "outputs": [
    {
     "data": {
      "text/plain": [
       "count                    4222\n",
       "unique                     31\n",
       "top       1900-05-12 00:00:00\n",
       "freq                      241\n",
       "first     1900-05-01 00:00:00\n",
       "last      1900-05-31 00:00:00\n",
       "Name: CONTACT_DATE, dtype: object"
      ]
     },
     "execution_count": 31,
     "metadata": {},
     "output_type": "execute_result"
    }
   ],
   "source": [
    "pd.to_datetime(train_ids['CONTACT_DATE'], format='%d.%m').describe()"
   ]
  },
  {
   "cell_type": "code",
   "execution_count": 27,
   "metadata": {},
   "outputs": [
    {
     "data": {
      "text/plain": [
       "count                    5221\n",
       "unique                     59\n",
       "top       1900-04-24 00:00:00\n",
       "freq                      216\n",
       "first     1900-04-01 00:00:00\n",
       "last      1900-05-31 00:00:00\n",
       "Name: CONTACT_DATE, dtype: object"
      ]
     },
     "execution_count": 27,
     "metadata": {},
     "output_type": "execute_result"
    }
   ],
   "source": [
    "pd.to_datetime(test_ids['CONTACT_DATE'], format='%d.%m').describe()"
   ]
  },
  {
   "cell_type": "code",
   "execution_count": 25,
   "metadata": {},
   "outputs": [
    {
     "data": {
      "image/png": "[encoded data removed]",
      "text/plain": [
       "<Figure size 432x288 with 1 Axes>"
      ]
     },
     "metadata": {},
     "output_type": "display_data"
    }
   ],
   "source": [
    "for data in (train_ids, test_ids):\n",
    "    sns.distplot(data['CONTACT_DATE'], hist=False, kde=True, kde_kws={'linewidth': 3},\n",
    "                 label='data')"
   ]
  },
  {
   "cell_type": "code",
   "execution_count": 37,
   "metadata": {},
   "outputs": [
    {
     "data": {
      "image/png": "[encoded data removed]",
      "text/plain": [
       "<Figure size 432x288 with 1 Axes>"
      ]
     },
     "metadata": {},
     "output_type": "display_data"
    }
   ],
   "source": [
    "for i, data in enumerate((features_train, features_test)):\n",
    "    sns.distplot(data['SNAP_DATE'], hist=False, kde=True, kde_kws={'linewidth': 3},\n",
    "                 label=f'data_{i}')"
   ]
  },
  {
   "cell_type": "code",
   "execution_count": 39,
   "metadata": {},
   "outputs": [
    {
     "data": {
      "text/plain": [
       "5     4200\n",
       "4     4172\n",
       "3     4105\n",
       "2     4044\n",
       "1     4001\n",
       "12    3968\n",
       "11    3922\n",
       "10    3891\n",
       "9     3845\n",
       "8     3797\n",
       "7     3755\n",
       "6     3711\n",
       "Name: SNAP_DATE, dtype: int64"
      ]
     },
     "execution_count": 39,
     "metadata": {},
     "output_type": "execute_result"
    }
   ],
   "source": [
    "features_train.SNAP_DATE.value_counts()"
   ]
  },
  {
   "cell_type": "code",
   "execution_count": 38,
   "metadata": {
    "scrolled": true
   },
   "outputs": [
    {
     "data": {
      "text/plain": [
       "4     5197\n",
       "3     5169\n",
       "2     5090\n",
       "1     5037\n",
       "12    4993\n",
       "11    4935\n",
       "10    4892\n",
       "9     4844\n",
       "8     4794\n",
       "7     4729\n",
       "6     4656\n",
       "5     4653\n",
       "Name: SNAP_DATE, dtype: int64"
      ]
     },
     "execution_count": 38,
     "metadata": {},
     "output_type": "execute_result"
    }
   ],
   "source": [
    "features_test.SNAP_DATE.value_counts()"
   ]
  },
  {
   "cell_type": "code",
   "execution_count": 34,
   "metadata": {},
   "outputs": [],
   "source": [
    "features_train = features_train[features_train.SNAP_DATE.isin([1,2,3])]\n",
    "features_test = features_test[features_test.SNAP_DATE.isin([1,2,3])]"
   ]
  },
  {
   "cell_type": "markdown",
   "metadata": {},
   "source": [
    "#### One month try"
   ]
  },
  {
   "cell_type": "code",
   "execution_count": 42,
   "metadata": {},
   "outputs": [
    {
     "data": {
      "text/plain": [
       "5221"
      ]
     },
     "execution_count": 42,
     "metadata": {},
     "output_type": "execute_result"
    }
   ],
   "source": [
    "test_ids.SK_ID.nunique()"
   ]
  },
  {
   "cell_type": "code",
   "execution_count": 49,
   "metadata": {},
   "outputs": [],
   "source": [
    "train_mnth = features_train[features_train.SNAP_DATE == 5].copy()"
   ]
  },
  {
   "cell_type": "code",
   "execution_count": 48,
   "metadata": {},
   "outputs": [],
   "source": [
    "test_mnth = features_test[features_test.SNAP_DATE == 4].copy()"
   ]
  },
  {
   "cell_type": "code",
   "execution_count": 50,
   "metadata": {},
   "outputs": [],
   "source": [
    "# add contact date and labels\n",
    "train_mnth = pd.merge(train_mnth, train_ids, on='SK_ID')\n",
    "\n",
    "test_mnth = pd.merge(test_ids, test_mnth, on='SK_ID', how='left')"
   ]
  },
  {
   "cell_type": "code",
   "execution_count": 51,
   "metadata": {},
   "outputs": [],
   "source": [
    "train_mnth['CONTACT_DATE'] = pd.to_datetime(train_mnth['CONTACT_DATE'], format='%d.%m')\n",
    "\n",
    "test_mnth['CONTACT_DATE'] = pd.to_datetime(test_mnth['CONTACT_DATE'], format='%d.%m')"
   ]
  },
  {
   "cell_type": "code",
   "execution_count": 52,
   "metadata": {},
   "outputs": [
    {
     "name": "stdout",
     "output_type": "stream",
     "text": [
      "<class 'pandas.core.frame.DataFrame'>\n",
      "Int64Index: 4200 entries, 0 to 4199\n",
      "Data columns (total 38 columns):\n",
      "SNAP_DATE           4200 non-null int64\n",
      "COM_CAT#1           4200 non-null int64\n",
      "SK_ID               4200 non-null int64\n",
      "COM_CAT#2           4200 non-null int64\n",
      "COM_CAT#3           4200 non-null int64\n",
      "BASE_TYPE           4200 non-null int64\n",
      "ACT                 4200 non-null int64\n",
      "ARPU_GROUP          4198 non-null float64\n",
      "COM_CAT#7           4200 non-null int64\n",
      "COM_CAT#8           4189 non-null float64\n",
      "DEVICE_TYPE_ID      4195 non-null float64\n",
      "INTERNET_TYPE_ID    4195 non-null float64\n",
      "REVENUE             4200 non-null float64\n",
      "ITC                 4200 non-null float64\n",
      "VAS                 4200 non-null float64\n",
      "RENT_CHANNEL        4200 non-null float64\n",
      "ROAM                4200 non-null float64\n",
      "COST                4200 non-null float64\n",
      "COM_CAT#17          4200 non-null float64\n",
      "COM_CAT#18          4200 non-null float64\n",
      "COM_CAT#19          4200 non-null float64\n",
      "COM_CAT#20          4200 non-null float64\n",
      "COM_CAT#21          4200 non-null float64\n",
      "COM_CAT#22          4200 non-null float64\n",
      "COM_CAT#23          4200 non-null float64\n",
      "COM_CAT#24          4200 non-null category\n",
      "COM_CAT#25          4200 non-null int64\n",
      "COM_CAT#26          4200 non-null int64\n",
      "COM_CAT#27          4200 non-null float64\n",
      "COM_CAT#28          4200 non-null float64\n",
      "COM_CAT#29          4200 non-null float64\n",
      "COM_CAT#30          4200 non-null float64\n",
      "COM_CAT#31          4200 non-null float64\n",
      "COM_CAT#32          4200 non-null float64\n",
      "COM_CAT#33          4200 non-null float64\n",
      "COM_CAT#34          4038 non-null float64\n",
      "CSI                 4200 non-null int64\n",
      "CONTACT_DATE        4200 non-null int64\n",
      "dtypes: category(1), float64(25), int64(12)\n",
      "memory usage: 1.2 MB\n"
     ]
    }
   ],
   "source": [
    "#### Process with fastai structured\n",
    "\n",
    "train_mnth['CONTACT_DATE'] = train_mnth['CONTACT_DATE'].dt.day\n",
    "test_mnth['CONTACT_DATE'] = test_mnth['CONTACT_DATE'].dt.day\n",
    "\n",
    "train_cats(train_mnth)\n",
    "\n",
    "apply_cats(test_mnth, train_mnth)\n",
    "\n",
    "train_mnth.info()"
   ]
  },
  {
   "cell_type": "code",
   "execution_count": 53,
   "metadata": {},
   "outputs": [
    {
     "name": "stdout",
     "output_type": "stream",
     "text": [
      "<class 'pandas.core.frame.DataFrame'>\n",
      "Int64Index: 5221 entries, 0 to 5220\n",
      "Data columns (total 37 columns):\n",
      "SK_ID               5221 non-null int64\n",
      "CONTACT_DATE        5221 non-null int64\n",
      "SNAP_DATE           5197 non-null float64\n",
      "COM_CAT#1           5197 non-null float64\n",
      "COM_CAT#2           5197 non-null float64\n",
      "COM_CAT#3           5197 non-null float64\n",
      "BASE_TYPE           5197 non-null float64\n",
      "ACT                 5197 non-null float64\n",
      "ARPU_GROUP          5195 non-null float64\n",
      "COM_CAT#7           5197 non-null float64\n",
      "COM_CAT#8           4824 non-null float64\n",
      "DEVICE_TYPE_ID      5187 non-null float64\n",
      "INTERNET_TYPE_ID    5187 non-null float64\n",
      "REVENUE             5197 non-null float64\n",
      "ITC                 5197 non-null float64\n",
      "VAS                 5197 non-null float64\n",
      "RENT_CHANNEL        5197 non-null float64\n",
      "ROAM                5197 non-null float64\n",
      "COST                5197 non-null float64\n",
      "COM_CAT#17          5197 non-null float64\n",
      "COM_CAT#18          5197 non-null float64\n",
      "COM_CAT#19          5197 non-null float64\n",
      "COM_CAT#20          5197 non-null float64\n",
      "COM_CAT#21          5197 non-null float64\n",
      "COM_CAT#22          5197 non-null float64\n",
      "COM_CAT#23          5197 non-null float64\n",
      "COM_CAT#24          5191 non-null category\n",
      "COM_CAT#25          5197 non-null float64\n",
      "COM_CAT#26          5197 non-null float64\n",
      "COM_CAT#27          5197 non-null float64\n",
      "COM_CAT#28          5197 non-null float64\n",
      "COM_CAT#29          5197 non-null float64\n",
      "COM_CAT#30          5197 non-null float64\n",
      "COM_CAT#31          5197 non-null float64\n",
      "COM_CAT#32          5197 non-null float64\n",
      "COM_CAT#33          5197 non-null float64\n",
      "COM_CAT#34          5033 non-null float64\n",
      "dtypes: category(1), float64(34), int64(2)\n",
      "memory usage: 1.5 MB\n"
     ]
    }
   ],
   "source": [
    "test_mnth.info()"
   ]
  },
  {
   "cell_type": "markdown",
   "metadata": {},
   "source": [
    "### Pivoting feature tables"
   ]
  },
  {
   "cell_type": "code",
   "execution_count": 35,
   "metadata": {},
   "outputs": [],
   "source": [
    "# to merge column names later on\n",
    "features_train.SNAP_DATE = features_train.SNAP_DATE.astype(str)"
   ]
  },
  {
   "cell_type": "code",
   "execution_count": 36,
   "metadata": {},
   "outputs": [],
   "source": [
    "# to merge column names later on\n",
    "features_test.SNAP_DATE = features_test.SNAP_DATE.astype(str)"
   ]
  },
  {
   "cell_type": "code",
   "execution_count": 37,
   "metadata": {},
   "outputs": [],
   "source": [
    "tr_pivot = features_train.pivot(index='SK_ID', columns='SNAP_DATE')"
   ]
  },
  {
   "cell_type": "code",
   "execution_count": 38,
   "metadata": {},
   "outputs": [],
   "source": [
    "test_pivot = features_test.pivot(index='SK_ID', columns='SNAP_DATE')"
   ]
  },
  {
   "cell_type": "code",
   "execution_count": 49,
   "metadata": {
    "scrolled": false
   },
   "outputs": [
    {
     "data": {
      "text/html": [
       "<div>\n",
       "<style scoped>\n",
       "    .dataframe tbody tr th:only-of-type {\n",
       "        vertical-align: middle;\n",
       "    }\n",
       "\n",
       "    .dataframe tbody tr th {\n",
       "        vertical-align: top;\n",
       "    }\n",
       "\n",
       "    .dataframe thead th {\n",
       "        text-align: right;\n",
       "    }\n",
       "</style>\n",
       "<table border=\"1\" class=\"dataframe\">\n",
       "  <thead>\n",
       "    <tr style=\"text-align: right;\">\n",
       "      <th></th>\n",
       "      <th>SK_ID</th>\n",
       "      <th>COM_CAT#1_1</th>\n",
       "      <th>COM_CAT#1_2</th>\n",
       "      <th>COM_CAT#1_3</th>\n",
       "      <th>COM_CAT#2_1</th>\n",
       "      <th>COM_CAT#2_2</th>\n",
       "      <th>COM_CAT#2_3</th>\n",
       "      <th>COM_CAT#3_1</th>\n",
       "      <th>COM_CAT#3_2</th>\n",
       "      <th>COM_CAT#3_3</th>\n",
       "      <th>...</th>\n",
       "      <th>COM_CAT#32_2</th>\n",
       "      <th>COM_CAT#32_3</th>\n",
       "      <th>COM_CAT#33_1</th>\n",
       "      <th>COM_CAT#33_2</th>\n",
       "      <th>COM_CAT#33_3</th>\n",
       "      <th>COM_CAT#34_1</th>\n",
       "      <th>COM_CAT#34_2</th>\n",
       "      <th>COM_CAT#34_3</th>\n",
       "      <th>CSI</th>\n",
       "      <th>CONTACT_DATE</th>\n",
       "    </tr>\n",
       "  </thead>\n",
       "  <tbody>\n",
       "    <tr>\n",
       "      <th>0</th>\n",
       "      <td>2</td>\n",
       "      <td>7.0</td>\n",
       "      <td>7.0</td>\n",
       "      <td>7.0</td>\n",
       "      <td>77.0</td>\n",
       "      <td>77.0</td>\n",
       "      <td>77.0</td>\n",
       "      <td>17.0</td>\n",
       "      <td>9.0</td>\n",
       "      <td>10.0</td>\n",
       "      <td>...</td>\n",
       "      <td>0.027579</td>\n",
       "      <td>0.027579</td>\n",
       "      <td>0.103896</td>\n",
       "      <td>0.103896</td>\n",
       "      <td>0.103896</td>\n",
       "      <td>NaN</td>\n",
       "      <td>NaN</td>\n",
       "      <td>NaN</td>\n",
       "      <td>0</td>\n",
       "      <td>1900-05-04</td>\n",
       "    </tr>\n",
       "    <tr>\n",
       "      <th>1</th>\n",
       "      <td>3</td>\n",
       "      <td>4.0</td>\n",
       "      <td>4.0</td>\n",
       "      <td>4.0</td>\n",
       "      <td>51.0</td>\n",
       "      <td>51.0</td>\n",
       "      <td>51.0</td>\n",
       "      <td>12.0</td>\n",
       "      <td>13.0</td>\n",
       "      <td>14.0</td>\n",
       "      <td>...</td>\n",
       "      <td>0.027579</td>\n",
       "      <td>0.027579</td>\n",
       "      <td>0.103896</td>\n",
       "      <td>0.103896</td>\n",
       "      <td>0.103896</td>\n",
       "      <td>9.0</td>\n",
       "      <td>9.0</td>\n",
       "      <td>9.0</td>\n",
       "      <td>0</td>\n",
       "      <td>1900-05-21</td>\n",
       "    </tr>\n",
       "    <tr>\n",
       "      <th>2</th>\n",
       "      <td>4</td>\n",
       "      <td>8.0</td>\n",
       "      <td>8.0</td>\n",
       "      <td>8.0</td>\n",
       "      <td>12.0</td>\n",
       "      <td>12.0</td>\n",
       "      <td>12.0</td>\n",
       "      <td>4.0</td>\n",
       "      <td>4.0</td>\n",
       "      <td>4.0</td>\n",
       "      <td>...</td>\n",
       "      <td>0.027579</td>\n",
       "      <td>0.027579</td>\n",
       "      <td>0.103896</td>\n",
       "      <td>0.103896</td>\n",
       "      <td>0.103896</td>\n",
       "      <td>3.0</td>\n",
       "      <td>3.0</td>\n",
       "      <td>3.0</td>\n",
       "      <td>0</td>\n",
       "      <td>1900-05-27</td>\n",
       "    </tr>\n",
       "    <tr>\n",
       "      <th>3</th>\n",
       "      <td>5</td>\n",
       "      <td>3.0</td>\n",
       "      <td>3.0</td>\n",
       "      <td>3.0</td>\n",
       "      <td>79.0</td>\n",
       "      <td>79.0</td>\n",
       "      <td>79.0</td>\n",
       "      <td>2.0</td>\n",
       "      <td>2.0</td>\n",
       "      <td>3.0</td>\n",
       "      <td>...</td>\n",
       "      <td>0.027579</td>\n",
       "      <td>0.027579</td>\n",
       "      <td>0.103896</td>\n",
       "      <td>0.103896</td>\n",
       "      <td>0.103896</td>\n",
       "      <td>2.0</td>\n",
       "      <td>2.0</td>\n",
       "      <td>2.0</td>\n",
       "      <td>0</td>\n",
       "      <td>1900-05-08</td>\n",
       "    </tr>\n",
       "    <tr>\n",
       "      <th>4</th>\n",
       "      <td>6</td>\n",
       "      <td>5.0</td>\n",
       "      <td>5.0</td>\n",
       "      <td>5.0</td>\n",
       "      <td>48.0</td>\n",
       "      <td>48.0</td>\n",
       "      <td>48.0</td>\n",
       "      <td>5.0</td>\n",
       "      <td>5.0</td>\n",
       "      <td>5.0</td>\n",
       "      <td>...</td>\n",
       "      <td>0.027579</td>\n",
       "      <td>0.027579</td>\n",
       "      <td>0.103896</td>\n",
       "      <td>0.103896</td>\n",
       "      <td>0.103896</td>\n",
       "      <td>3.0</td>\n",
       "      <td>3.0</td>\n",
       "      <td>3.0</td>\n",
       "      <td>1</td>\n",
       "      <td>1900-05-06</td>\n",
       "    </tr>\n",
       "  </tbody>\n",
       "</table>\n",
       "<p>5 rows × 105 columns</p>\n",
       "</div>"
      ],
      "text/plain": [
       "   SK_ID  COM_CAT#1_1  COM_CAT#1_2  COM_CAT#1_3  COM_CAT#2_1  COM_CAT#2_2  \\\n",
       "0      2          7.0          7.0          7.0         77.0         77.0   \n",
       "1      3          4.0          4.0          4.0         51.0         51.0   \n",
       "2      4          8.0          8.0          8.0         12.0         12.0   \n",
       "3      5          3.0          3.0          3.0         79.0         79.0   \n",
       "4      6          5.0          5.0          5.0         48.0         48.0   \n",
       "\n",
       "   COM_CAT#2_3  COM_CAT#3_1  COM_CAT#3_2  COM_CAT#3_3      ...       \\\n",
       "0         77.0         17.0          9.0         10.0      ...        \n",
       "1         51.0         12.0         13.0         14.0      ...        \n",
       "2         12.0          4.0          4.0          4.0      ...        \n",
       "3         79.0          2.0          2.0          3.0      ...        \n",
       "4         48.0          5.0          5.0          5.0      ...        \n",
       "\n",
       "   COM_CAT#32_2  COM_CAT#32_3  COM_CAT#33_1  COM_CAT#33_2  COM_CAT#33_3  \\\n",
       "0      0.027579      0.027579      0.103896      0.103896      0.103896   \n",
       "1      0.027579      0.027579      0.103896      0.103896      0.103896   \n",
       "2      0.027579      0.027579      0.103896      0.103896      0.103896   \n",
       "3      0.027579      0.027579      0.103896      0.103896      0.103896   \n",
       "4      0.027579      0.027579      0.103896      0.103896      0.103896   \n",
       "\n",
       "   COM_CAT#34_1  COM_CAT#34_2  COM_CAT#34_3  CSI  CONTACT_DATE  \n",
       "0           NaN           NaN           NaN    0    1900-05-04  \n",
       "1           9.0           9.0           9.0    0    1900-05-21  \n",
       "2           3.0           3.0           3.0    0    1900-05-27  \n",
       "3           2.0           2.0           2.0    0    1900-05-08  \n",
       "4           3.0           3.0           3.0    1    1900-05-06  \n",
       "\n",
       "[5 rows x 105 columns]"
      ]
     },
     "execution_count": 49,
     "metadata": {},
     "output_type": "execute_result"
    }
   ],
   "source": [
    "tr_pivot.head()"
   ]
  },
  {
   "cell_type": "code",
   "execution_count": 50,
   "metadata": {},
   "outputs": [
    {
     "data": {
      "text/html": [
       "<div>\n",
       "<style scoped>\n",
       "    .dataframe tbody tr th:only-of-type {\n",
       "        vertical-align: middle;\n",
       "    }\n",
       "\n",
       "    .dataframe tbody tr th {\n",
       "        vertical-align: top;\n",
       "    }\n",
       "\n",
       "    .dataframe thead th {\n",
       "        text-align: right;\n",
       "    }\n",
       "</style>\n",
       "<table border=\"1\" class=\"dataframe\">\n",
       "  <thead>\n",
       "    <tr style=\"text-align: right;\">\n",
       "      <th></th>\n",
       "      <th>SK_ID</th>\n",
       "      <th>CONTACT_DATE</th>\n",
       "      <th>COM_CAT#1_1</th>\n",
       "      <th>COM_CAT#1_2</th>\n",
       "      <th>COM_CAT#1_3</th>\n",
       "      <th>COM_CAT#2_1</th>\n",
       "      <th>COM_CAT#2_2</th>\n",
       "      <th>COM_CAT#2_3</th>\n",
       "      <th>COM_CAT#3_1</th>\n",
       "      <th>COM_CAT#3_2</th>\n",
       "      <th>...</th>\n",
       "      <th>COM_CAT#31_3</th>\n",
       "      <th>COM_CAT#32_1</th>\n",
       "      <th>COM_CAT#32_2</th>\n",
       "      <th>COM_CAT#32_3</th>\n",
       "      <th>COM_CAT#33_1</th>\n",
       "      <th>COM_CAT#33_2</th>\n",
       "      <th>COM_CAT#33_3</th>\n",
       "      <th>COM_CAT#34_1</th>\n",
       "      <th>COM_CAT#34_2</th>\n",
       "      <th>COM_CAT#34_3</th>\n",
       "    </tr>\n",
       "  </thead>\n",
       "  <tbody>\n",
       "    <tr>\n",
       "      <th>0</th>\n",
       "      <td>6184</td>\n",
       "      <td>1900-04-02</td>\n",
       "      <td>4.0</td>\n",
       "      <td>4.0</td>\n",
       "      <td>4.0</td>\n",
       "      <td>50.0</td>\n",
       "      <td>50.0</td>\n",
       "      <td>50.0</td>\n",
       "      <td>5.0</td>\n",
       "      <td>5.0</td>\n",
       "      <td>...</td>\n",
       "      <td>0.051047</td>\n",
       "      <td>0.027579</td>\n",
       "      <td>0.027579</td>\n",
       "      <td>0.027579</td>\n",
       "      <td>0.103896</td>\n",
       "      <td>0.103896</td>\n",
       "      <td>0.103896</td>\n",
       "      <td>9.0</td>\n",
       "      <td>9.0</td>\n",
       "      <td>9.0</td>\n",
       "    </tr>\n",
       "    <tr>\n",
       "      <th>1</th>\n",
       "      <td>5175</td>\n",
       "      <td>1900-04-18</td>\n",
       "      <td>3.0</td>\n",
       "      <td>3.0</td>\n",
       "      <td>3.0</td>\n",
       "      <td>24.0</td>\n",
       "      <td>24.0</td>\n",
       "      <td>24.0</td>\n",
       "      <td>5.0</td>\n",
       "      <td>5.0</td>\n",
       "      <td>...</td>\n",
       "      <td>0.037340</td>\n",
       "      <td>0.027579</td>\n",
       "      <td>0.027579</td>\n",
       "      <td>0.027579</td>\n",
       "      <td>0.103896</td>\n",
       "      <td>0.103896</td>\n",
       "      <td>0.103896</td>\n",
       "      <td>2.0</td>\n",
       "      <td>2.0</td>\n",
       "      <td>2.0</td>\n",
       "    </tr>\n",
       "    <tr>\n",
       "      <th>2</th>\n",
       "      <td>5478</td>\n",
       "      <td>1900-04-02</td>\n",
       "      <td>6.0</td>\n",
       "      <td>6.0</td>\n",
       "      <td>6.0</td>\n",
       "      <td>55.0</td>\n",
       "      <td>55.0</td>\n",
       "      <td>55.0</td>\n",
       "      <td>5.0</td>\n",
       "      <td>5.0</td>\n",
       "      <td>...</td>\n",
       "      <td>0.021352</td>\n",
       "      <td>0.027579</td>\n",
       "      <td>0.027579</td>\n",
       "      <td>0.027579</td>\n",
       "      <td>0.103896</td>\n",
       "      <td>0.103896</td>\n",
       "      <td>0.103896</td>\n",
       "      <td>1.0</td>\n",
       "      <td>1.0</td>\n",
       "      <td>1.0</td>\n",
       "    </tr>\n",
       "    <tr>\n",
       "      <th>3</th>\n",
       "      <td>7807</td>\n",
       "      <td>1900-04-14</td>\n",
       "      <td>6.0</td>\n",
       "      <td>6.0</td>\n",
       "      <td>6.0</td>\n",
       "      <td>71.0</td>\n",
       "      <td>71.0</td>\n",
       "      <td>71.0</td>\n",
       "      <td>17.0</td>\n",
       "      <td>9.0</td>\n",
       "      <td>...</td>\n",
       "      <td>0.065831</td>\n",
       "      <td>0.027579</td>\n",
       "      <td>0.027579</td>\n",
       "      <td>0.027579</td>\n",
       "      <td>0.103896</td>\n",
       "      <td>0.103896</td>\n",
       "      <td>0.103896</td>\n",
       "      <td>NaN</td>\n",
       "      <td>NaN</td>\n",
       "      <td>NaN</td>\n",
       "    </tr>\n",
       "    <tr>\n",
       "      <th>4</th>\n",
       "      <td>5640</td>\n",
       "      <td>1900-04-03</td>\n",
       "      <td>8.0</td>\n",
       "      <td>8.0</td>\n",
       "      <td>8.0</td>\n",
       "      <td>40.0</td>\n",
       "      <td>40.0</td>\n",
       "      <td>40.0</td>\n",
       "      <td>5.0</td>\n",
       "      <td>5.0</td>\n",
       "      <td>...</td>\n",
       "      <td>0.071405</td>\n",
       "      <td>0.027579</td>\n",
       "      <td>0.027579</td>\n",
       "      <td>0.027579</td>\n",
       "      <td>0.103896</td>\n",
       "      <td>0.103896</td>\n",
       "      <td>0.103896</td>\n",
       "      <td>2.0</td>\n",
       "      <td>2.0</td>\n",
       "      <td>2.0</td>\n",
       "    </tr>\n",
       "  </tbody>\n",
       "</table>\n",
       "<p>5 rows × 104 columns</p>\n",
       "</div>"
      ],
      "text/plain": [
       "   SK_ID CONTACT_DATE  COM_CAT#1_1  COM_CAT#1_2  COM_CAT#1_3  COM_CAT#2_1  \\\n",
       "0   6184   1900-04-02          4.0          4.0          4.0         50.0   \n",
       "1   5175   1900-04-18          3.0          3.0          3.0         24.0   \n",
       "2   5478   1900-04-02          6.0          6.0          6.0         55.0   \n",
       "3   7807   1900-04-14          6.0          6.0          6.0         71.0   \n",
       "4   5640   1900-04-03          8.0          8.0          8.0         40.0   \n",
       "\n",
       "   COM_CAT#2_2  COM_CAT#2_3  COM_CAT#3_1  COM_CAT#3_2      ...       \\\n",
       "0         50.0         50.0          5.0          5.0      ...        \n",
       "1         24.0         24.0          5.0          5.0      ...        \n",
       "2         55.0         55.0          5.0          5.0      ...        \n",
       "3         71.0         71.0         17.0          9.0      ...        \n",
       "4         40.0         40.0          5.0          5.0      ...        \n",
       "\n",
       "   COM_CAT#31_3  COM_CAT#32_1  COM_CAT#32_2  COM_CAT#32_3  COM_CAT#33_1  \\\n",
       "0      0.051047      0.027579      0.027579      0.027579      0.103896   \n",
       "1      0.037340      0.027579      0.027579      0.027579      0.103896   \n",
       "2      0.021352      0.027579      0.027579      0.027579      0.103896   \n",
       "3      0.065831      0.027579      0.027579      0.027579      0.103896   \n",
       "4      0.071405      0.027579      0.027579      0.027579      0.103896   \n",
       "\n",
       "   COM_CAT#33_2  COM_CAT#33_3  COM_CAT#34_1  COM_CAT#34_2  COM_CAT#34_3  \n",
       "0      0.103896      0.103896           9.0           9.0           9.0  \n",
       "1      0.103896      0.103896           2.0           2.0           2.0  \n",
       "2      0.103896      0.103896           1.0           1.0           1.0  \n",
       "3      0.103896      0.103896           NaN           NaN           NaN  \n",
       "4      0.103896      0.103896           2.0           2.0           2.0  \n",
       "\n",
       "[5 rows x 104 columns]"
      ]
     },
     "execution_count": 50,
     "metadata": {},
     "output_type": "execute_result"
    }
   ],
   "source": [
    "test_pivot.head()"
   ]
  },
  {
   "cell_type": "code",
   "execution_count": 41,
   "metadata": {},
   "outputs": [],
   "source": [
    "tr_pivot.columns = ['_'.join(col) for col in tr_pivot.columns]"
   ]
  },
  {
   "cell_type": "code",
   "execution_count": 42,
   "metadata": {},
   "outputs": [],
   "source": [
    "test_pivot.columns = ['_'.join(col) for col in test_pivot.columns]"
   ]
  },
  {
   "cell_type": "code",
   "execution_count": 43,
   "metadata": {},
   "outputs": [],
   "source": [
    "tr_pivot.reset_index(inplace=True)"
   ]
  },
  {
   "cell_type": "code",
   "execution_count": 44,
   "metadata": {},
   "outputs": [],
   "source": [
    "test_pivot.reset_index(inplace=True)"
   ]
  },
  {
   "cell_type": "code",
   "execution_count": 45,
   "metadata": {},
   "outputs": [],
   "source": [
    "# add contact date and labels\n",
    "tr_pivot = pd.merge(tr_pivot, train_ids, on='SK_ID')"
   ]
  },
  {
   "cell_type": "code",
   "execution_count": 46,
   "metadata": {},
   "outputs": [],
   "source": [
    "test_pivot = pd.merge(test_ids, test_pivot, on='SK_ID', how='left')"
   ]
  },
  {
   "cell_type": "code",
   "execution_count": 47,
   "metadata": {},
   "outputs": [],
   "source": [
    "tr_pivot['CONTACT_DATE'] = pd.to_datetime(tr_pivot['CONTACT_DATE'], format='%d.%m')"
   ]
  },
  {
   "cell_type": "code",
   "execution_count": 48,
   "metadata": {},
   "outputs": [],
   "source": [
    "test_pivot['CONTACT_DATE'] = pd.to_datetime(test_pivot['CONTACT_DATE'], format='%d.%m')"
   ]
  },
  {
   "cell_type": "markdown",
   "metadata": {},
   "source": [
    "#### Process with fastai structured"
   ]
  },
  {
   "cell_type": "code",
   "execution_count": 51,
   "metadata": {},
   "outputs": [],
   "source": [
    "tr_pivot['CONTACT_DATE'] = tr_pivot['CONTACT_DATE'].dt.day\n",
    "test_pivot['CONTACT_DATE'] = test_pivot['CONTACT_DATE'].dt.day"
   ]
  },
  {
   "cell_type": "code",
   "execution_count": 52,
   "metadata": {},
   "outputs": [],
   "source": [
    "train_cats(tr_pivot)"
   ]
  },
  {
   "cell_type": "code",
   "execution_count": 53,
   "metadata": {},
   "outputs": [],
   "source": [
    "apply_cats(test_pivot, tr_pivot)"
   ]
  },
  {
   "cell_type": "code",
   "execution_count": 54,
   "metadata": {},
   "outputs": [
    {
     "name": "stdout",
     "output_type": "stream",
     "text": [
      "<class 'pandas.core.frame.DataFrame'>\n",
      "Int64Index: 4114 entries, 0 to 4113\n",
      "Columns: 105 entries, SK_ID to CONTACT_DATE\n",
      "dtypes: category(3), float64(99), int64(3)\n",
      "memory usage: 3.2 MB\n"
     ]
    }
   ],
   "source": [
    "tr_pivot.info()"
   ]
  },
  {
   "cell_type": "code",
   "execution_count": 55,
   "metadata": {},
   "outputs": [
    {
     "name": "stdout",
     "output_type": "stream",
     "text": [
      "<class 'pandas.core.frame.DataFrame'>\n",
      "Int64Index: 5221 entries, 0 to 5220\n",
      "Columns: 104 entries, SK_ID to COM_CAT#34_3\n",
      "dtypes: category(3), float64(99), int64(2)\n",
      "memory usage: 4.1 MB\n"
     ]
    }
   ],
   "source": [
    "test_pivot.info()"
   ]
  },
  {
   "cell_type": "code",
   "execution_count": 56,
   "metadata": {},
   "outputs": [],
   "source": [
    "os.makedirs('data/tmp', exist_ok=True)"
   ]
  },
  {
   "cell_type": "code",
   "execution_count": 157,
   "metadata": {},
   "outputs": [],
   "source": [
    "tr_pivot.to_feather('data/tmp/train-features-raw')"
   ]
  },
  {
   "cell_type": "code",
   "execution_count": 158,
   "metadata": {},
   "outputs": [],
   "source": [
    "test_pivot.to_feather('data/tmp/test-features-raw')"
   ]
  },
  {
   "cell_type": "markdown",
   "metadata": {},
   "source": [
    "### Train"
   ]
  },
  {
   "cell_type": "code",
   "execution_count": 66,
   "metadata": {},
   "outputs": [],
   "source": [
    "train_mnth.sort_values(by='SK_ID', inplace=True)"
   ]
  },
  {
   "cell_type": "code",
   "execution_count": 67,
   "metadata": {},
   "outputs": [],
   "source": [
    "df, y, nas = proc_df(train_mnth.drop(['SK_ID', 'SNAP_DATE'], axis=1), 'CSI')"
   ]
  },
  {
   "cell_type": "code",
   "execution_count": 68,
   "metadata": {},
   "outputs": [],
   "source": [
    "test, _, _ = proc_df(test_mnth.drop(['SK_ID', 'SNAP_DATE'], axis=1), na_dict=nas)"
   ]
  },
  {
   "cell_type": "code",
   "execution_count": 69,
   "metadata": {},
   "outputs": [
    {
     "data": {
      "text/plain": [
       "0.9783333333333334"
      ]
     },
     "execution_count": 69,
     "metadata": {},
     "output_type": "execute_result"
    }
   ],
   "source": [
    "m = RandomForestClassifier(n_jobs=-1, n_estimators=10)\n",
    "m.fit(df, y)\n",
    "m.score(df, y)"
   ]
  },
  {
   "cell_type": "code",
   "execution_count": 70,
   "metadata": {},
   "outputs": [],
   "source": [
    "def split_vals(a,n): return a[:n], a[n:]\n",
    "n_valid = 400\n",
    "n_trn = len(df)-n_valid\n",
    "X_train, X_valid = split_vals(df, n_trn)\n",
    "y_train, y_valid = split_vals(y, n_trn)"
   ]
  },
  {
   "cell_type": "code",
   "execution_count": 83,
   "metadata": {
    "scrolled": true
   },
   "outputs": [
    {
     "data": {
      "text/plain": [
       "((400, 40), (3800, 40), (5221, 40))"
      ]
     },
     "execution_count": 83,
     "metadata": {},
     "output_type": "execute_result"
    }
   ],
   "source": [
    "X_valid.shape, X_train.shape, test.shape"
   ]
  },
  {
   "cell_type": "code",
   "execution_count": 82,
   "metadata": {},
   "outputs": [
    {
     "data": {
      "text/plain": [
       "(0.1568421052631579, 0.14)"
      ]
     },
     "execution_count": 82,
     "metadata": {},
     "output_type": "execute_result"
    }
   ],
   "source": [
    "y_train.mean(), y_valid.mean()"
   ]
  },
  {
   "cell_type": "code",
   "execution_count": 72,
   "metadata": {},
   "outputs": [],
   "source": [
    "def print_score(m):\n",
    "    res = [metrics.roc_auc_score(y_train, m.predict_proba(X_train)[:,1]), \n",
    "           metrics.roc_auc_score(y_valid, m.predict_proba(X_valid)[:,1]),\n",
    "           m.score(X_train, y_train), m.score(X_valid, y_valid)]\n",
    "    \n",
    "    if hasattr(m, 'oob_score_'): res.append(m.oob_score_)\n",
    "    print(res)"
   ]
  },
  {
   "cell_type": "code",
   "execution_count": 96,
   "metadata": {},
   "outputs": [
    {
     "name": "stdout",
     "output_type": "stream",
     "text": [
      "[0.9897443631701983, 0.5391922757475084, 0.8431578947368421, 0.86, 0.8431578947368421]\n"
     ]
    }
   ],
   "source": [
    "m = RandomForestClassifier(n_jobs=-1, n_estimators=100, min_samples_leaf=12, max_features=0.8, \n",
    "                           random_state=111, oob_score=True)\n",
    "m.fit(X_train, y_train)\n",
    "print_score(m)"
   ]
  },
  {
   "cell_type": "code",
   "execution_count": 90,
   "metadata": {},
   "outputs": [
    {
     "name": "stdout",
     "output_type": "stream",
     "text": [
      "[0.999570063427427, 0.4513081395348837, 0.9457894736842105, 0.855]\n"
     ]
    }
   ],
   "source": [
    "m = lgb.LGBMClassifier()\n",
    "m.fit(X_train, y_train)\n",
    "print_score(m)"
   ]
  },
  {
   "cell_type": "markdown",
   "metadata": {},
   "source": [
    "### Feature Importance "
   ]
  },
  {
   "cell_type": "code",
   "execution_count": 97,
   "metadata": {},
   "outputs": [],
   "source": [
    "fi = rf_feat_importance(m, df)"
   ]
  },
  {
   "cell_type": "code",
   "execution_count": 98,
   "metadata": {},
   "outputs": [
    {
     "data": {
      "text/html": [
       "<div>\n",
       "<style scoped>\n",
       "    .dataframe tbody tr th:only-of-type {\n",
       "        vertical-align: middle;\n",
       "    }\n",
       "\n",
       "    .dataframe tbody tr th {\n",
       "        vertical-align: top;\n",
       "    }\n",
       "\n",
       "    .dataframe thead th {\n",
       "        text-align: right;\n",
       "    }\n",
       "</style>\n",
       "<table border=\"1\" class=\"dataframe\">\n",
       "  <thead>\n",
       "    <tr style=\"text-align: right;\">\n",
       "      <th></th>\n",
       "      <th>cols</th>\n",
       "      <th>imp</th>\n",
       "    </tr>\n",
       "  </thead>\n",
       "  <tbody>\n",
       "    <tr>\n",
       "      <th>7</th>\n",
       "      <td>COM_CAT#8</td>\n",
       "      <td>0.080386</td>\n",
       "    </tr>\n",
       "    <tr>\n",
       "      <th>13</th>\n",
       "      <td>RENT_CHANNEL</td>\n",
       "      <td>0.078486</td>\n",
       "    </tr>\n",
       "    <tr>\n",
       "      <th>30</th>\n",
       "      <td>COM_CAT#31</td>\n",
       "      <td>0.072385</td>\n",
       "    </tr>\n",
       "    <tr>\n",
       "      <th>26</th>\n",
       "      <td>COM_CAT#27</td>\n",
       "      <td>0.071065</td>\n",
       "    </tr>\n",
       "    <tr>\n",
       "      <th>1</th>\n",
       "      <td>COM_CAT#2</td>\n",
       "      <td>0.061038</td>\n",
       "    </tr>\n",
       "    <tr>\n",
       "      <th>34</th>\n",
       "      <td>CONTACT_DATE</td>\n",
       "      <td>0.056479</td>\n",
       "    </tr>\n",
       "    <tr>\n",
       "      <th>22</th>\n",
       "      <td>COM_CAT#23</td>\n",
       "      <td>0.054105</td>\n",
       "    </tr>\n",
       "    <tr>\n",
       "      <th>10</th>\n",
       "      <td>REVENUE</td>\n",
       "      <td>0.052932</td>\n",
       "    </tr>\n",
       "    <tr>\n",
       "      <th>15</th>\n",
       "      <td>COST</td>\n",
       "      <td>0.052416</td>\n",
       "    </tr>\n",
       "    <tr>\n",
       "      <th>12</th>\n",
       "      <td>VAS</td>\n",
       "      <td>0.050201</td>\n",
       "    </tr>\n",
       "  </tbody>\n",
       "</table>\n",
       "</div>"
      ],
      "text/plain": [
       "            cols       imp\n",
       "7      COM_CAT#8  0.080386\n",
       "13  RENT_CHANNEL  0.078486\n",
       "30    COM_CAT#31  0.072385\n",
       "26    COM_CAT#27  0.071065\n",
       "1      COM_CAT#2  0.061038\n",
       "34  CONTACT_DATE  0.056479\n",
       "22    COM_CAT#23  0.054105\n",
       "10       REVENUE  0.052932\n",
       "15          COST  0.052416\n",
       "12           VAS  0.050201"
      ]
     },
     "execution_count": 98,
     "metadata": {},
     "output_type": "execute_result"
    }
   ],
   "source": [
    "fi[:10]"
   ]
  },
  {
   "cell_type": "code",
   "execution_count": 99,
   "metadata": {},
   "outputs": [
    {
     "data": {
      "image/png": "[encoded data removed]",
      "text/plain": [
       "<Figure size 720x432 with 1 Axes>"
      ]
     },
     "metadata": {},
     "output_type": "display_data"
    }
   ],
   "source": [
    "fi.plot('cols', 'imp', figsize=(10,6), legend=False);"
   ]
  },
  {
   "cell_type": "code",
   "execution_count": 100,
   "metadata": {},
   "outputs": [],
   "source": [
    "def plot_fi(fi): return fi.plot('cols', 'imp', 'barh', figsize=(12,7), legend=False)"
   ]
  },
  {
   "cell_type": "code",
   "execution_count": 101,
   "metadata": {},
   "outputs": [
    {
     "data": {
      "image/png": "[encoded data removed]",
      "text/plain": [
       "<Figure size 864x504 with 1 Axes>"
      ]
     },
     "metadata": {},
     "output_type": "display_data"
    }
   ],
   "source": [
    "plot_fi(fi[:30]);"
   ]
  },
  {
   "cell_type": "code",
   "execution_count": 102,
   "metadata": {
    "scrolled": true
   },
   "outputs": [
    {
     "data": {
      "text/html": [
       "<div>\n",
       "<style scoped>\n",
       "    .dataframe tbody tr th:only-of-type {\n",
       "        vertical-align: middle;\n",
       "    }\n",
       "\n",
       "    .dataframe tbody tr th {\n",
       "        vertical-align: top;\n",
       "    }\n",
       "\n",
       "    .dataframe thead th {\n",
       "        text-align: right;\n",
       "    }\n",
       "</style>\n",
       "<table border=\"1\" class=\"dataframe\">\n",
       "  <thead>\n",
       "    <tr style=\"text-align: right;\">\n",
       "      <th></th>\n",
       "      <th>imp</th>\n",
       "    </tr>\n",
       "  </thead>\n",
       "  <tbody>\n",
       "    <tr>\n",
       "      <th>count</th>\n",
       "      <td>40.000000</td>\n",
       "    </tr>\n",
       "    <tr>\n",
       "      <th>mean</th>\n",
       "      <td>0.025000</td>\n",
       "    </tr>\n",
       "    <tr>\n",
       "      <th>std</th>\n",
       "      <td>0.027262</td>\n",
       "    </tr>\n",
       "    <tr>\n",
       "      <th>min</th>\n",
       "      <td>0.000000</td>\n",
       "    </tr>\n",
       "    <tr>\n",
       "      <th>25%</th>\n",
       "      <td>0.000054</td>\n",
       "    </tr>\n",
       "    <tr>\n",
       "      <th>50%</th>\n",
       "      <td>0.013903</td>\n",
       "    </tr>\n",
       "    <tr>\n",
       "      <th>75%</th>\n",
       "      <td>0.048099</td>\n",
       "    </tr>\n",
       "    <tr>\n",
       "      <th>max</th>\n",
       "      <td>0.080386</td>\n",
       "    </tr>\n",
       "  </tbody>\n",
       "</table>\n",
       "</div>"
      ],
      "text/plain": [
       "             imp\n",
       "count  40.000000\n",
       "mean    0.025000\n",
       "std     0.027262\n",
       "min     0.000000\n",
       "25%     0.000054\n",
       "50%     0.013903\n",
       "75%     0.048099\n",
       "max     0.080386"
      ]
     },
     "execution_count": 102,
     "metadata": {},
     "output_type": "execute_result"
    }
   ],
   "source": [
    "fi.describe()"
   ]
  },
  {
   "cell_type": "code",
   "execution_count": 103,
   "metadata": {},
   "outputs": [
    {
     "data": {
      "text/plain": [
       "17"
      ]
     },
     "execution_count": 103,
     "metadata": {},
     "output_type": "execute_result"
    }
   ],
   "source": [
    "to_keep = fi[fi.imp>0.02].cols; len(to_keep)"
   ]
  },
  {
   "cell_type": "code",
   "execution_count": 104,
   "metadata": {},
   "outputs": [],
   "source": [
    "df_keep = df[to_keep].copy()\n",
    "X_train, X_valid = split_vals(df_keep, n_trn)"
   ]
  },
  {
   "cell_type": "code",
   "execution_count": 105,
   "metadata": {},
   "outputs": [
    {
     "name": "stdout",
     "output_type": "stream",
     "text": [
      "[0.9900601387527336, 0.5106935215946844, 0.8431578947368421, 0.86, 0.8431578947368421]\n"
     ]
    }
   ],
   "source": [
    "m = RandomForestClassifier(n_jobs=-1, n_estimators=100, min_samples_leaf=12, max_features=0.8, \n",
    "                           random_state=111, oob_score=True)\n",
    "m.fit(X_train, y_train)\n",
    "print_score(m)"
   ]
  },
  {
   "cell_type": "code",
   "execution_count": 111,
   "metadata": {},
   "outputs": [
    {
     "name": "stdout",
     "output_type": "stream",
     "text": [
      "[0.9995161249780057, 0.459250415282392, 0.9431578947368421, 0.8525]\n"
     ]
    }
   ],
   "source": [
    "m = lgb.LGBMClassifier()\n",
    "m.fit(X_train, y_train)\n",
    "print_score(m)"
   ]
  },
  {
   "cell_type": "markdown",
   "metadata": {},
   "source": [
    "### Predict on test and submit"
   ]
  },
  {
   "cell_type": "code",
   "execution_count": 106,
   "metadata": {},
   "outputs": [
    {
     "data": {
      "text/plain": [
       "RandomForestClassifier(bootstrap=True, class_weight=None, criterion='gini',\n",
       "            max_depth=None, max_features=0.8, max_leaf_nodes=None,\n",
       "            min_impurity_decrease=0.0, min_impurity_split=None,\n",
       "            min_samples_leaf=12, min_samples_split=2,\n",
       "            min_weight_fraction_leaf=0.0, n_estimators=100, n_jobs=-1,\n",
       "            oob_score=False, random_state=111, verbose=0, warm_start=False)"
      ]
     },
     "execution_count": 106,
     "metadata": {},
     "output_type": "execute_result"
    }
   ],
   "source": [
    "m = RandomForestClassifier(n_jobs=-1, n_estimators=100, min_samples_leaf=12, max_features=0.8, \n",
    "                           random_state=111)\n",
    "m.fit(df_keep, y)"
   ]
  },
  {
   "cell_type": "code",
   "execution_count": 112,
   "metadata": {},
   "outputs": [
    {
     "data": {
      "text/plain": [
       "LGBMClassifier(boosting_type='gbdt', class_weight=None, colsample_bytree=1.0,\n",
       "        learning_rate=0.1, max_depth=-1, min_child_samples=20,\n",
       "        min_child_weight=0.001, min_split_gain=0.0, n_estimators=100,\n",
       "        n_jobs=-1, num_leaves=31, objective=None, random_state=None,\n",
       "        reg_alpha=0.0, reg_lambda=0.0, silent=True, subsample=1.0,\n",
       "        subsample_for_bin=200000, subsample_freq=0)"
      ]
     },
     "execution_count": 112,
     "metadata": {},
     "output_type": "execute_result"
    }
   ],
   "source": [
    "m = lgb.LGBMClassifier()\n",
    "m.fit(df_keep, y)"
   ]
  },
  {
   "cell_type": "code",
   "execution_count": 113,
   "metadata": {},
   "outputs": [],
   "source": [
    "pred_y = m.predict_proba(test[to_keep])[:,1]"
   ]
  },
  {
   "cell_type": "code",
   "execution_count": 114,
   "metadata": {},
   "outputs": [],
   "source": [
    "subm = pd.DataFrame(pred_y)"
   ]
  },
  {
   "cell_type": "code",
   "execution_count": 115,
   "metadata": {},
   "outputs": [
    {
     "data": {
      "text/plain": [
       "(5221, 1)"
      ]
     },
     "execution_count": 115,
     "metadata": {},
     "output_type": "execute_result"
    }
   ],
   "source": [
    "subm.shape"
   ]
  },
  {
   "cell_type": "code",
   "execution_count": 116,
   "metadata": {},
   "outputs": [],
   "source": [
    "subm.to_csv('submits/new_lgb_1mnth_fi.csv', index=False, header=False)"
   ]
  },
  {
   "cell_type": "code",
   "execution_count": null,
   "metadata": {},
   "outputs": [],
   "source": []
  }
 ],
 "metadata": {
  "kernelspec": {
   "display_name": "Python 3",
   "language": "python",
   "name": "python3"
  },
  "language_info": {
   "codemirror_mode": {
    "name": "ipython",
    "version": 3
   },
   "file_extension": ".py",
   "mimetype": "text/x-python",
   "name": "python",
   "nbconvert_exporter": "python",
   "pygments_lexer": "ipython3",
   "version": "3.6.5"
  },
  "toc": {
   "base_numbering": 1,
   "nav_menu": {},
   "number_sections": true,
   "sideBar": true,
   "skip_h1_title": false,
   "title_cell": "Table of Contents",
   "title_sidebar": "Contents",
   "toc_cell": false,
   "toc_position": {},
   "toc_section_display": true,
   "toc_window_display": false
  }
 },
 "nbformat": 4,
 "nbformat_minor": 2
}
