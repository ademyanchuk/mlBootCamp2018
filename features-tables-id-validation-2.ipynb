{
 "cells": [
  {
   "cell_type": "markdown",
   "metadata": {},
   "source": [
    "### Imports "
   ]
  },
  {
   "cell_type": "code",
   "execution_count": 1,
   "metadata": {},
   "outputs": [],
   "source": [
    "%load_ext autoreload\n",
    "%autoreload 2\n",
    "\n",
    "%matplotlib inline"
   ]
  },
  {
   "cell_type": "code",
   "execution_count": 2,
   "metadata": {},
   "outputs": [],
   "source": [
    "from fastai.imports import *\n",
    "from fastai.structured import *\n",
    "\n",
    "from pandas_summary import DataFrameSummary\n",
    "from sklearn.ensemble import RandomForestRegressor, RandomForestClassifier\n",
    "from IPython.display import display\n",
    "\n",
    "from sklearn import metrics"
   ]
  },
  {
   "cell_type": "code",
   "execution_count": 78,
   "metadata": {},
   "outputs": [],
   "source": [
    "from sklearn.linear_model import LogisticRegression"
   ]
  },
  {
   "cell_type": "code",
   "execution_count": 3,
   "metadata": {},
   "outputs": [],
   "source": [
    "import lightgbm as lgb"
   ]
  },
  {
   "cell_type": "code",
   "execution_count": 4,
   "metadata": {},
   "outputs": [],
   "source": [
    "from scipy.stats import ttest_rel"
   ]
  },
  {
   "cell_type": "markdown",
   "metadata": {},
   "source": [
    "### Const and Func"
   ]
  },
  {
   "cell_type": "code",
   "execution_count": 5,
   "metadata": {},
   "outputs": [],
   "source": [
    "np.random.seed(42)"
   ]
  },
  {
   "cell_type": "code",
   "execution_count": 6,
   "metadata": {},
   "outputs": [],
   "source": [
    "path = Path('data/dataset/')"
   ]
  },
  {
   "cell_type": "code",
   "execution_count": 7,
   "metadata": {
    "scrolled": true
   },
   "outputs": [
    {
     "data": {
      "text/plain": [
       "PosixPath('data/dataset')"
      ]
     },
     "execution_count": 7,
     "metadata": {},
     "output_type": "execute_result"
    }
   ],
   "source": [
    "path"
   ]
  },
  {
   "cell_type": "code",
   "execution_count": 8,
   "metadata": {
    "scrolled": true
   },
   "outputs": [
    {
     "name": "stdout",
     "output_type": "stream",
     "text": [
      "!dataset_fields_description.xlsx sample-submit-zero.csv\r\n",
      "bs_avg_kpi.csv                   \u001b[1m\u001b[36mtest\u001b[m\u001b[m\r\n",
      "bs_chnn_kpi.csv                  \u001b[1m\u001b[36mtrain\u001b[m\u001b[m\r\n"
     ]
    }
   ],
   "source": [
    "! ls {path}"
   ]
  },
  {
   "cell_type": "code",
   "execution_count": 9,
   "metadata": {
    "scrolled": true
   },
   "outputs": [
    {
     "name": "stdout",
     "output_type": "stream",
     "text": [
      "subs_bs_consumption_train.csv   subs_csi_train.csv\r\n",
      "subs_bs_data_session_train.csv  subs_features_train.csv\r\n",
      "subs_bs_voice_session_train.csv\r\n"
     ]
    }
   ],
   "source": [
    "! ls {path/'train'}"
   ]
  },
  {
   "cell_type": "code",
   "execution_count": 10,
   "metadata": {},
   "outputs": [],
   "source": [
    "def display_all(df):\n",
    "    with pd.option_context(\"display.max_rows\", 1000, \"display.max_columns\", 1000): \n",
    "        display(df)"
   ]
  },
  {
   "cell_type": "code",
   "execution_count": 11,
   "metadata": {},
   "outputs": [],
   "source": [
    "def margin_of_error(z, data):\n",
    "    n, std = len(data), data.std()\n",
    "    z_critical = scipy.stats.norm.ppf(q=z)\n",
    "    return z_critical * (std / np.sqrt(n))"
   ]
  },
  {
   "cell_type": "markdown",
   "metadata": {},
   "source": [
    "### Loads"
   ]
  },
  {
   "cell_type": "code",
   "execution_count": 12,
   "metadata": {},
   "outputs": [],
   "source": [
    "train_ids = pd.read_csv(path/'train/subs_csi_train.csv', sep=';')"
   ]
  },
  {
   "cell_type": "code",
   "execution_count": 13,
   "metadata": {},
   "outputs": [],
   "source": [
    "test_ids = pd.read_csv(path/'test/subs_csi_test.csv', sep=';')"
   ]
  },
  {
   "cell_type": "code",
   "execution_count": 14,
   "metadata": {},
   "outputs": [],
   "source": [
    "features_train = pd.read_csv(path/'train/subs_features_train.csv', sep=';', decimal=',', \n",
    "                              parse_dates=['SNAP_DATE'], infer_datetime_format=True, dayfirst=True)"
   ]
  },
  {
   "cell_type": "code",
   "execution_count": 15,
   "metadata": {},
   "outputs": [],
   "source": [
    "features_test = pd.read_csv(path/'test/subs_features_test.csv', sep=';', decimal=',', \n",
    "                              parse_dates=['SNAP_DATE'], infer_datetime_format=True, dayfirst=True)"
   ]
  },
  {
   "cell_type": "code",
   "execution_count": 16,
   "metadata": {},
   "outputs": [],
   "source": [
    "# convert to months (int)\n",
    "features_train.SNAP_DATE = features_train.SNAP_DATE.dt.month"
   ]
  },
  {
   "cell_type": "code",
   "execution_count": 17,
   "metadata": {},
   "outputs": [],
   "source": [
    "# convert to months (int)\n",
    "features_test.SNAP_DATE = features_test.SNAP_DATE.dt.month"
   ]
  },
  {
   "cell_type": "code",
   "execution_count": 18,
   "metadata": {},
   "outputs": [],
   "source": [
    "consum_train = pd.read_csv(path/'train/subs_bs_consumption_train.csv', sep=';', decimal=',')"
   ]
  },
  {
   "cell_type": "code",
   "execution_count": 19,
   "metadata": {},
   "outputs": [],
   "source": [
    "consum_test = pd.read_csv(path/'test/subs_bs_consumption_test.csv', sep=';', decimal=',')"
   ]
  },
  {
   "cell_type": "code",
   "execution_count": 20,
   "metadata": {},
   "outputs": [],
   "source": [
    "consum_train['MON'] = pd.to_datetime(consum_train['MON'], format='%d.%m').dt.month\n",
    "consum_test['MON'] = pd.to_datetime(consum_test['MON'], format='%d.%m').dt.month"
   ]
  },
  {
   "cell_type": "code",
   "execution_count": 21,
   "metadata": {
    "scrolled": true
   },
   "outputs": [
    {
     "data": {
      "text/html": [
       "<div>\n",
       "<style scoped>\n",
       "    .dataframe tbody tr th:only-of-type {\n",
       "        vertical-align: middle;\n",
       "    }\n",
       "\n",
       "    .dataframe tbody tr th {\n",
       "        vertical-align: top;\n",
       "    }\n",
       "\n",
       "    .dataframe thead th {\n",
       "        text-align: right;\n",
       "    }\n",
       "</style>\n",
       "<table border=\"1\" class=\"dataframe\">\n",
       "  <thead>\n",
       "    <tr style=\"text-align: right;\">\n",
       "      <th></th>\n",
       "      <th>SK_ID</th>\n",
       "      <th>CELL_LAC_ID</th>\n",
       "      <th>MON</th>\n",
       "      <th>SUM_MINUTES</th>\n",
       "      <th>SUM_DATA_MB</th>\n",
       "      <th>SUM_DATA_MIN</th>\n",
       "    </tr>\n",
       "  </thead>\n",
       "  <tbody>\n",
       "    <tr>\n",
       "      <th>1092539</th>\n",
       "      <td>3090</td>\n",
       "      <td>2873</td>\n",
       "      <td>3</td>\n",
       "      <td>0.001530</td>\n",
       "      <td>0.000000</td>\n",
       "      <td>0.000000</td>\n",
       "    </tr>\n",
       "    <tr>\n",
       "      <th>1092540</th>\n",
       "      <td>3090</td>\n",
       "      <td>147674</td>\n",
       "      <td>4</td>\n",
       "      <td>0.000000</td>\n",
       "      <td>0.000027</td>\n",
       "      <td>0.007549</td>\n",
       "    </tr>\n",
       "    <tr>\n",
       "      <th>1092541</th>\n",
       "      <td>3090</td>\n",
       "      <td>242332</td>\n",
       "      <td>4</td>\n",
       "      <td>0.000000</td>\n",
       "      <td>0.000014</td>\n",
       "      <td>0.001468</td>\n",
       "    </tr>\n",
       "    <tr>\n",
       "      <th>1092542</th>\n",
       "      <td>3090</td>\n",
       "      <td>156910</td>\n",
       "      <td>4</td>\n",
       "      <td>0.002667</td>\n",
       "      <td>0.000115</td>\n",
       "      <td>0.011932</td>\n",
       "    </tr>\n",
       "    <tr>\n",
       "      <th>1092543</th>\n",
       "      <td>3090</td>\n",
       "      <td>242062</td>\n",
       "      <td>4</td>\n",
       "      <td>0.000000</td>\n",
       "      <td>0.000017</td>\n",
       "      <td>0.000467</td>\n",
       "    </tr>\n",
       "  </tbody>\n",
       "</table>\n",
       "</div>"
      ],
      "text/plain": [
       "         SK_ID  CELL_LAC_ID  MON  SUM_MINUTES  SUM_DATA_MB  SUM_DATA_MIN\n",
       "1092539   3090         2873    3     0.001530     0.000000      0.000000\n",
       "1092540   3090       147674    4     0.000000     0.000027      0.007549\n",
       "1092541   3090       242332    4     0.000000     0.000014      0.001468\n",
       "1092542   3090       156910    4     0.002667     0.000115      0.011932\n",
       "1092543   3090       242062    4     0.000000     0.000017      0.000467"
      ]
     },
     "execution_count": 21,
     "metadata": {},
     "output_type": "execute_result"
    }
   ],
   "source": [
    "consum_train.tail()"
   ]
  },
  {
   "cell_type": "markdown",
   "metadata": {},
   "source": [
    "### EDA consumption table"
   ]
  },
  {
   "cell_type": "code",
   "execution_count": 50,
   "metadata": {},
   "outputs": [
    {
     "data": {
      "text/plain": [
       "338884"
      ]
     },
     "execution_count": 50,
     "metadata": {},
     "output_type": "execute_result"
    }
   ],
   "source": [
    "consum_train.CELL_LAC_ID.nunique()"
   ]
  },
  {
   "cell_type": "code",
   "execution_count": 51,
   "metadata": {},
   "outputs": [
    {
     "data": {
      "text/plain": [
       "353797"
      ]
     },
     "execution_count": 51,
     "metadata": {},
     "output_type": "execute_result"
    }
   ],
   "source": [
    "consum_test.CELL_LAC_ID.nunique()"
   ]
  },
  {
   "cell_type": "code",
   "execution_count": 58,
   "metadata": {},
   "outputs": [
    {
     "data": {
      "text/plain": [
       "108400"
      ]
     },
     "execution_count": 58,
     "metadata": {},
     "output_type": "execute_result"
    }
   ],
   "source": [
    "len(set(consum_train.CELL_LAC_ID) - set(consum_test.CELL_LAC_ID))"
   ]
  },
  {
   "cell_type": "code",
   "execution_count": 53,
   "metadata": {},
   "outputs": [
    {
     "data": {
      "text/plain": [
       "123313"
      ]
     },
     "execution_count": 53,
     "metadata": {},
     "output_type": "execute_result"
    }
   ],
   "source": [
    "len(set(consum_test.CELL_LAC_ID) - set(consum_train.CELL_LAC_ID))"
   ]
  },
  {
   "cell_type": "code",
   "execution_count": 54,
   "metadata": {
    "scrolled": true
   },
   "outputs": [
    {
     "data": {
      "text/html": [
       "<div>\n",
       "<style scoped>\n",
       "    .dataframe tbody tr th:only-of-type {\n",
       "        vertical-align: middle;\n",
       "    }\n",
       "\n",
       "    .dataframe tbody tr th {\n",
       "        vertical-align: top;\n",
       "    }\n",
       "\n",
       "    .dataframe thead tr th {\n",
       "        text-align: left;\n",
       "    }\n",
       "</style>\n",
       "<table border=\"1\" class=\"dataframe\">\n",
       "  <thead>\n",
       "    <tr>\n",
       "      <th></th>\n",
       "      <th>MON</th>\n",
       "      <th colspan=\"2\" halign=\"left\">CELL_LAC_ID</th>\n",
       "    </tr>\n",
       "    <tr>\n",
       "      <th></th>\n",
       "      <th></th>\n",
       "      <th>nunique</th>\n",
       "      <th>count</th>\n",
       "    </tr>\n",
       "  </thead>\n",
       "  <tbody>\n",
       "    <tr>\n",
       "      <th>0</th>\n",
       "      <td>3</td>\n",
       "      <td>212160</td>\n",
       "      <td>349270</td>\n",
       "    </tr>\n",
       "    <tr>\n",
       "      <th>1</th>\n",
       "      <td>4</td>\n",
       "      <td>218279</td>\n",
       "      <td>362017</td>\n",
       "    </tr>\n",
       "    <tr>\n",
       "      <th>2</th>\n",
       "      <td>5</td>\n",
       "      <td>229025</td>\n",
       "      <td>381257</td>\n",
       "    </tr>\n",
       "  </tbody>\n",
       "</table>\n",
       "</div>"
      ],
      "text/plain": [
       "  MON CELL_LAC_ID        \n",
       "          nunique   count\n",
       "0   3      212160  349270\n",
       "1   4      218279  362017\n",
       "2   5      229025  381257"
      ]
     },
     "execution_count": 54,
     "metadata": {},
     "output_type": "execute_result"
    }
   ],
   "source": [
    "consum_train.groupby('MON', as_index=False).agg({'CELL_LAC_ID':['nunique','count']})"
   ]
  },
  {
   "cell_type": "code",
   "execution_count": 55,
   "metadata": {},
   "outputs": [
    {
     "data": {
      "text/html": [
       "<div>\n",
       "<style scoped>\n",
       "    .dataframe tbody tr th:only-of-type {\n",
       "        vertical-align: middle;\n",
       "    }\n",
       "\n",
       "    .dataframe tbody tr th {\n",
       "        vertical-align: top;\n",
       "    }\n",
       "\n",
       "    .dataframe thead tr th {\n",
       "        text-align: left;\n",
       "    }\n",
       "</style>\n",
       "<table border=\"1\" class=\"dataframe\">\n",
       "  <thead>\n",
       "    <tr>\n",
       "      <th></th>\n",
       "      <th>MON</th>\n",
       "      <th colspan=\"2\" halign=\"left\">CELL_LAC_ID</th>\n",
       "    </tr>\n",
       "    <tr>\n",
       "      <th></th>\n",
       "      <th></th>\n",
       "      <th>nunique</th>\n",
       "      <th>count</th>\n",
       "    </tr>\n",
       "  </thead>\n",
       "  <tbody>\n",
       "    <tr>\n",
       "      <th>0</th>\n",
       "      <td>2</td>\n",
       "      <td>222828</td>\n",
       "      <td>377460</td>\n",
       "    </tr>\n",
       "    <tr>\n",
       "      <th>1</th>\n",
       "      <td>3</td>\n",
       "      <td>242741</td>\n",
       "      <td>433549</td>\n",
       "    </tr>\n",
       "    <tr>\n",
       "      <th>2</th>\n",
       "      <td>4</td>\n",
       "      <td>211562</td>\n",
       "      <td>338446</td>\n",
       "    </tr>\n",
       "    <tr>\n",
       "      <th>3</th>\n",
       "      <td>5</td>\n",
       "      <td>28207</td>\n",
       "      <td>29999</td>\n",
       "    </tr>\n",
       "  </tbody>\n",
       "</table>\n",
       "</div>"
      ],
      "text/plain": [
       "  MON CELL_LAC_ID        \n",
       "          nunique   count\n",
       "0   2      222828  377460\n",
       "1   3      242741  433549\n",
       "2   4      211562  338446\n",
       "3   5       28207   29999"
      ]
     },
     "execution_count": 55,
     "metadata": {},
     "output_type": "execute_result"
    }
   ],
   "source": [
    "consum_test.groupby('MON', as_index=False).agg({'CELL_LAC_ID':['nunique','count']})"
   ]
  },
  {
   "cell_type": "markdown",
   "metadata": {},
   "source": [
    "###  Data processing"
   ]
  },
  {
   "cell_type": "markdown",
   "metadata": {},
   "source": [
    "#### Id-based validation"
   ]
  },
  {
   "cell_type": "code",
   "execution_count": 22,
   "metadata": {
    "scrolled": true
   },
   "outputs": [
    {
     "data": {
      "text/plain": [
       "array([10,  7,  6,  1,  8,  4,  5, 11,  9,  2, 12,  3])"
      ]
     },
     "execution_count": 22,
     "metadata": {},
     "output_type": "execute_result"
    }
   ],
   "source": [
    "features_test.SNAP_DATE.unique()"
   ]
  },
  {
   "cell_type": "code",
   "execution_count": 23,
   "metadata": {},
   "outputs": [
    {
     "data": {
      "text/plain": [
       "(array([3, 4, 5]), array([2, 4, 3, 5]))"
      ]
     },
     "execution_count": 23,
     "metadata": {},
     "output_type": "execute_result"
    }
   ],
   "source": [
    "consum_train.MON.unique(), consum_test.MON.unique()"
   ]
  },
  {
   "cell_type": "code",
   "execution_count": 24,
   "metadata": {},
   "outputs": [],
   "source": [
    "raw_train = features_train[features_train.SNAP_DATE.isin([6,7,8,9,10,11,12])].copy()\n",
    "raw_test = features_test[features_test.SNAP_DATE.isin([1,2,3,4,5])].copy()"
   ]
  },
  {
   "cell_type": "code",
   "execution_count": 25,
   "metadata": {},
   "outputs": [],
   "source": [
    "raw_consum_train = consum_train.copy()\n",
    "raw_consum_test = consum_test.copy()"
   ]
  },
  {
   "cell_type": "markdown",
   "metadata": {},
   "source": [
    "### Aggregation"
   ]
  },
  {
   "cell_type": "code",
   "execution_count": 26,
   "metadata": {},
   "outputs": [],
   "source": [
    "for df in (raw_train, raw_test):\n",
    "    df.drop('SNAP_DATE', axis=1, inplace=True)"
   ]
  },
  {
   "cell_type": "code",
   "execution_count": 27,
   "metadata": {},
   "outputs": [
    {
     "name": "stdout",
     "output_type": "stream",
     "text": [
      "====\n",
      "COM_CAT#1 --> 8 int64\n",
      "BASE_TYPE --> 2 int64\n",
      "ACT --> 2 int64\n",
      "COM_CAT#7 --> 9 int64\n",
      "DEVICE_TYPE_ID --> 8 float64\n",
      "INTERNET_TYPE_ID --> 3 float64\n",
      "COM_CAT#24 --> 1 object\n",
      "COM_CAT#25 --> 1 int64\n",
      "COM_CAT#26 --> 2 int64\n",
      "====\n",
      "COM_CAT#1 --> 8 int64\n",
      "BASE_TYPE --> 2 int64\n",
      "ACT --> 2 int64\n",
      "COM_CAT#7 --> 9 int64\n",
      "DEVICE_TYPE_ID --> 8 float64\n",
      "INTERNET_TYPE_ID --> 3 float64\n",
      "COM_CAT#24 --> 7 object\n",
      "COM_CAT#25 --> 2 int64\n",
      "COM_CAT#26 --> 2 int64\n"
     ]
    }
   ],
   "source": [
    "for df in (raw_train,raw_test):\n",
    "    print('====')\n",
    "    for n, c in df.iteritems():\n",
    "        if c.nunique() < 10:\n",
    "            print(n, '-->', c.nunique(), c.dtype)"
   ]
  },
  {
   "cell_type": "code",
   "execution_count": 28,
   "metadata": {},
   "outputs": [],
   "source": [
    "train_cats(raw_train)\n",
    "apply_cats(raw_test, raw_train)"
   ]
  },
  {
   "cell_type": "code",
   "execution_count": 29,
   "metadata": {},
   "outputs": [],
   "source": [
    "tr_gr = raw_train.groupby('SK_ID', as_index=False).agg(['mean', 'max', 'min'])\n",
    "test_gr = raw_test.groupby('SK_ID', as_index=False).agg(['mean','max', 'min'])"
   ]
  },
  {
   "cell_type": "code",
   "execution_count": 30,
   "metadata": {},
   "outputs": [],
   "source": [
    "for df in (tr_gr, test_gr):\n",
    "    df.columns = ['_'.join(c) for c in df.columns]"
   ]
  },
  {
   "cell_type": "code",
   "execution_count": 31,
   "metadata": {},
   "outputs": [],
   "source": [
    "# add contact date and labels\n",
    "tr_gr = pd.merge(tr_gr, train_ids, on='SK_ID')"
   ]
  },
  {
   "cell_type": "code",
   "execution_count": 32,
   "metadata": {},
   "outputs": [],
   "source": [
    "test_gr = pd.merge(test_ids, test_gr, on='SK_ID', how='left')"
   ]
  },
  {
   "cell_type": "code",
   "execution_count": 33,
   "metadata": {},
   "outputs": [],
   "source": [
    "for df in (tr_gr, test_gr):\n",
    "    df['CONTACT_DATE'] = pd.to_datetime(df['CONTACT_DATE'], format='%d.%m').dt.day"
   ]
  },
  {
   "cell_type": "code",
   "execution_count": 34,
   "metadata": {},
   "outputs": [
    {
     "data": {
      "text/plain": [
       "((3976, 102), (5221, 101))"
      ]
     },
     "execution_count": 34,
     "metadata": {},
     "output_type": "execute_result"
    }
   ],
   "source": [
    "(tr_gr.shape,test_gr.shape)"
   ]
  },
  {
   "cell_type": "markdown",
   "metadata": {},
   "source": [
    "####  Aggregation consumption"
   ]
  },
  {
   "cell_type": "code",
   "execution_count": 35,
   "metadata": {},
   "outputs": [],
   "source": [
    "for df in (raw_consum_train, raw_consum_test):\n",
    "    df.drop(['MON', 'CELL_LAC_ID'], axis=1, inplace=True)"
   ]
  },
  {
   "cell_type": "code",
   "execution_count": 36,
   "metadata": {},
   "outputs": [
    {
     "name": "stdout",
     "output_type": "stream",
     "text": [
      "====\n",
      "====\n"
     ]
    }
   ],
   "source": [
    "for df in (raw_consum_train, raw_consum_test):\n",
    "    print('====')\n",
    "    for n, c in df.iteritems():\n",
    "        if c.nunique() < 10:\n",
    "            print(n, '-->', c.nunique(), c.dtype)"
   ]
  },
  {
   "cell_type": "code",
   "execution_count": 37,
   "metadata": {},
   "outputs": [],
   "source": [
    "consum_gr_tr = raw_consum_train.groupby('SK_ID', as_index=False).agg(['mean', 'max', 'min'])\n",
    "consum_gr_test = raw_consum_test.groupby('SK_ID', as_index=False).agg(['mean', 'max', 'min'])"
   ]
  },
  {
   "cell_type": "code",
   "execution_count": 38,
   "metadata": {},
   "outputs": [],
   "source": [
    "for df in (consum_gr_tr, consum_gr_test):\n",
    "    df.columns = ['_'.join(c) for c in df.columns]"
   ]
  },
  {
   "cell_type": "markdown",
   "metadata": {},
   "source": [
    "#### only consumption to feature matrix\n"
   ]
  },
  {
   "cell_type": "code",
   "execution_count": 182,
   "metadata": {},
   "outputs": [],
   "source": [
    "# add contact date and labels\n",
    "tr_gr = pd.merge(consum_gr_tr, train_ids, on='SK_ID')"
   ]
  },
  {
   "cell_type": "code",
   "execution_count": 183,
   "metadata": {},
   "outputs": [],
   "source": [
    "test_gr = pd.merge(test_ids, consum_gr_test, on='SK_ID', how='left')"
   ]
  },
  {
   "cell_type": "code",
   "execution_count": 184,
   "metadata": {},
   "outputs": [],
   "source": [
    "for df in (tr_gr, test_gr):\n",
    "    df['CONTACT_DATE'] = pd.to_datetime(df['CONTACT_DATE'], format='%d.%m').dt.day"
   ]
  },
  {
   "cell_type": "code",
   "execution_count": 185,
   "metadata": {},
   "outputs": [
    {
     "data": {
      "text/html": [
       "<div>\n",
       "<style scoped>\n",
       "    .dataframe tbody tr th:only-of-type {\n",
       "        vertical-align: middle;\n",
       "    }\n",
       "\n",
       "    .dataframe tbody tr th {\n",
       "        vertical-align: top;\n",
       "    }\n",
       "\n",
       "    .dataframe thead th {\n",
       "        text-align: right;\n",
       "    }\n",
       "</style>\n",
       "<table border=\"1\" class=\"dataframe\">\n",
       "  <thead>\n",
       "    <tr style=\"text-align: right;\">\n",
       "      <th></th>\n",
       "      <th>SK_ID</th>\n",
       "      <th>CONTACT_DATE</th>\n",
       "      <th>CELL_LAC_ID_mean</th>\n",
       "      <th>CELL_LAC_ID_max</th>\n",
       "      <th>CELL_LAC_ID_min</th>\n",
       "      <th>SUM_MINUTES_mean</th>\n",
       "      <th>SUM_MINUTES_max</th>\n",
       "      <th>SUM_MINUTES_min</th>\n",
       "      <th>SUM_DATA_MB_mean</th>\n",
       "      <th>SUM_DATA_MB_max</th>\n",
       "      <th>SUM_DATA_MB_min</th>\n",
       "      <th>SUM_DATA_MIN_mean</th>\n",
       "      <th>SUM_DATA_MIN_max</th>\n",
       "      <th>SUM_DATA_MIN_min</th>\n",
       "    </tr>\n",
       "  </thead>\n",
       "  <tbody>\n",
       "    <tr>\n",
       "      <th>0</th>\n",
       "      <td>6184</td>\n",
       "      <td>2</td>\n",
       "      <td>197071.266667</td>\n",
       "      <td>365958.0</td>\n",
       "      <td>21197.0</td>\n",
       "      <td>0.001126</td>\n",
       "      <td>0.015390</td>\n",
       "      <td>0.000000</td>\n",
       "      <td>0.000005</td>\n",
       "      <td>0.000106</td>\n",
       "      <td>0.000000e+00</td>\n",
       "      <td>0.000409</td>\n",
       "      <td>0.005136</td>\n",
       "      <td>0.000000</td>\n",
       "    </tr>\n",
       "    <tr>\n",
       "      <th>1</th>\n",
       "      <td>5175</td>\n",
       "      <td>18</td>\n",
       "      <td>394090.040000</td>\n",
       "      <td>508051.0</td>\n",
       "      <td>34669.0</td>\n",
       "      <td>0.002248</td>\n",
       "      <td>0.023415</td>\n",
       "      <td>0.000000</td>\n",
       "      <td>0.002360</td>\n",
       "      <td>0.012623</td>\n",
       "      <td>1.300000e-07</td>\n",
       "      <td>0.017012</td>\n",
       "      <td>0.085939</td>\n",
       "      <td>0.000233</td>\n",
       "    </tr>\n",
       "    <tr>\n",
       "      <th>2</th>\n",
       "      <td>5478</td>\n",
       "      <td>2</td>\n",
       "      <td>195541.396825</td>\n",
       "      <td>357558.0</td>\n",
       "      <td>2277.0</td>\n",
       "      <td>0.001582</td>\n",
       "      <td>0.038152</td>\n",
       "      <td>0.000009</td>\n",
       "      <td>0.000000</td>\n",
       "      <td>0.000000</td>\n",
       "      <td>0.000000e+00</td>\n",
       "      <td>0.000000</td>\n",
       "      <td>0.000000</td>\n",
       "      <td>0.000000</td>\n",
       "    </tr>\n",
       "    <tr>\n",
       "      <th>3</th>\n",
       "      <td>7807</td>\n",
       "      <td>14</td>\n",
       "      <td>186521.789474</td>\n",
       "      <td>386502.0</td>\n",
       "      <td>1855.0</td>\n",
       "      <td>0.008294</td>\n",
       "      <td>0.071643</td>\n",
       "      <td>0.000000</td>\n",
       "      <td>0.000876</td>\n",
       "      <td>0.008989</td>\n",
       "      <td>0.000000e+00</td>\n",
       "      <td>0.007401</td>\n",
       "      <td>0.053289</td>\n",
       "      <td>0.000000</td>\n",
       "    </tr>\n",
       "    <tr>\n",
       "      <th>4</th>\n",
       "      <td>5640</td>\n",
       "      <td>3</td>\n",
       "      <td>287521.781250</td>\n",
       "      <td>500972.0</td>\n",
       "      <td>52802.0</td>\n",
       "      <td>0.005815</td>\n",
       "      <td>0.064108</td>\n",
       "      <td>0.000000</td>\n",
       "      <td>0.000424</td>\n",
       "      <td>0.005516</td>\n",
       "      <td>0.000000e+00</td>\n",
       "      <td>0.002027</td>\n",
       "      <td>0.022929</td>\n",
       "      <td>0.000000</td>\n",
       "    </tr>\n",
       "  </tbody>\n",
       "</table>\n",
       "</div>"
      ],
      "text/plain": [
       "   SK_ID  CONTACT_DATE  CELL_LAC_ID_mean  CELL_LAC_ID_max  CELL_LAC_ID_min  \\\n",
       "0   6184             2     197071.266667         365958.0          21197.0   \n",
       "1   5175            18     394090.040000         508051.0          34669.0   \n",
       "2   5478             2     195541.396825         357558.0           2277.0   \n",
       "3   7807            14     186521.789474         386502.0           1855.0   \n",
       "4   5640             3     287521.781250         500972.0          52802.0   \n",
       "\n",
       "   SUM_MINUTES_mean  SUM_MINUTES_max  SUM_MINUTES_min  SUM_DATA_MB_mean  \\\n",
       "0          0.001126         0.015390         0.000000          0.000005   \n",
       "1          0.002248         0.023415         0.000000          0.002360   \n",
       "2          0.001582         0.038152         0.000009          0.000000   \n",
       "3          0.008294         0.071643         0.000000          0.000876   \n",
       "4          0.005815         0.064108         0.000000          0.000424   \n",
       "\n",
       "   SUM_DATA_MB_max  SUM_DATA_MB_min  SUM_DATA_MIN_mean  SUM_DATA_MIN_max  \\\n",
       "0         0.000106     0.000000e+00           0.000409          0.005136   \n",
       "1         0.012623     1.300000e-07           0.017012          0.085939   \n",
       "2         0.000000     0.000000e+00           0.000000          0.000000   \n",
       "3         0.008989     0.000000e+00           0.007401          0.053289   \n",
       "4         0.005516     0.000000e+00           0.002027          0.022929   \n",
       "\n",
       "   SUM_DATA_MIN_min  \n",
       "0          0.000000  \n",
       "1          0.000233  \n",
       "2          0.000000  \n",
       "3          0.000000  \n",
       "4          0.000000  "
      ]
     },
     "execution_count": 185,
     "metadata": {},
     "output_type": "execute_result"
    }
   ],
   "source": [
    "test_gr.head()"
   ]
  },
  {
   "cell_type": "code",
   "execution_count": 186,
   "metadata": {},
   "outputs": [
    {
     "data": {
      "text/plain": [
       "((4163, 15), (5221, 14))"
      ]
     },
     "execution_count": 186,
     "metadata": {},
     "output_type": "execute_result"
    }
   ],
   "source": [
    "(tr_gr.shape,test_gr.shape)"
   ]
  },
  {
   "cell_type": "markdown",
   "metadata": {},
   "source": [
    "#### Merge features and consumptions"
   ]
  },
  {
   "cell_type": "code",
   "execution_count": 39,
   "metadata": {},
   "outputs": [],
   "source": [
    "# add contact date and labels\n",
    "tr_gr = pd.merge(tr_gr, consum_gr_tr, on='SK_ID')"
   ]
  },
  {
   "cell_type": "code",
   "execution_count": 40,
   "metadata": {},
   "outputs": [],
   "source": [
    "test_gr = pd.merge(test_gr, consum_gr_test, on='SK_ID', how='left')"
   ]
  },
  {
   "cell_type": "code",
   "execution_count": 41,
   "metadata": {},
   "outputs": [
    {
     "data": {
      "text/plain": [
       "((3969, 111), (5221, 110))"
      ]
     },
     "execution_count": 41,
     "metadata": {},
     "output_type": "execute_result"
    }
   ],
   "source": [
    "(tr_gr.shape,test_gr.shape)"
   ]
  },
  {
   "cell_type": "markdown",
   "metadata": {},
   "source": [
    "### Train"
   ]
  },
  {
   "cell_type": "code",
   "execution_count": 42,
   "metadata": {},
   "outputs": [],
   "source": [
    "tr_gr = tr_gr.sample(frac=1).reset_index(drop=True)"
   ]
  },
  {
   "cell_type": "code",
   "execution_count": 43,
   "metadata": {},
   "outputs": [],
   "source": [
    "df, y_tr, nas = proc_df(tr_gr.drop(['SK_ID'], axis=1), 'CSI')"
   ]
  },
  {
   "cell_type": "code",
   "execution_count": 44,
   "metadata": {},
   "outputs": [],
   "source": [
    "test, _, _ = proc_df(test_gr.drop(['SK_ID'], axis=1), na_dict=nas)"
   ]
  },
  {
   "cell_type": "code",
   "execution_count": 45,
   "metadata": {},
   "outputs": [],
   "source": [
    "# na_cols = [c for c in test.columns if c.endswith('na')]\n",
    "# test.drop(na_cols, axis=1, inplace=True)"
   ]
  },
  {
   "cell_type": "code",
   "execution_count": 46,
   "metadata": {},
   "outputs": [
    {
     "data": {
      "text/plain": [
       "((5221, 124), (3969, 124))"
      ]
     },
     "execution_count": 46,
     "metadata": {},
     "output_type": "execute_result"
    }
   ],
   "source": [
    "test.shape, df.shape"
   ]
  },
  {
   "cell_type": "code",
   "execution_count": 47,
   "metadata": {},
   "outputs": [
    {
     "data": {
      "text/plain": [
       "True"
      ]
     },
     "execution_count": 47,
     "metadata": {},
     "output_type": "execute_result"
    }
   ],
   "source": [
    "set(test.columns) == set(df.columns)"
   ]
  },
  {
   "cell_type": "code",
   "execution_count": 48,
   "metadata": {},
   "outputs": [
    {
     "data": {
      "text/plain": [
       "0.9748047367094986"
      ]
     },
     "execution_count": 48,
     "metadata": {},
     "output_type": "execute_result"
    }
   ],
   "source": [
    "m = RandomForestClassifier(n_jobs=-1, n_estimators=10)\n",
    "m.fit(df, y_tr)\n",
    "m.score(df, y_tr)"
   ]
  },
  {
   "cell_type": "code",
   "execution_count": 49,
   "metadata": {},
   "outputs": [],
   "source": [
    "def split_vals(a,n): return a[:n], a[n:]\n",
    "n_valid = 600\n",
    "n_trn = len(df)-n_valid\n",
    "X_train, X_valid = split_vals(df, n_trn)\n",
    "y_train, y_valid = split_vals(y_tr, n_trn)"
   ]
  },
  {
   "cell_type": "code",
   "execution_count": 50,
   "metadata": {
    "scrolled": true
   },
   "outputs": [
    {
     "data": {
      "text/plain": [
       "((3369, 124), (600, 124), 0.16028495102404275, 0.13333333333333333)"
      ]
     },
     "execution_count": 50,
     "metadata": {},
     "output_type": "execute_result"
    }
   ],
   "source": [
    "X_train.shape, X_valid.shape, y_train.mean(), y_valid.mean()"
   ]
  },
  {
   "cell_type": "code",
   "execution_count": 51,
   "metadata": {},
   "outputs": [],
   "source": [
    "def print_score(m):\n",
    "    res = [metrics.roc_auc_score(y_train, m.predict_proba(X_train)[:,1]), \n",
    "           metrics.roc_auc_score(y_valid, m.predict_proba(X_valid)[:,1]),\n",
    "           m.score(X_train, y_train), m.score(X_valid, y_valid)]\n",
    "    \n",
    "    if hasattr(m, 'oob_score_'): res.append(m.oob_score_)\n",
    "    print(res)"
   ]
  },
  {
   "cell_type": "code",
   "execution_count": 56,
   "metadata": {},
   "outputs": [
    {
     "name": "stdout",
     "output_type": "stream",
     "text": [
      "[0.9154726837123442, 0.5705769230769231, 0.8741466310477887, 0.7733333333333333, 0.734342534876818]\n"
     ]
    }
   ],
   "source": [
    "m = RandomForestClassifier(n_jobs=-1, n_estimators=120, min_samples_leaf=50, max_features=0.5, class_weight='balanced',\n",
    "                            oob_score=True)\n",
    "m.fit(X_train, y_train)\n",
    "print_score(m)"
   ]
  },
  {
   "cell_type": "code",
   "execution_count": 41,
   "metadata": {
    "scrolled": true
   },
   "outputs": [
    {
     "name": "stdout",
     "output_type": "stream",
     "text": [
      "[0.9999267361696205, 0.5385721730067743, 0.9834123222748815, 0.84]\n"
     ]
    }
   ],
   "source": [
    "m = lgb.LGBMClassifier()\n",
    "m.fit(X_train, y_train)\n",
    "print_score(m)"
   ]
  },
  {
   "cell_type": "markdown",
   "metadata": {},
   "source": [
    "### Feature Importance "
   ]
  },
  {
   "cell_type": "code",
   "execution_count": 53,
   "metadata": {},
   "outputs": [],
   "source": [
    "fi = rf_feat_importance(m, X_train)"
   ]
  },
  {
   "cell_type": "code",
   "execution_count": 54,
   "metadata": {},
   "outputs": [
    {
     "data": {
      "text/html": [
       "<div>\n",
       "<style scoped>\n",
       "    .dataframe tbody tr th:only-of-type {\n",
       "        vertical-align: middle;\n",
       "    }\n",
       "\n",
       "    .dataframe tbody tr th {\n",
       "        vertical-align: top;\n",
       "    }\n",
       "\n",
       "    .dataframe thead th {\n",
       "        text-align: right;\n",
       "    }\n",
       "</style>\n",
       "<table border=\"1\" class=\"dataframe\">\n",
       "  <thead>\n",
       "    <tr style=\"text-align: right;\">\n",
       "      <th></th>\n",
       "      <th>cols</th>\n",
       "      <th>imp</th>\n",
       "    </tr>\n",
       "  </thead>\n",
       "  <tbody>\n",
       "    <tr>\n",
       "      <th>12</th>\n",
       "      <td>VAS_mean</td>\n",
       "      <td>0.114374</td>\n",
       "    </tr>\n",
       "    <tr>\n",
       "      <th>25</th>\n",
       "      <td>COM_CAT#27_mean</td>\n",
       "      <td>0.090072</td>\n",
       "    </tr>\n",
       "    <tr>\n",
       "      <th>13</th>\n",
       "      <td>RENT_CHANNEL_mean</td>\n",
       "      <td>0.088436</td>\n",
       "    </tr>\n",
       "    <tr>\n",
       "      <th>22</th>\n",
       "      <td>COM_CAT#23_mean</td>\n",
       "      <td>0.076835</td>\n",
       "    </tr>\n",
       "    <tr>\n",
       "      <th>10</th>\n",
       "      <td>REVENUE_mean</td>\n",
       "      <td>0.065960</td>\n",
       "    </tr>\n",
       "    <tr>\n",
       "      <th>27</th>\n",
       "      <td>COM_CAT#29_mean</td>\n",
       "      <td>0.063664</td>\n",
       "    </tr>\n",
       "    <tr>\n",
       "      <th>1</th>\n",
       "      <td>COM_CAT#2_mean</td>\n",
       "      <td>0.056595</td>\n",
       "    </tr>\n",
       "    <tr>\n",
       "      <th>21</th>\n",
       "      <td>COM_CAT#22_mean</td>\n",
       "      <td>0.050069</td>\n",
       "    </tr>\n",
       "    <tr>\n",
       "      <th>15</th>\n",
       "      <td>COST_mean</td>\n",
       "      <td>0.044151</td>\n",
       "    </tr>\n",
       "    <tr>\n",
       "      <th>19</th>\n",
       "      <td>COM_CAT#20_mean</td>\n",
       "      <td>0.042104</td>\n",
       "    </tr>\n",
       "  </tbody>\n",
       "</table>\n",
       "</div>"
      ],
      "text/plain": [
       "                 cols       imp\n",
       "12           VAS_mean  0.114374\n",
       "25    COM_CAT#27_mean  0.090072\n",
       "13  RENT_CHANNEL_mean  0.088436\n",
       "22    COM_CAT#23_mean  0.076835\n",
       "10       REVENUE_mean  0.065960\n",
       "27    COM_CAT#29_mean  0.063664\n",
       "1      COM_CAT#2_mean  0.056595\n",
       "21    COM_CAT#22_mean  0.050069\n",
       "15          COST_mean  0.044151\n",
       "19    COM_CAT#20_mean  0.042104"
      ]
     },
     "execution_count": 54,
     "metadata": {},
     "output_type": "execute_result"
    }
   ],
   "source": [
    "fi[:10]"
   ]
  },
  {
   "cell_type": "code",
   "execution_count": 55,
   "metadata": {},
   "outputs": [
    {
     "data": {
      "image/png": "[encoded data removed]",
      "text/plain": [
       "<Figure size 720x432 with 1 Axes>"
      ]
     },
     "metadata": {},
     "output_type": "display_data"
    }
   ],
   "source": [
    "fi.plot('cols', 'imp', figsize=(10,6), legend=False);"
   ]
  },
  {
   "cell_type": "code",
   "execution_count": 56,
   "metadata": {},
   "outputs": [],
   "source": [
    "def plot_fi(fi): return fi.plot('cols', 'imp', 'barh', figsize=(12,7), legend=False)"
   ]
  },
  {
   "cell_type": "code",
   "execution_count": 57,
   "metadata": {},
   "outputs": [
    {
     "data": {
      "image/png": "[encoded data removed]",
      "text/plain": [
       "<Figure size 864x504 with 1 Axes>"
      ]
     },
     "metadata": {},
     "output_type": "display_data"
    }
   ],
   "source": [
    "plot_fi(fi[:30]);"
   ]
  },
  {
   "cell_type": "code",
   "execution_count": 58,
   "metadata": {
    "scrolled": true
   },
   "outputs": [
    {
     "data": {
      "text/html": [
       "<div>\n",
       "<style scoped>\n",
       "    .dataframe tbody tr th:only-of-type {\n",
       "        vertical-align: middle;\n",
       "    }\n",
       "\n",
       "    .dataframe tbody tr th {\n",
       "        vertical-align: top;\n",
       "    }\n",
       "\n",
       "    .dataframe thead th {\n",
       "        text-align: right;\n",
       "    }\n",
       "</style>\n",
       "<table border=\"1\" class=\"dataframe\">\n",
       "  <thead>\n",
       "    <tr style=\"text-align: right;\">\n",
       "      <th></th>\n",
       "      <th>imp</th>\n",
       "    </tr>\n",
       "  </thead>\n",
       "  <tbody>\n",
       "    <tr>\n",
       "      <th>count</th>\n",
       "      <td>39.000000</td>\n",
       "    </tr>\n",
       "    <tr>\n",
       "      <th>mean</th>\n",
       "      <td>0.025641</td>\n",
       "    </tr>\n",
       "    <tr>\n",
       "      <th>std</th>\n",
       "      <td>0.030702</td>\n",
       "    </tr>\n",
       "    <tr>\n",
       "      <th>min</th>\n",
       "      <td>0.000000</td>\n",
       "    </tr>\n",
       "    <tr>\n",
       "      <th>25%</th>\n",
       "      <td>0.000000</td>\n",
       "    </tr>\n",
       "    <tr>\n",
       "      <th>50%</th>\n",
       "      <td>0.018137</td>\n",
       "    </tr>\n",
       "    <tr>\n",
       "      <th>75%</th>\n",
       "      <td>0.039451</td>\n",
       "    </tr>\n",
       "    <tr>\n",
       "      <th>max</th>\n",
       "      <td>0.114374</td>\n",
       "    </tr>\n",
       "  </tbody>\n",
       "</table>\n",
       "</div>"
      ],
      "text/plain": [
       "             imp\n",
       "count  39.000000\n",
       "mean    0.025641\n",
       "std     0.030702\n",
       "min     0.000000\n",
       "25%     0.000000\n",
       "50%     0.018137\n",
       "75%     0.039451\n",
       "max     0.114374"
      ]
     },
     "execution_count": 58,
     "metadata": {},
     "output_type": "execute_result"
    }
   ],
   "source": [
    "fi.describe()"
   ]
  },
  {
   "cell_type": "code",
   "execution_count": 59,
   "metadata": {},
   "outputs": [
    {
     "data": {
      "text/plain": [
       "23"
      ]
     },
     "execution_count": 59,
     "metadata": {},
     "output_type": "execute_result"
    }
   ],
   "source": [
    "to_keep = fi[fi.imp>0.002].cols; len(to_keep)"
   ]
  },
  {
   "cell_type": "code",
   "execution_count": 60,
   "metadata": {},
   "outputs": [],
   "source": [
    "df_keep = df[to_keep].copy()\n",
    "X_train, X_valid = split_vals(df_keep, n_trn)"
   ]
  },
  {
   "cell_type": "code",
   "execution_count": 61,
   "metadata": {},
   "outputs": [
    {
     "data": {
      "text/plain": [
       "(3976, 23)"
      ]
     },
     "execution_count": 61,
     "metadata": {},
     "output_type": "execute_result"
    }
   ],
   "source": [
    "df_keep.shape"
   ]
  },
  {
   "cell_type": "markdown",
   "metadata": {},
   "source": [
    "#### Hierarchical Clustering "
   ]
  },
  {
   "cell_type": "code",
   "execution_count": 62,
   "metadata": {},
   "outputs": [],
   "source": [
    "from scipy.cluster import hierarchy as hc"
   ]
  },
  {
   "cell_type": "code",
   "execution_count": 63,
   "metadata": {},
   "outputs": [
    {
     "data": {
      "image/png": "[encoded data removed]",
      "text/plain": [
       "<Figure size 1152x1152 with 1 Axes>"
      ]
     },
     "metadata": {},
     "output_type": "display_data"
    }
   ],
   "source": [
    "corr = np.round(scipy.stats.spearmanr(df_keep).correlation, 4)\n",
    "corr_condensed = hc.distance.squareform(1-corr)\n",
    "z = hc.linkage(corr_condensed, method='average')\n",
    "fig = plt.figure(figsize=(16,16))\n",
    "dendrogram = hc.dendrogram(z, labels=df_keep.columns, orientation='left', leaf_font_size=16)\n",
    "plt.show()"
   ]
  },
  {
   "cell_type": "code",
   "execution_count": 167,
   "metadata": {},
   "outputs": [],
   "source": [
    "def get_oob(df):\n",
    "    m = RandomForestClassifier(n_estimators=40, random_state=111, oob_score=True)\n",
    "    x, _ = split_vals(df, n_trn)\n",
    "    m.fit(x, y_train)\n",
    "    return m.oob_score_"
   ]
  },
  {
   "cell_type": "code",
   "execution_count": 168,
   "metadata": {},
   "outputs": [
    {
     "data": {
      "text/plain": [
       "0.8341232227488151"
      ]
     },
     "execution_count": 168,
     "metadata": {},
     "output_type": "execute_result"
    }
   ],
   "source": [
    "get_oob(df_keep)"
   ]
  },
  {
   "cell_type": "code",
   "execution_count": 169,
   "metadata": {},
   "outputs": [
    {
     "data": {
      "text/plain": [
       "Index(['VAS_mean', 'RENT_CHANNEL_min', 'COM_CAT#29_max', 'VAS_max',\n",
       "       'COM_CAT#27_max', 'COM_CAT#8_min', 'COM_CAT#31_min', 'COM_CAT#27_mean',\n",
       "       'COM_CAT#23_mean', 'RENT_CHANNEL_max', 'COM_CAT#29_mean',\n",
       "       'COM_CAT#23_min', 'RENT_CHANNEL_mean', 'COM_CAT#31_max',\n",
       "       'COM_CAT#8_max', 'COM_CAT#27_min', 'COM_CAT#22_min'],\n",
       "      dtype='object')"
      ]
     },
     "execution_count": 169,
     "metadata": {},
     "output_type": "execute_result"
    }
   ],
   "source": [
    "df_keep.columns"
   ]
  },
  {
   "cell_type": "code",
   "execution_count": 170,
   "metadata": {},
   "outputs": [
    {
     "name": "stdout",
     "output_type": "stream",
     "text": [
      "VAS_mean 0.8332345971563981\n",
      "VAS_max 0.8376777251184834\n",
      "COM_CAT#27_max 0.8356042654028436\n",
      "COM_CAT#27_mean 0.8359004739336493\n",
      "RENT_CHANNEL_max 0.8347156398104265\n",
      "RENT_CHANNEL_mean 0.8367890995260664\n",
      "COM_CAT#29_max 0.8373815165876777\n",
      "COM_CAT#29_mean 0.8364928909952607\n"
     ]
    }
   ],
   "source": [
    "for c in ( 'VAS_mean', 'VAS_max', 'COM_CAT#27_max', 'COM_CAT#27_mean', \n",
    "          'RENT_CHANNEL_max', 'RENT_CHANNEL_mean', 'COM_CAT#29_max', 'COM_CAT#29_mean'):\n",
    "    print(c, get_oob(df_keep.drop(c, axis=1)))"
   ]
  },
  {
   "cell_type": "code",
   "execution_count": 171,
   "metadata": {},
   "outputs": [
    {
     "data": {
      "text/plain": [
       "0.8356042654028436"
      ]
     },
     "execution_count": 171,
     "metadata": {},
     "output_type": "execute_result"
    }
   ],
   "source": [
    "to_drop =['RENT_CHANNEL_mean', 'COM_CAT#29_max', 'COM_CAT#27_mean', 'VAS_max']\n",
    "get_oob(df_keep.drop(to_drop, axis=1))"
   ]
  },
  {
   "cell_type": "code",
   "execution_count": 172,
   "metadata": {},
   "outputs": [],
   "source": [
    "df_keep.drop(to_drop, axis=1, inplace=True)\n",
    "X_train, X_valid = split_vals(df_keep, n_trn)"
   ]
  },
  {
   "cell_type": "code",
   "execution_count": 173,
   "metadata": {},
   "outputs": [],
   "source": [
    "os.makedirs('data/tmp', exist_ok=True)"
   ]
  },
  {
   "cell_type": "code",
   "execution_count": 174,
   "metadata": {},
   "outputs": [],
   "source": [
    "np.save('data/tmp/keep_cols.npy', np.array(df_keep.columns))"
   ]
  },
  {
   "cell_type": "code",
   "execution_count": 175,
   "metadata": {},
   "outputs": [],
   "source": [
    "keep_cols = np.load('data/tmp/keep_cols.npy')"
   ]
  },
  {
   "cell_type": "code",
   "execution_count": 92,
   "metadata": {},
   "outputs": [],
   "source": [
    "# keep_cols = ['COM_CAT#2_mean', 'COM_CAT#31_max', 'COM_CAT#23_mean', 'COM_CAT#27_max',\n",
    "#            'REVENUE_min', 'COST_mean', 'VAS_max', 'COM_CAT#27_min',\n",
    "#            'RENT_CHANNEL_min', 'COM_CAT#8_max']"
   ]
  },
  {
   "cell_type": "code",
   "execution_count": 176,
   "metadata": {},
   "outputs": [
    {
     "data": {
      "text/plain": [
       "13"
      ]
     },
     "execution_count": 176,
     "metadata": {},
     "output_type": "execute_result"
    }
   ],
   "source": [
    "len(keep_cols)"
   ]
  },
  {
   "cell_type": "code",
   "execution_count": 177,
   "metadata": {},
   "outputs": [],
   "source": [
    "df_keep = df_keep[keep_cols]\n",
    "X_train, X_valid = split_vals(df_keep, n_trn)"
   ]
  },
  {
   "cell_type": "markdown",
   "metadata": {},
   "source": [
    "#### Univariate plots on test - valid "
   ]
  },
  {
   "cell_type": "code",
   "execution_count": 178,
   "metadata": {},
   "outputs": [],
   "source": [
    "from featexp import get_univariate_plots"
   ]
  },
  {
   "cell_type": "code",
   "execution_count": 179,
   "metadata": {
    "collapsed": true
   },
   "outputs": [
    {
     "ename": "NameError",
     "evalue": "name 'raw_tr' is not defined",
     "output_type": "error",
     "traceback": [
      "\u001b[0;31m---------------------------------------------------------------------------\u001b[0m",
      "\u001b[0;31mNameError\u001b[0m                                 Traceback (most recent call last)",
      "\u001b[0;32m<ipython-input-179-7b0b8a2f1066>\u001b[0m in \u001b[0;36m<module>\u001b[0;34m()\u001b[0m\n\u001b[0;32m----> 1\u001b[0;31m \u001b[0mget_univariate_plots\u001b[0m\u001b[0;34m(\u001b[0m\u001b[0mdata\u001b[0m\u001b[0;34m=\u001b[0m\u001b[0mraw_tr\u001b[0m\u001b[0;34m,\u001b[0m \u001b[0mtarget_col\u001b[0m\u001b[0;34m=\u001b[0m\u001b[0;34m'CSI'\u001b[0m\u001b[0;34m,\u001b[0m \u001b[0mfeatures_list\u001b[0m\u001b[0;34m=\u001b[0m\u001b[0mto_keep\u001b[0m\u001b[0;34m,\u001b[0m \u001b[0mdata_test\u001b[0m\u001b[0;34m=\u001b[0m\u001b[0mraw_te\u001b[0m\u001b[0;34m)\u001b[0m\u001b[0;34m\u001b[0m\u001b[0m\n\u001b[0m",
      "\u001b[0;31mNameError\u001b[0m: name 'raw_tr' is not defined"
     ]
    }
   ],
   "source": [
    "get_univariate_plots(data=raw_tr, target_col='CSI', features_list=to_keep, data_test=raw_te)"
   ]
  },
  {
   "cell_type": "code",
   "execution_count": 135,
   "metadata": {},
   "outputs": [],
   "source": [
    "from featexp import get_trend_stats"
   ]
  },
  {
   "cell_type": "code",
   "execution_count": 136,
   "metadata": {},
   "outputs": [
    {
     "name": "stdout",
     "output_type": "stream",
     "text": [
      "Returning stats for all numeric features\n"
     ]
    },
    {
     "data": {
      "text/html": [
       "<div>\n",
       "<style scoped>\n",
       "    .dataframe tbody tr th:only-of-type {\n",
       "        vertical-align: middle;\n",
       "    }\n",
       "\n",
       "    .dataframe tbody tr th {\n",
       "        vertical-align: top;\n",
       "    }\n",
       "\n",
       "    .dataframe thead th {\n",
       "        text-align: right;\n",
       "    }\n",
       "</style>\n",
       "<table border=\"1\" class=\"dataframe\">\n",
       "  <thead>\n",
       "    <tr style=\"text-align: right;\">\n",
       "      <th></th>\n",
       "      <th>Feature</th>\n",
       "      <th>Trend_changes</th>\n",
       "      <th>Trend_changes_test</th>\n",
       "      <th>Trend_correlation</th>\n",
       "    </tr>\n",
       "  </thead>\n",
       "  <tbody>\n",
       "    <tr>\n",
       "      <th>0</th>\n",
       "      <td>RENT_CHANNEL_min</td>\n",
       "      <td>6</td>\n",
       "      <td>4</td>\n",
       "      <td>0.804366</td>\n",
       "    </tr>\n",
       "    <tr>\n",
       "      <th>1</th>\n",
       "      <td>VAS_max</td>\n",
       "      <td>5</td>\n",
       "      <td>7</td>\n",
       "      <td>0.341697</td>\n",
       "    </tr>\n",
       "    <tr>\n",
       "      <th>2</th>\n",
       "      <td>COM_CAT#31_max</td>\n",
       "      <td>4</td>\n",
       "      <td>5</td>\n",
       "      <td>0.413230</td>\n",
       "    </tr>\n",
       "    <tr>\n",
       "      <th>3</th>\n",
       "      <td>COST_mean</td>\n",
       "      <td>7</td>\n",
       "      <td>6</td>\n",
       "      <td>0.031269</td>\n",
       "    </tr>\n",
       "    <tr>\n",
       "      <th>4</th>\n",
       "      <td>COM_CAT#27_max</td>\n",
       "      <td>4</td>\n",
       "      <td>4</td>\n",
       "      <td>0.499216</td>\n",
       "    </tr>\n",
       "  </tbody>\n",
       "</table>\n",
       "</div>"
      ],
      "text/plain": [
       "            Feature  Trend_changes  Trend_changes_test  Trend_correlation\n",
       "0  RENT_CHANNEL_min              6                   4           0.804366\n",
       "1           VAS_max              5                   7           0.341697\n",
       "2    COM_CAT#31_max              4                   5           0.413230\n",
       "3         COST_mean              7                   6           0.031269\n",
       "4    COM_CAT#27_max              4                   4           0.499216"
      ]
     },
     "execution_count": 136,
     "metadata": {},
     "output_type": "execute_result"
    }
   ],
   "source": [
    "get_trend_stats(data=raw_tr, target_col='CSI', features_list=to_keep, data_test=raw_te)"
   ]
  },
  {
   "cell_type": "code",
   "execution_count": 186,
   "metadata": {},
   "outputs": [
    {
     "name": "stdout",
     "output_type": "stream",
     "text": [
      "[0.9999757084421613, 0.5010187810063784, 0.968266456858117, 0.83]\n"
     ]
    }
   ],
   "source": [
    "m = lgb.LGBMClassifier()\n",
    "m.fit(X_train, y_train)\n",
    "print_score(m)"
   ]
  },
  {
   "cell_type": "code",
   "execution_count": 188,
   "metadata": {},
   "outputs": [
    {
     "name": "stderr",
     "output_type": "stream",
     "text": [
      "/Users/alexeydemyanchuk/.virtualenvs/kaggle_env/lib/python3.6/site-packages/sklearn/ensemble/forest.py:460: UserWarning: Some inputs do not have OOB scores. This probably means too few trees were used to compute any reliable oob estimates.\n",
      "  warn(\"Some inputs do not have OOB scores. \"\n",
      "/Users/alexeydemyanchuk/.virtualenvs/kaggle_env/lib/python3.6/site-packages/sklearn/ensemble/forest.py:465: RuntimeWarning: invalid value encountered in true_divide\n",
      "  predictions[k].sum(axis=1)[:, np.newaxis])\n"
     ]
    },
    {
     "name": "stdout",
     "output_type": "stream",
     "text": [
      "[0.999681569361375, 0.4646748759744862, 0.975609756097561, 0.8275, 0.8075006556517178]\n"
     ]
    }
   ],
   "source": [
    "m = RandomForestClassifier(n_jobs=-1, n_estimators=10, \n",
    "                            oob_score=True)\n",
    "m.fit(X_train, y_train)\n",
    "print_score(m)"
   ]
  },
  {
   "cell_type": "markdown",
   "metadata": {},
   "source": [
    "\n",
    "#### T statistics "
   ]
  },
  {
   "cell_type": "code",
   "execution_count": 120,
   "metadata": {},
   "outputs": [
    {
     "name": "stdout",
     "output_type": "stream",
     "text": [
      "[0.7815561378520677, 0.6498135653409092, 0.8434301521438451, 0.8533333333333334]\n"
     ]
    }
   ],
   "source": [
    "m = RandomForestClassifier(n_jobs=-1, n_estimators=200, min_samples_leaf=30, max_features=1)\n",
    "m.fit(X_train, y_train)\n",
    "print_score(m)"
   ]
  },
  {
   "cell_type": "code",
   "execution_count": 201,
   "metadata": {},
   "outputs": [
    {
     "name": "stdout",
     "output_type": "stream",
     "text": [
      "[0.9995440929157031, 0.5482761741018912, 0.9597156398104265, 0.8516666666666667]\n"
     ]
    }
   ],
   "source": [
    "m = lgb.LGBMClassifier()\n",
    "m.fit(X_train, y_train)\n",
    "print_score(m)"
   ]
  },
  {
   "cell_type": "code",
   "execution_count": 67,
   "metadata": {},
   "outputs": [
    {
     "data": {
      "text/plain": [
       "array([0.59256, 3.20081])"
      ]
     },
     "execution_count": 67,
     "metadata": {},
     "output_type": "execute_result"
    }
   ],
   "source": [
    "len(y_tr) / (2 * np.bincount(y_tr))"
   ]
  },
  {
   "cell_type": "code",
   "execution_count": 64,
   "metadata": {},
   "outputs": [
    {
     "data": {
      "text/plain": [
       "3.200806451612903"
      ]
     },
     "execution_count": 64,
     "metadata": {},
     "output_type": "execute_result"
    }
   ],
   "source": [
    "len(y_tr) / (y_tr.sum() * 2)"
   ]
  },
  {
   "cell_type": "code",
   "execution_count": 57,
   "metadata": {},
   "outputs": [],
   "source": [
    "m_A = RandomForestClassifier(n_jobs=-1, n_estimators=80, min_samples_leaf=50, max_features=0.5)"
   ]
  },
  {
   "cell_type": "code",
   "execution_count": 58,
   "metadata": {},
   "outputs": [],
   "source": [
    "m_B = RandomForestClassifier(n_jobs=-1, n_estimators=80, min_samples_leaf=50, \n",
    "                             max_features=0.5, class_weight='balanced')"
   ]
  },
  {
   "cell_type": "code",
   "execution_count": 59,
   "metadata": {},
   "outputs": [],
   "source": [
    "scoring =  metrics.make_scorer(metrics.roc_auc_score, needs_proba=True)\n",
    "\n",
    "scores_A = np.array([])\n",
    "scores_B = np.array([])"
   ]
  },
  {
   "cell_type": "code",
   "execution_count": 60,
   "metadata": {},
   "outputs": [
    {
     "data": {
      "text/plain": [
       "Ttest_relResult(statistic=-0.21346612366086012, pvalue=0.8318491295342815)"
      ]
     },
     "execution_count": 60,
     "metadata": {},
     "output_type": "execute_result"
    }
   ],
   "source": [
    "for i in range(10):\n",
    "    fold = sklearn.model_selection.KFold(\n",
    "        n_splits=5, shuffle=True, random_state=i)\n",
    "\n",
    "    current_scores_A = sklearn.model_selection.cross_val_score(\n",
    "        estimator=m_A, X=df, y=y_tr, cv=fold, scoring=scoring, n_jobs=-1)\n",
    "\n",
    "    scores_A = np.append(scores_A, current_scores_A)\n",
    "\n",
    "    current_scores_B = sklearn.model_selection.cross_val_score(\n",
    "        estimator=m_B, X=df, y=y_tr, cv=fold, scoring=scoring, n_jobs=-1)\n",
    "\n",
    "    scores_B = np.append(scores_B, current_scores_B)\n",
    "    \n",
    "ttest_rel(scores_A, scores_B)"
   ]
  },
  {
   "cell_type": "code",
   "execution_count": 61,
   "metadata": {},
   "outputs": [
    {
     "data": {
      "text/plain": [
       "(0.5629725065200494, 0.006449024659683318)"
      ]
     },
     "execution_count": 61,
     "metadata": {},
     "output_type": "execute_result"
    }
   ],
   "source": [
    "scores_A.mean(), margin_of_error(0.975, scores_A)"
   ]
  },
  {
   "cell_type": "code",
   "execution_count": 62,
   "metadata": {
    "scrolled": false
   },
   "outputs": [
    {
     "data": {
      "text/plain": [
       "(0.563361547297123, 0.006608514451202824)"
      ]
     },
     "execution_count": 62,
     "metadata": {},
     "output_type": "execute_result"
    }
   ],
   "source": [
    "scores_B.mean(), margin_of_error(0.975, scores_B)"
   ]
  },
  {
   "cell_type": "markdown",
   "metadata": {},
   "source": [
    " - last 5 months vs full data `Ttest_relResult(statistic=-0.5739371988382607, pvalue=0.5686356084768682)`\n",
    " - last 5 months vs last 8 months `Ttest_relResult(statistic=0.6013845705864069, pvalue=0.5503561387167131)`\n",
    " - last 5 months vs last 3 months `Ttest_relResult(statistic=0.7411994751002573, pvalue=0.46211007794300796)`\n",
    " - last 5 months vs last 1 month `Ttest_relResult(statistic=0.23439294381926984, pvalue=0.8156565977942658)`\n",
    " - **last 5 months vs first 7 months** `Ttest_relResult(statistic=-4.606351117888431, pvalue=2.940069851986962e-05)`\n",
    " - last 5 months vs Nov-Mar `Ttest_relResult(statistic=0.538136115643363, pvalue=0.5929192015989826)`\n",
    " - last 5 months vs first 10 months `Ttest_relResult(statistic=-0.5254235366522199, pvalue=0.6016584866362571)`\n",
    " - **last 5 months vs Jan-Mar** `Ttest_relResult(statistic=4.410632452196336, pvalue=5.6370093653997715e-05)`\n",
    " - **last 5 months vs last 2 months** `Ttest_relResult(statistic=1.9717617159255272, pvalue=0.05429614296591497)`"
   ]
  },
  {
   "cell_type": "code",
   "execution_count": 202,
   "metadata": {},
   "outputs": [
    {
     "data": {
      "text/plain": [
       "((3976, 11), (3976,))"
      ]
     },
     "execution_count": 202,
     "metadata": {},
     "output_type": "execute_result"
    }
   ],
   "source": [
    "df_keep.shape, y.shape"
   ]
  },
  {
   "cell_type": "code",
   "execution_count": 82,
   "metadata": {},
   "outputs": [
    {
     "data": {
      "text/plain": [
       "Ttest_relResult(statistic=5.4397230418878415, pvalue=1.6858464289030448e-06)"
      ]
     },
     "execution_count": 82,
     "metadata": {},
     "output_type": "execute_result"
    }
   ],
   "source": [
    "# in case you allready have scores_A\n",
    "m_B = RandomForestClassifier(n_jobs=-1, n_estimators=80, min_samples_leaf=50, \n",
    "                             max_features=0.5, class_weight='balanced_subsample')\n",
    "scoring =  metrics.make_scorer(metrics.roc_auc_score, needs_proba=True)\n",
    "scores_B = np.array([])\n",
    "\n",
    "for i in range(10):\n",
    "    fold = sklearn.model_selection.KFold(\n",
    "        n_splits=5, shuffle=True, random_state=i)\n",
    "\n",
    "    current_scores_B = sklearn.model_selection.cross_val_score(\n",
    "        estimator=m_B, X=df, y=y_tr, cv=fold, scoring=scoring, n_jobs=-1)\n",
    "\n",
    "    scores_B = np.append(scores_B, current_scores_B)\n",
    "    \n",
    "ttest_rel(scores_A, scores_B)"
   ]
  },
  {
   "cell_type": "code",
   "execution_count": 83,
   "metadata": {},
   "outputs": [
    {
     "data": {
      "text/plain": [
       "(0.5629725065200494, 0.006449024659683318)"
      ]
     },
     "execution_count": 83,
     "metadata": {},
     "output_type": "execute_result"
    }
   ],
   "source": [
    "scores_A.mean(), margin_of_error(0.975, scores_A)"
   ]
  },
  {
   "cell_type": "code",
   "execution_count": 84,
   "metadata": {
    "scrolled": false
   },
   "outputs": [
    {
     "data": {
      "text/plain": [
       "(0.5434079629209078, 0.006316990380077873)"
      ]
     },
     "execution_count": 84,
     "metadata": {},
     "output_type": "execute_result"
    }
   ],
   "source": [
    "scores_B.mean(), margin_of_error(0.975, scores_B)"
   ]
  },
  {
   "cell_type": "markdown",
   "metadata": {},
   "source": [
    "#### Cross-val predict"
   ]
  },
  {
   "cell_type": "code",
   "execution_count": 252,
   "metadata": {
    "scrolled": true
   },
   "outputs": [],
   "source": [
    "m = lgb.LGBMClassifier()"
   ]
  },
  {
   "cell_type": "code",
   "execution_count": 41,
   "metadata": {},
   "outputs": [],
   "source": [
    "scoring =  {'roc_auc': metrics.make_scorer(metrics.roc_auc_score, needs_proba=True)}"
   ]
  },
  {
   "cell_type": "code",
   "execution_count": 254,
   "metadata": {},
   "outputs": [],
   "source": [
    "scores = sklearn.model_selection.cross_validate(\n",
    "    m, df_keep, y, cv=5, scoring=scoring,\n",
    "    return_train_score=True, return_estimator=True)"
   ]
  },
  {
   "cell_type": "code",
   "execution_count": 255,
   "metadata": {},
   "outputs": [
    {
     "data": {
      "text/plain": [
       "(0.9999970014694396, 2.662000226861619e-06)"
      ]
     },
     "execution_count": 255,
     "metadata": {},
     "output_type": "execute_result"
    }
   ],
   "source": [
    "scores['train_roc_auc'].mean(), margin_of_error(0.975, scores['train_roc_auc'])"
   ]
  },
  {
   "cell_type": "code",
   "execution_count": 256,
   "metadata": {},
   "outputs": [
    {
     "data": {
      "text/plain": [
       "(0.5208320020492699, 0.014217074471451045)"
      ]
     },
     "execution_count": 256,
     "metadata": {},
     "output_type": "execute_result"
    }
   ],
   "source": [
    "scores['test_roc_auc'].mean(), margin_of_error(0.975, scores['test_roc_auc'])"
   ]
  },
  {
   "cell_type": "code",
   "execution_count": 216,
   "metadata": {},
   "outputs": [],
   "source": [
    "pred_y = np.zeros(len(test))\n",
    "for est in scores['estimator']:\n",
    "    pred_y += est.predict_proba(test[to_keep])[:,1] / 5"
   ]
  },
  {
   "cell_type": "code",
   "execution_count": 56,
   "metadata": {},
   "outputs": [
    {
     "data": {
      "text/plain": [
       "((4215, 13), (5221, 25))"
      ]
     },
     "execution_count": 56,
     "metadata": {},
     "output_type": "execute_result"
    }
   ],
   "source": [
    "df.shape, test.shape"
   ]
  },
  {
   "cell_type": "code",
   "execution_count": 71,
   "metadata": {},
   "outputs": [],
   "source": [
    "scoring = {'roc_auc': metrics.make_scorer(\n",
    "    metrics.roc_auc_score, needs_proba=True)}\n",
    "scores_ovaerall_tr = np.array([])\n",
    "scores_ovaerall_val = np.array([])\n",
    "\n",
    "pred_y = np.zeros((len(test), 10))\n",
    "\n",
    "for i in range(10):\n",
    "    m = RandomForestClassifier(n_jobs=-1, n_estimators=80, min_samples_leaf=50,\n",
    "                               max_features=0.5, class_weight='balanced_subsample')\n",
    "\n",
    "    fold = sklearn.model_selection.KFold(\n",
    "        n_splits=5, shuffle=True, random_state=i)\n",
    "\n",
    "    scores = sklearn.model_selection.cross_validate(\n",
    "        m, df, y_tr, cv=fold, scoring=scoring,\n",
    "        return_train_score=True, return_estimator=True, n_jobs=-1)\n",
    "\n",
    "    scores_ovaerall_tr = np.append(scores_ovaerall_tr, scores['train_roc_auc'])\n",
    "    scores_ovaerall_val = np.append(\n",
    "        scores_ovaerall_val, scores['test_roc_auc'])\n",
    "\n",
    "    for est in scores['estimator']:\n",
    "        pred_y[:, i] += est.predict_proba(test)[:, 1] / 5"
   ]
  },
  {
   "cell_type": "code",
   "execution_count": 72,
   "metadata": {},
   "outputs": [
    {
     "data": {
      "text/plain": [
       "(0.9068494711869759, 0.0021451157462712557)"
      ]
     },
     "execution_count": 72,
     "metadata": {},
     "output_type": "execute_result"
    }
   ],
   "source": [
    "scores_ovaerall_tr.mean(), margin_of_error(0.975, scores_ovaerall_tr)"
   ]
  },
  {
   "cell_type": "code",
   "execution_count": 73,
   "metadata": {},
   "outputs": [
    {
     "data": {
      "text/plain": [
       "(0.5630670469863968, 0.006689539429950336)"
      ]
     },
     "execution_count": 73,
     "metadata": {},
     "output_type": "execute_result"
    }
   ],
   "source": [
    "scores_ovaerall_val.mean(), margin_of_error(0.975, scores_ovaerall_val)"
   ]
  },
  {
   "cell_type": "code",
   "execution_count": 74,
   "metadata": {},
   "outputs": [],
   "source": [
    "pred_y = pred_y.mean(axis=1)"
   ]
  },
  {
   "cell_type": "markdown",
   "metadata": {},
   "source": [
    "### Predict on test and submit"
   ]
  },
  {
   "cell_type": "code",
   "execution_count": 58,
   "metadata": {},
   "outputs": [
    {
     "data": {
      "text/plain": [
       "RandomForestClassifier(bootstrap=True, class_weight=None, criterion='gini',\n",
       "            max_depth=None, max_features=0.8, max_leaf_nodes=None,\n",
       "            min_impurity_decrease=0.0, min_impurity_split=None,\n",
       "            min_samples_leaf=12, min_samples_split=2,\n",
       "            min_weight_fraction_leaf=0.0, n_estimators=100, n_jobs=-1,\n",
       "            oob_score=False, random_state=111, verbose=0, warm_start=False)"
      ]
     },
     "execution_count": 58,
     "metadata": {},
     "output_type": "execute_result"
    }
   ],
   "source": [
    "m = RandomForestClassifier(n_jobs=-1, n_estimators=100, min_samples_leaf=12, max_features=0.8, \n",
    "                           random_state=111)\n",
    "m.fit(df, y)"
   ]
  },
  {
   "cell_type": "code",
   "execution_count": 173,
   "metadata": {},
   "outputs": [
    {
     "data": {
      "text/plain": [
       "LGBMClassifier(boosting_type='gbdt', class_weight=None, colsample_bytree=1.0,\n",
       "        learning_rate=0.1, max_depth=-1, min_child_samples=20,\n",
       "        min_child_weight=0.001, min_split_gain=0.0, n_estimators=100,\n",
       "        n_jobs=-1, num_leaves=31, objective=None, random_state=None,\n",
       "        reg_alpha=0.0, reg_lambda=0.0, silent=True, subsample=1.0,\n",
       "        subsample_for_bin=200000, subsample_freq=0)"
      ]
     },
     "execution_count": 173,
     "metadata": {},
     "output_type": "execute_result"
    }
   ],
   "source": [
    "m = lgb.LGBMClassifier()\n",
    "m.fit(df, y)"
   ]
  },
  {
   "cell_type": "code",
   "execution_count": 59,
   "metadata": {},
   "outputs": [],
   "source": [
    "pred_y = m.predict_proba(test)[:,1]"
   ]
  },
  {
   "cell_type": "code",
   "execution_count": 75,
   "metadata": {},
   "outputs": [],
   "source": [
    "subm = pd.DataFrame(pred_y)"
   ]
  },
  {
   "cell_type": "code",
   "execution_count": 76,
   "metadata": {
    "scrolled": true
   },
   "outputs": [
    {
     "data": {
      "text/plain": [
       "(5221, 1)"
      ]
     },
     "execution_count": 76,
     "metadata": {},
     "output_type": "execute_result"
    }
   ],
   "source": [
    "subm.shape"
   ]
  },
  {
   "cell_type": "code",
   "execution_count": 77,
   "metadata": {},
   "outputs": [],
   "source": [
    "subm.to_csv('submits/rf_cv_first7_train_last5_test_consum_all_mac_class_weight_balanced.csv', index=False, header=False)"
   ]
  },
  {
   "cell_type": "markdown",
   "metadata": {},
   "source": [
    "### Local Validation vs LB"
   ]
  },
  {
   "cell_type": "markdown",
   "metadata": {},
   "source": [
    "- 'lgb_t-test_val_full_last5 months' local predict, ci: (0.5216179343069107, 0.006672037004185105); LB:0.51221\n",
    "- 'lgb_t-test_val_full_first7'     local predict, ci: (0.5384367387214946, 0.005560330542734631); LB:0.53891\n",
    "- 'lgb_t-test_val_full_first7+id'    local predict, ci: (0.5385112223124687, 0.0055238218737344); LB:0.53546\n",
    "- *'lgb_t-test_val_full_first7+id+fi' local predict, ci: (0.5474994543180034, 0.005521392094374423); LB:0.51444*\n",
    "- 'lgb_t-test_val_full_first7_fi'    local predict, ci: (0.5459079501018401, 0.005487685723475682); LB:0.52712"
   ]
  },
  {
   "cell_type": "markdown",
   "metadata": {},
   "source": [
    " - lgb_cv_full_first7 local predict, ci: (0.52633, 0.01120); LB:0.53010\n",
    " - **lgb_cv_full_first7_fi63 'not zero fi' local predict, ci: (0.54592, 0.00548); LB:0.52488**\n",
    " - lgb_cv_full_first7_fi_dendr local predict, ci: (0.53335, 0.00600); LB:0.52541\n",
    " - **lgb_cv_full_first7_fi_13_keep_cols local predict, ci: (0.54323, 0.00722); LB:0.51444**\n",
    " - **lgb_cv_full_first7_fi_11_keep_cols local predict, ci: (0.54587, 0.00658); LB:0.50950**"
   ]
  },
  {
   "cell_type": "markdown",
   "metadata": {},
   "source": [
    " - rf_underfit_cv_first7_fi_not_0 local predict, ci: (0.55890, 0.00582); LB:0.52541\n",
    " - rf_underfit1_cv_first7_fi_not_0 local predict, ci: (0.55064, 0.00608); LB:0.51319\n",
    " - rf_underfit2_cv_first7_fi_11_keep_cols local predict, ci: (0.55757, 0.00547); LB:0.51943"
   ]
  },
  {
   "cell_type": "markdown",
   "metadata": {},
   "source": [
    "- **rf_cv_first7_train_last5_test_all local predict, ci: (0.56462, 0.00687), valid_future: 0.61854, LB: 0.55264**\n",
    "- rf_cv_first7_train_last5_test_keep_cols13 local predict, ci: (0.56247, 0.00639), valid_future: 0.57869, LB: 0.53213\n",
    "- rf_cv_first7_train_last5_test_consum_all local predict, ci: (0.56098, 0.00646), LB: 0.55550"
   ]
  },
  {
   "cell_type": "markdown",
   "metadata": {},
   "source": [
    "- **rf_cv_first7_train_last5_test_consum_all_mac local predict, ci: (0.56153, 0.00735), LB: 0.55749**"
   ]
  },
  {
   "cell_type": "code",
   "execution_count": null,
   "metadata": {},
   "outputs": [],
   "source": []
  }
 ],
 "metadata": {
  "kernelspec": {
   "display_name": "Python 3",
   "language": "python",
   "name": "python3"
  },
  "language_info": {
   "codemirror_mode": {
    "name": "ipython",
    "version": 3
   },
   "file_extension": ".py",
   "mimetype": "text/x-python",
   "name": "python",
   "nbconvert_exporter": "python",
   "pygments_lexer": "ipython3",
   "version": "3.6.5"
  },
  "toc": {
   "base_numbering": 1,
   "nav_menu": {},
   "number_sections": true,
   "sideBar": true,
   "skip_h1_title": false,
   "title_cell": "Table of Contents",
   "title_sidebar": "Contents",
   "toc_cell": false,
   "toc_position": {},
   "toc_section_display": true,
   "toc_window_display": true
  }
 },
 "nbformat": 4,
 "nbformat_minor": 2
}
