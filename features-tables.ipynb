{
 "cells": [
  {
   "cell_type": "markdown",
   "metadata": {},
   "source": [
    "### Imports "
   ]
  },
  {
   "cell_type": "code",
   "execution_count": 1,
   "metadata": {},
   "outputs": [],
   "source": [
    "%load_ext autoreload\n",
    "%autoreload 2\n",
    "\n",
    "%matplotlib inline"
   ]
  },
  {
   "cell_type": "code",
   "execution_count": 2,
   "metadata": {},
   "outputs": [],
   "source": [
    "from fastai.imports import *\n",
    "from fastai.structured import *\n",
    "\n",
    "from pandas_summary import DataFrameSummary\n",
    "from sklearn.ensemble import RandomForestRegressor, RandomForestClassifier\n",
    "from IPython.display import display\n",
    "\n",
    "from sklearn import metrics"
   ]
  },
  {
   "cell_type": "code",
   "execution_count": 3,
   "metadata": {},
   "outputs": [],
   "source": [
    "import lightgbm as lgb"
   ]
  },
  {
   "cell_type": "markdown",
   "metadata": {},
   "source": [
    "### Const and Func"
   ]
  },
  {
   "cell_type": "code",
   "execution_count": 4,
   "metadata": {},
   "outputs": [],
   "source": [
    "path = Path('data/csi_analyze/').expanduser()"
   ]
  },
  {
   "cell_type": "code",
   "execution_count": 5,
   "metadata": {
    "scrolled": true
   },
   "outputs": [
    {
     "data": {
      "text/plain": [
       "PosixPath('data/csi_analyze')"
      ]
     },
     "execution_count": 5,
     "metadata": {},
     "output_type": "execute_result"
    }
   ],
   "source": [
    "path"
   ]
  },
  {
   "cell_type": "code",
   "execution_count": 6,
   "metadata": {
    "scrolled": true
   },
   "outputs": [
    {
     "name": "stdout",
     "output_type": "stream",
     "text": [
      "bs_avg_kpi.csv  bs_chnn_kpi.csv \u001b[1m\u001b[36mtest\u001b[m\u001b[m            \u001b[1m\u001b[36mtrain\u001b[m\u001b[m\r\n"
     ]
    }
   ],
   "source": [
    "! ls {path}"
   ]
  },
  {
   "cell_type": "code",
   "execution_count": 7,
   "metadata": {
    "scrolled": true
   },
   "outputs": [
    {
     "name": "stdout",
     "output_type": "stream",
     "text": [
      "subs_bs_consumption_train.csv   subs_csi_train.csv\r\n",
      "subs_bs_data_session_train.csv  subs_features_train.csv\r\n",
      "subs_bs_voice_session_train.csv\r\n"
     ]
    }
   ],
   "source": [
    "! ls {path/'train'}"
   ]
  },
  {
   "cell_type": "code",
   "execution_count": 8,
   "metadata": {},
   "outputs": [],
   "source": [
    "def display_all(df):\n",
    "    with pd.option_context(\"display.max_rows\", 1000, \"display.max_columns\", 1000): \n",
    "        display(df)"
   ]
  },
  {
   "cell_type": "markdown",
   "metadata": {},
   "source": [
    "### Loads"
   ]
  },
  {
   "cell_type": "code",
   "execution_count": 9,
   "metadata": {},
   "outputs": [],
   "source": [
    "train_ids = pd.read_csv(path/'train/subs_csi_train.csv', sep=';')"
   ]
  },
  {
   "cell_type": "code",
   "execution_count": 10,
   "metadata": {},
   "outputs": [],
   "source": [
    "test_ids = pd.read_csv(path/'test/subs_csi_test.csv', sep=';')"
   ]
  },
  {
   "cell_type": "code",
   "execution_count": 11,
   "metadata": {},
   "outputs": [],
   "source": [
    "features_train = pd.read_csv(path/'train/subs_features_train.csv', sep=';', decimal=',', \n",
    "                              parse_dates=['SNAP_DATE'], infer_datetime_format=True, dayfirst=True)"
   ]
  },
  {
   "cell_type": "code",
   "execution_count": 12,
   "metadata": {},
   "outputs": [],
   "source": [
    "features_test = pd.read_csv(path/'test/subs_features_test.csv', sep=';', decimal=',', \n",
    "                              parse_dates=['SNAP_DATE'], infer_datetime_format=True, dayfirst=True)"
   ]
  },
  {
   "cell_type": "code",
   "execution_count": 13,
   "metadata": {},
   "outputs": [],
   "source": [
    "# convert to months (int)\n",
    "features_train.SNAP_DATE = features_train.SNAP_DATE.dt.month"
   ]
  },
  {
   "cell_type": "code",
   "execution_count": 14,
   "metadata": {},
   "outputs": [],
   "source": [
    "# convert to months (int)\n",
    "features_test.SNAP_DATE = features_test.SNAP_DATE.dt.month"
   ]
  },
  {
   "cell_type": "markdown",
   "metadata": {},
   "source": [
    "###  Data processing"
   ]
  },
  {
   "cell_type": "code",
   "execution_count": 21,
   "metadata": {},
   "outputs": [
    {
     "data": {
      "text/plain": [
       "(3754, 3622)"
      ]
     },
     "execution_count": 21,
     "metadata": {},
     "output_type": "execute_result"
    }
   ],
   "source": [
    "train_ids.SK_ID.nunique(), features_train.SK_ID.nunique()"
   ]
  },
  {
   "cell_type": "code",
   "execution_count": 22,
   "metadata": {},
   "outputs": [
    {
     "data": {
      "image/png": "[encoded data removed]",
      "text/plain": [
       "<Figure size 432x288 with 1 Axes>"
      ]
     },
     "metadata": {
      "needs_background": "light"
     },
     "output_type": "display_data"
    }
   ],
   "source": [
    "train_ids.SK_ID.hist();"
   ]
  },
  {
   "cell_type": "code",
   "execution_count": 23,
   "metadata": {},
   "outputs": [
    {
     "data": {
      "text/plain": [
       "<matplotlib.axes._subplots.AxesSubplot at 0x7fc61aebd9e8>"
      ]
     },
     "execution_count": 23,
     "metadata": {},
     "output_type": "execute_result"
    },
    {
     "data": {
      "image/png": "[encoded data removed]",
      "text/plain": [
       "<Figure size 432x288 with 1 Axes>"
      ]
     },
     "metadata": {
      "needs_background": "light"
     },
     "output_type": "display_data"
    }
   ],
   "source": [
    "test_ids.SK_ID.hist();"
   ]
  },
  {
   "cell_type": "markdown",
   "metadata": {},
   "source": [
    "#### Take only recent 3 months"
   ]
  },
  {
   "cell_type": "code",
   "execution_count": 15,
   "metadata": {},
   "outputs": [],
   "source": [
    "features_train = features_train[features_train.SNAP_DATE.isin([3,4,5])]\n",
    "features_test = features_test[features_test.SNAP_DATE.isin([3,4,5])]"
   ]
  },
  {
   "cell_type": "markdown",
   "metadata": {},
   "source": [
    "### Pivoting feature tables"
   ]
  },
  {
   "cell_type": "code",
   "execution_count": 16,
   "metadata": {},
   "outputs": [],
   "source": [
    "# to merge column names later on\n",
    "features_train.SNAP_DATE = features_train.SNAP_DATE.astype(str)"
   ]
  },
  {
   "cell_type": "code",
   "execution_count": 17,
   "metadata": {},
   "outputs": [],
   "source": [
    "# to merge column names later on\n",
    "features_test.SNAP_DATE = features_test.SNAP_DATE.astype(str)"
   ]
  },
  {
   "cell_type": "code",
   "execution_count": 18,
   "metadata": {},
   "outputs": [],
   "source": [
    "tr_pivot = features_train.pivot(index='SK_ID', columns='SNAP_DATE')"
   ]
  },
  {
   "cell_type": "code",
   "execution_count": 19,
   "metadata": {},
   "outputs": [],
   "source": [
    "test_pivot = features_test.pivot(index='SK_ID', columns='SNAP_DATE')"
   ]
  },
  {
   "cell_type": "code",
   "execution_count": 30,
   "metadata": {
    "scrolled": false
   },
   "outputs": [
    {
     "data": {
      "text/html": [
       "<div>\n",
       "<style scoped>\n",
       "    .dataframe tbody tr th:only-of-type {\n",
       "        vertical-align: middle;\n",
       "    }\n",
       "\n",
       "    .dataframe tbody tr th {\n",
       "        vertical-align: top;\n",
       "    }\n",
       "\n",
       "    .dataframe thead th {\n",
       "        text-align: right;\n",
       "    }\n",
       "</style>\n",
       "<table border=\"1\" class=\"dataframe\">\n",
       "  <thead>\n",
       "    <tr style=\"text-align: right;\">\n",
       "      <th></th>\n",
       "      <th>SK_ID</th>\n",
       "      <th>COM_CAT#1_3</th>\n",
       "      <th>COM_CAT#1_4</th>\n",
       "      <th>COM_CAT#1_5</th>\n",
       "      <th>COM_CAT#2_3</th>\n",
       "      <th>COM_CAT#2_4</th>\n",
       "      <th>COM_CAT#2_5</th>\n",
       "      <th>COM_CAT#3_3</th>\n",
       "      <th>COM_CAT#3_4</th>\n",
       "      <th>COM_CAT#3_5</th>\n",
       "      <th>...</th>\n",
       "      <th>COM_CAT#32_4</th>\n",
       "      <th>COM_CAT#32_5</th>\n",
       "      <th>COM_CAT#33_3</th>\n",
       "      <th>COM_CAT#33_4</th>\n",
       "      <th>COM_CAT#33_5</th>\n",
       "      <th>COM_CAT#34_3</th>\n",
       "      <th>COM_CAT#34_4</th>\n",
       "      <th>COM_CAT#34_5</th>\n",
       "      <th>CSI</th>\n",
       "      <th>CONTACT_DATE</th>\n",
       "    </tr>\n",
       "  </thead>\n",
       "  <tbody>\n",
       "    <tr>\n",
       "      <th>0</th>\n",
       "      <td>2</td>\n",
       "      <td>7.0</td>\n",
       "      <td>7.0</td>\n",
       "      <td>7.0</td>\n",
       "      <td>77.0</td>\n",
       "      <td>77.0</td>\n",
       "      <td>77.0</td>\n",
       "      <td>10.0</td>\n",
       "      <td>11.0</td>\n",
       "      <td>12.0</td>\n",
       "      <td>...</td>\n",
       "      <td>0.049189</td>\n",
       "      <td>0.049189</td>\n",
       "      <td>0.27508</td>\n",
       "      <td>0.27508</td>\n",
       "      <td>0.27508</td>\n",
       "      <td>NaN</td>\n",
       "      <td>9.0</td>\n",
       "      <td>9.0</td>\n",
       "      <td>0</td>\n",
       "      <td>1900-05-04</td>\n",
       "    </tr>\n",
       "    <tr>\n",
       "      <th>1</th>\n",
       "      <td>3</td>\n",
       "      <td>4.0</td>\n",
       "      <td>4.0</td>\n",
       "      <td>4.0</td>\n",
       "      <td>51.0</td>\n",
       "      <td>51.0</td>\n",
       "      <td>51.0</td>\n",
       "      <td>14.0</td>\n",
       "      <td>15.0</td>\n",
       "      <td>16.0</td>\n",
       "      <td>...</td>\n",
       "      <td>0.049189</td>\n",
       "      <td>0.049189</td>\n",
       "      <td>0.27508</td>\n",
       "      <td>0.27508</td>\n",
       "      <td>0.27508</td>\n",
       "      <td>9.0</td>\n",
       "      <td>9.0</td>\n",
       "      <td>9.0</td>\n",
       "      <td>0</td>\n",
       "      <td>1900-05-21</td>\n",
       "    </tr>\n",
       "    <tr>\n",
       "      <th>2</th>\n",
       "      <td>4</td>\n",
       "      <td>8.0</td>\n",
       "      <td>8.0</td>\n",
       "      <td>8.0</td>\n",
       "      <td>12.0</td>\n",
       "      <td>12.0</td>\n",
       "      <td>12.0</td>\n",
       "      <td>4.0</td>\n",
       "      <td>5.0</td>\n",
       "      <td>5.0</td>\n",
       "      <td>...</td>\n",
       "      <td>0.049189</td>\n",
       "      <td>0.049189</td>\n",
       "      <td>0.27508</td>\n",
       "      <td>0.27508</td>\n",
       "      <td>0.27508</td>\n",
       "      <td>3.0</td>\n",
       "      <td>3.0</td>\n",
       "      <td>3.0</td>\n",
       "      <td>0</td>\n",
       "      <td>1900-05-27</td>\n",
       "    </tr>\n",
       "    <tr>\n",
       "      <th>3</th>\n",
       "      <td>5</td>\n",
       "      <td>3.0</td>\n",
       "      <td>3.0</td>\n",
       "      <td>3.0</td>\n",
       "      <td>79.0</td>\n",
       "      <td>79.0</td>\n",
       "      <td>79.0</td>\n",
       "      <td>3.0</td>\n",
       "      <td>3.0</td>\n",
       "      <td>3.0</td>\n",
       "      <td>...</td>\n",
       "      <td>0.049189</td>\n",
       "      <td>0.049189</td>\n",
       "      <td>0.27508</td>\n",
       "      <td>0.27508</td>\n",
       "      <td>0.27508</td>\n",
       "      <td>2.0</td>\n",
       "      <td>2.0</td>\n",
       "      <td>2.0</td>\n",
       "      <td>0</td>\n",
       "      <td>1900-05-08</td>\n",
       "    </tr>\n",
       "    <tr>\n",
       "      <th>4</th>\n",
       "      <td>6</td>\n",
       "      <td>5.0</td>\n",
       "      <td>5.0</td>\n",
       "      <td>5.0</td>\n",
       "      <td>48.0</td>\n",
       "      <td>48.0</td>\n",
       "      <td>48.0</td>\n",
       "      <td>5.0</td>\n",
       "      <td>5.0</td>\n",
       "      <td>5.0</td>\n",
       "      <td>...</td>\n",
       "      <td>0.049189</td>\n",
       "      <td>0.049189</td>\n",
       "      <td>0.27508</td>\n",
       "      <td>0.27508</td>\n",
       "      <td>0.27508</td>\n",
       "      <td>3.0</td>\n",
       "      <td>3.0</td>\n",
       "      <td>3.0</td>\n",
       "      <td>1</td>\n",
       "      <td>1900-05-06</td>\n",
       "    </tr>\n",
       "  </tbody>\n",
       "</table>\n",
       "<p>5 rows × 105 columns</p>\n",
       "</div>"
      ],
      "text/plain": [
       "   SK_ID  COM_CAT#1_3  COM_CAT#1_4  COM_CAT#1_5  COM_CAT#2_3  COM_CAT#2_4  \\\n",
       "0      2          7.0          7.0          7.0         77.0         77.0   \n",
       "1      3          4.0          4.0          4.0         51.0         51.0   \n",
       "2      4          8.0          8.0          8.0         12.0         12.0   \n",
       "3      5          3.0          3.0          3.0         79.0         79.0   \n",
       "4      6          5.0          5.0          5.0         48.0         48.0   \n",
       "\n",
       "   COM_CAT#2_5  COM_CAT#3_3  COM_CAT#3_4  COM_CAT#3_5      ...       \\\n",
       "0         77.0         10.0         11.0         12.0      ...        \n",
       "1         51.0         14.0         15.0         16.0      ...        \n",
       "2         12.0          4.0          5.0          5.0      ...        \n",
       "3         79.0          3.0          3.0          3.0      ...        \n",
       "4         48.0          5.0          5.0          5.0      ...        \n",
       "\n",
       "   COM_CAT#32_4  COM_CAT#32_5  COM_CAT#33_3  COM_CAT#33_4  COM_CAT#33_5  \\\n",
       "0      0.049189      0.049189       0.27508       0.27508       0.27508   \n",
       "1      0.049189      0.049189       0.27508       0.27508       0.27508   \n",
       "2      0.049189      0.049189       0.27508       0.27508       0.27508   \n",
       "3      0.049189      0.049189       0.27508       0.27508       0.27508   \n",
       "4      0.049189      0.049189       0.27508       0.27508       0.27508   \n",
       "\n",
       "   COM_CAT#34_3  COM_CAT#34_4  COM_CAT#34_5  CSI  CONTACT_DATE  \n",
       "0           NaN           9.0           9.0    0    1900-05-04  \n",
       "1           9.0           9.0           9.0    0    1900-05-21  \n",
       "2           3.0           3.0           3.0    0    1900-05-27  \n",
       "3           2.0           2.0           2.0    0    1900-05-08  \n",
       "4           3.0           3.0           3.0    1    1900-05-06  \n",
       "\n",
       "[5 rows x 105 columns]"
      ]
     },
     "execution_count": 30,
     "metadata": {},
     "output_type": "execute_result"
    }
   ],
   "source": [
    "tr_pivot.head()"
   ]
  },
  {
   "cell_type": "code",
   "execution_count": 31,
   "metadata": {},
   "outputs": [
    {
     "data": {
      "text/html": [
       "<div>\n",
       "<style scoped>\n",
       "    .dataframe tbody tr th:only-of-type {\n",
       "        vertical-align: middle;\n",
       "    }\n",
       "\n",
       "    .dataframe tbody tr th {\n",
       "        vertical-align: top;\n",
       "    }\n",
       "\n",
       "    .dataframe thead th {\n",
       "        text-align: right;\n",
       "    }\n",
       "</style>\n",
       "<table border=\"1\" class=\"dataframe\">\n",
       "  <thead>\n",
       "    <tr style=\"text-align: right;\">\n",
       "      <th></th>\n",
       "      <th>SK_ID</th>\n",
       "      <th>CONTACT_DATE</th>\n",
       "      <th>COM_CAT#1_3</th>\n",
       "      <th>COM_CAT#1_4</th>\n",
       "      <th>COM_CAT#1_5</th>\n",
       "      <th>COM_CAT#2_3</th>\n",
       "      <th>COM_CAT#2_4</th>\n",
       "      <th>COM_CAT#2_5</th>\n",
       "      <th>COM_CAT#3_3</th>\n",
       "      <th>COM_CAT#3_4</th>\n",
       "      <th>...</th>\n",
       "      <th>COM_CAT#31_5</th>\n",
       "      <th>COM_CAT#32_3</th>\n",
       "      <th>COM_CAT#32_4</th>\n",
       "      <th>COM_CAT#32_5</th>\n",
       "      <th>COM_CAT#33_3</th>\n",
       "      <th>COM_CAT#33_4</th>\n",
       "      <th>COM_CAT#33_5</th>\n",
       "      <th>COM_CAT#34_3</th>\n",
       "      <th>COM_CAT#34_4</th>\n",
       "      <th>COM_CAT#34_5</th>\n",
       "    </tr>\n",
       "  </thead>\n",
       "  <tbody>\n",
       "    <tr>\n",
       "      <th>0</th>\n",
       "      <td>308</td>\n",
       "      <td>1900-05-27</td>\n",
       "      <td>6.0</td>\n",
       "      <td>6.0</td>\n",
       "      <td>6.0</td>\n",
       "      <td>34.0</td>\n",
       "      <td>34.0</td>\n",
       "      <td>34.0</td>\n",
       "      <td>5.0</td>\n",
       "      <td>5.0</td>\n",
       "      <td>...</td>\n",
       "      <td>0.088930</td>\n",
       "      <td>0.049189</td>\n",
       "      <td>0.049189</td>\n",
       "      <td>0.049189</td>\n",
       "      <td>0.27508</td>\n",
       "      <td>0.27508</td>\n",
       "      <td>0.27508</td>\n",
       "      <td>2.0</td>\n",
       "      <td>2.0</td>\n",
       "      <td>2.0</td>\n",
       "    </tr>\n",
       "    <tr>\n",
       "      <th>1</th>\n",
       "      <td>1789</td>\n",
       "      <td>1900-05-26</td>\n",
       "      <td>5.0</td>\n",
       "      <td>5.0</td>\n",
       "      <td>5.0</td>\n",
       "      <td>31.0</td>\n",
       "      <td>31.0</td>\n",
       "      <td>31.0</td>\n",
       "      <td>5.0</td>\n",
       "      <td>5.0</td>\n",
       "      <td>...</td>\n",
       "      <td>0.019463</td>\n",
       "      <td>0.049189</td>\n",
       "      <td>0.049189</td>\n",
       "      <td>0.049189</td>\n",
       "      <td>0.27508</td>\n",
       "      <td>0.27508</td>\n",
       "      <td>0.27508</td>\n",
       "      <td>10.0</td>\n",
       "      <td>10.0</td>\n",
       "      <td>10.0</td>\n",
       "    </tr>\n",
       "    <tr>\n",
       "      <th>2</th>\n",
       "      <td>3386</td>\n",
       "      <td>1900-05-22</td>\n",
       "      <td>8.0</td>\n",
       "      <td>8.0</td>\n",
       "      <td>8.0</td>\n",
       "      <td>15.0</td>\n",
       "      <td>15.0</td>\n",
       "      <td>15.0</td>\n",
       "      <td>5.0</td>\n",
       "      <td>5.0</td>\n",
       "      <td>...</td>\n",
       "      <td>0.054833</td>\n",
       "      <td>0.049189</td>\n",
       "      <td>0.049189</td>\n",
       "      <td>0.049189</td>\n",
       "      <td>0.27508</td>\n",
       "      <td>0.27508</td>\n",
       "      <td>0.27508</td>\n",
       "      <td>9.0</td>\n",
       "      <td>9.0</td>\n",
       "      <td>9.0</td>\n",
       "    </tr>\n",
       "    <tr>\n",
       "      <th>3</th>\n",
       "      <td>2429</td>\n",
       "      <td>1900-05-09</td>\n",
       "      <td>8.0</td>\n",
       "      <td>8.0</td>\n",
       "      <td>8.0</td>\n",
       "      <td>52.0</td>\n",
       "      <td>52.0</td>\n",
       "      <td>52.0</td>\n",
       "      <td>5.0</td>\n",
       "      <td>5.0</td>\n",
       "      <td>...</td>\n",
       "      <td>0.115410</td>\n",
       "      <td>0.049189</td>\n",
       "      <td>0.049189</td>\n",
       "      <td>0.049189</td>\n",
       "      <td>0.27508</td>\n",
       "      <td>0.27508</td>\n",
       "      <td>0.27508</td>\n",
       "      <td>2.0</td>\n",
       "      <td>2.0</td>\n",
       "      <td>2.0</td>\n",
       "    </tr>\n",
       "    <tr>\n",
       "      <th>4</th>\n",
       "      <td>693</td>\n",
       "      <td>1900-05-29</td>\n",
       "      <td>1.0</td>\n",
       "      <td>1.0</td>\n",
       "      <td>1.0</td>\n",
       "      <td>30.0</td>\n",
       "      <td>30.0</td>\n",
       "      <td>30.0</td>\n",
       "      <td>11.0</td>\n",
       "      <td>12.0</td>\n",
       "      <td>...</td>\n",
       "      <td>0.006550</td>\n",
       "      <td>0.049189</td>\n",
       "      <td>0.049189</td>\n",
       "      <td>0.049189</td>\n",
       "      <td>0.27508</td>\n",
       "      <td>0.27508</td>\n",
       "      <td>0.27508</td>\n",
       "      <td>10.0</td>\n",
       "      <td>9.0</td>\n",
       "      <td>9.0</td>\n",
       "    </tr>\n",
       "  </tbody>\n",
       "</table>\n",
       "<p>5 rows × 104 columns</p>\n",
       "</div>"
      ],
      "text/plain": [
       "   SK_ID CONTACT_DATE  COM_CAT#1_3  COM_CAT#1_4  COM_CAT#1_5  COM_CAT#2_3  \\\n",
       "0    308   1900-05-27          6.0          6.0          6.0         34.0   \n",
       "1   1789   1900-05-26          5.0          5.0          5.0         31.0   \n",
       "2   3386   1900-05-22          8.0          8.0          8.0         15.0   \n",
       "3   2429   1900-05-09          8.0          8.0          8.0         52.0   \n",
       "4    693   1900-05-29          1.0          1.0          1.0         30.0   \n",
       "\n",
       "   COM_CAT#2_4  COM_CAT#2_5  COM_CAT#3_3  COM_CAT#3_4      ...       \\\n",
       "0         34.0         34.0          5.0          5.0      ...        \n",
       "1         31.0         31.0          5.0          5.0      ...        \n",
       "2         15.0         15.0          5.0          5.0      ...        \n",
       "3         52.0         52.0          5.0          5.0      ...        \n",
       "4         30.0         30.0         11.0         12.0      ...        \n",
       "\n",
       "   COM_CAT#31_5  COM_CAT#32_3  COM_CAT#32_4  COM_CAT#32_5  COM_CAT#33_3  \\\n",
       "0      0.088930      0.049189      0.049189      0.049189       0.27508   \n",
       "1      0.019463      0.049189      0.049189      0.049189       0.27508   \n",
       "2      0.054833      0.049189      0.049189      0.049189       0.27508   \n",
       "3      0.115410      0.049189      0.049189      0.049189       0.27508   \n",
       "4      0.006550      0.049189      0.049189      0.049189       0.27508   \n",
       "\n",
       "   COM_CAT#33_4  COM_CAT#33_5  COM_CAT#34_3  COM_CAT#34_4  COM_CAT#34_5  \n",
       "0       0.27508       0.27508           2.0           2.0           2.0  \n",
       "1       0.27508       0.27508          10.0          10.0          10.0  \n",
       "2       0.27508       0.27508           9.0           9.0           9.0  \n",
       "3       0.27508       0.27508           2.0           2.0           2.0  \n",
       "4       0.27508       0.27508          10.0           9.0           9.0  \n",
       "\n",
       "[5 rows x 104 columns]"
      ]
     },
     "execution_count": 31,
     "metadata": {},
     "output_type": "execute_result"
    }
   ],
   "source": [
    "test_pivot.head()"
   ]
  },
  {
   "cell_type": "code",
   "execution_count": 22,
   "metadata": {},
   "outputs": [],
   "source": [
    "tr_pivot.columns = ['_'.join(col) for col in tr_pivot.columns]"
   ]
  },
  {
   "cell_type": "code",
   "execution_count": 23,
   "metadata": {},
   "outputs": [],
   "source": [
    "test_pivot.columns = ['_'.join(col) for col in test_pivot.columns]"
   ]
  },
  {
   "cell_type": "code",
   "execution_count": 24,
   "metadata": {},
   "outputs": [],
   "source": [
    "tr_pivot.reset_index(inplace=True)"
   ]
  },
  {
   "cell_type": "code",
   "execution_count": 25,
   "metadata": {},
   "outputs": [],
   "source": [
    "test_pivot.reset_index(inplace=True)"
   ]
  },
  {
   "cell_type": "code",
   "execution_count": 26,
   "metadata": {},
   "outputs": [],
   "source": [
    "# add contact date and labels\n",
    "tr_pivot = pd.merge(tr_pivot, train_ids, on='SK_ID')"
   ]
  },
  {
   "cell_type": "code",
   "execution_count": 27,
   "metadata": {},
   "outputs": [],
   "source": [
    "test_pivot = pd.merge(test_ids, test_pivot, on='SK_ID', how='left')"
   ]
  },
  {
   "cell_type": "code",
   "execution_count": 28,
   "metadata": {},
   "outputs": [],
   "source": [
    "tr_pivot['CONTACT_DATE'] = pd.to_datetime(tr_pivot['CONTACT_DATE'], format='%d.%m')"
   ]
  },
  {
   "cell_type": "code",
   "execution_count": 29,
   "metadata": {},
   "outputs": [],
   "source": [
    "test_pivot['CONTACT_DATE'] = pd.to_datetime(test_pivot['CONTACT_DATE'], format='%d.%m')"
   ]
  },
  {
   "cell_type": "markdown",
   "metadata": {},
   "source": [
    "#### Process with fastai structured"
   ]
  },
  {
   "cell_type": "code",
   "execution_count": 32,
   "metadata": {},
   "outputs": [],
   "source": [
    "tr_pivot['CONTACT_DATE'] = tr_pivot['CONTACT_DATE'].dt.day\n",
    "test_pivot['CONTACT_DATE'] = test_pivot['CONTACT_DATE'].dt.day"
   ]
  },
  {
   "cell_type": "code",
   "execution_count": 33,
   "metadata": {},
   "outputs": [],
   "source": [
    "train_cats(tr_pivot)"
   ]
  },
  {
   "cell_type": "code",
   "execution_count": 34,
   "metadata": {},
   "outputs": [],
   "source": [
    "apply_cats(test_pivot, tr_pivot)"
   ]
  },
  {
   "cell_type": "code",
   "execution_count": 35,
   "metadata": {},
   "outputs": [
    {
     "name": "stdout",
     "output_type": "stream",
     "text": [
      "<class 'pandas.core.frame.DataFrame'>\n",
      "Int64Index: 3607 entries, 0 to 3606\n",
      "Columns: 105 entries, SK_ID to CONTACT_DATE\n",
      "dtypes: category(3), float64(99), int64(3)\n",
      "memory usage: 2.8 MB\n"
     ]
    }
   ],
   "source": [
    "tr_pivot.info()"
   ]
  },
  {
   "cell_type": "code",
   "execution_count": 36,
   "metadata": {},
   "outputs": [
    {
     "name": "stdout",
     "output_type": "stream",
     "text": [
      "<class 'pandas.core.frame.DataFrame'>\n",
      "Int64Index: 948 entries, 0 to 947\n",
      "Columns: 104 entries, SK_ID to COM_CAT#34_5\n",
      "dtypes: category(3), float64(99), int64(2)\n",
      "memory usage: 758.8 KB\n"
     ]
    }
   ],
   "source": [
    "test_pivot.info()"
   ]
  },
  {
   "cell_type": "code",
   "execution_count": 37,
   "metadata": {},
   "outputs": [],
   "source": [
    "os.makedirs('data/tmp', exist_ok=True)"
   ]
  },
  {
   "cell_type": "code",
   "execution_count": 38,
   "metadata": {},
   "outputs": [],
   "source": [
    "tr_pivot.to_feather('data/tmp/train-features-raw')"
   ]
  },
  {
   "cell_type": "code",
   "execution_count": 39,
   "metadata": {},
   "outputs": [],
   "source": [
    "test_pivot.to_feather('data/tmp/test-features-raw')"
   ]
  },
  {
   "cell_type": "markdown",
   "metadata": {},
   "source": [
    "### Train"
   ]
  },
  {
   "cell_type": "code",
   "execution_count": 40,
   "metadata": {},
   "outputs": [],
   "source": [
    "df, y, nas = proc_df(tr_pivot, 'CSI')"
   ]
  },
  {
   "cell_type": "code",
   "execution_count": 41,
   "metadata": {},
   "outputs": [],
   "source": [
    "test, _, _ = proc_df(test_pivot, na_dict=nas)"
   ]
  },
  {
   "cell_type": "code",
   "execution_count": 42,
   "metadata": {},
   "outputs": [
    {
     "data": {
      "text/plain": [
       "0.9731078458552814"
      ]
     },
     "execution_count": 42,
     "metadata": {},
     "output_type": "execute_result"
    }
   ],
   "source": [
    "m = RandomForestClassifier(n_jobs=-1, n_estimators=10)\n",
    "m.fit(df, y)\n",
    "m.score(df, y)"
   ]
  },
  {
   "cell_type": "code",
   "execution_count": 43,
   "metadata": {},
   "outputs": [],
   "source": [
    "X_train, X_valid, y_train, y_valid = sklearn.model_selection.train_test_split(\n",
    "    df, y, test_size=0.1, stratify=y, random_state=111)"
   ]
  },
  {
   "cell_type": "code",
   "execution_count": 44,
   "metadata": {
    "scrolled": true
   },
   "outputs": [
    {
     "data": {
      "text/plain": [
       "(361, 203)"
      ]
     },
     "execution_count": 44,
     "metadata": {},
     "output_type": "execute_result"
    }
   ],
   "source": [
    "X_valid.shape"
   ]
  },
  {
   "cell_type": "code",
   "execution_count": 45,
   "metadata": {},
   "outputs": [],
   "source": [
    "def print_score(m):\n",
    "    res = [metrics.roc_auc_score(y_train, m.predict_proba(X_train)[:,1]), \n",
    "           metrics.roc_auc_score(y_valid, m.predict_proba(X_valid)[:,1]),\n",
    "           m.score(X_train, y_train), m.score(X_valid, y_valid)]\n",
    "    \n",
    "    if hasattr(m, 'oob_score_'): res.append(m.oob_score_)\n",
    "    print(res)"
   ]
  },
  {
   "cell_type": "code",
   "execution_count": 56,
   "metadata": {},
   "outputs": [
    {
     "name": "stdout",
     "output_type": "stream",
     "text": [
      "[1.0, 0.5625292740046837, 0.9642637091805298, 0.8448753462603878, 0.8428835489833642]\n"
     ]
    }
   ],
   "source": [
    "m = RandomForestClassifier(n_jobs=-1, n_estimators=100, min_samples_leaf=3, max_features=0.8, \n",
    "                           random_state=111, oob_score=True)\n",
    "m.fit(X_train, y_train)\n",
    "print_score(m)"
   ]
  },
  {
   "cell_type": "code",
   "execution_count": 64,
   "metadata": {},
   "outputs": [
    {
     "name": "stdout",
     "output_type": "stream",
     "text": [
      "[0.9999985574565072, 0.4919203747072599, 0.987985212569316, 0.8393351800554016]\n"
     ]
    }
   ],
   "source": [
    "m = lgb.LGBMClassifier(random_state=111)\n",
    "m.fit(X_train, y_train)\n",
    "print_score(m)"
   ]
  },
  {
   "cell_type": "markdown",
   "metadata": {},
   "source": [
    "### Feature Importance "
   ]
  },
  {
   "cell_type": "code",
   "execution_count": 57,
   "metadata": {},
   "outputs": [],
   "source": [
    "fi = rf_feat_importance(m, df)"
   ]
  },
  {
   "cell_type": "code",
   "execution_count": 58,
   "metadata": {},
   "outputs": [
    {
     "data": {
      "text/html": [
       "<div>\n",
       "<style scoped>\n",
       "    .dataframe tbody tr th:only-of-type {\n",
       "        vertical-align: middle;\n",
       "    }\n",
       "\n",
       "    .dataframe tbody tr th {\n",
       "        vertical-align: top;\n",
       "    }\n",
       "\n",
       "    .dataframe thead th {\n",
       "        text-align: right;\n",
       "    }\n",
       "</style>\n",
       "<table border=\"1\" class=\"dataframe\">\n",
       "  <thead>\n",
       "    <tr style=\"text-align: right;\">\n",
       "      <th></th>\n",
       "      <th>cols</th>\n",
       "      <th>imp</th>\n",
       "    </tr>\n",
       "  </thead>\n",
       "  <tbody>\n",
       "    <tr>\n",
       "      <th>0</th>\n",
       "      <td>SK_ID</td>\n",
       "      <td>0.035771</td>\n",
       "    </tr>\n",
       "    <tr>\n",
       "      <th>103</th>\n",
       "      <td>CONTACT_DATE</td>\n",
       "      <td>0.028198</td>\n",
       "    </tr>\n",
       "    <tr>\n",
       "      <th>91</th>\n",
       "      <td>COM_CAT#31_3</td>\n",
       "      <td>0.027523</td>\n",
       "    </tr>\n",
       "    <tr>\n",
       "      <th>81</th>\n",
       "      <td>COM_CAT#27_5</td>\n",
       "      <td>0.025704</td>\n",
       "    </tr>\n",
       "    <tr>\n",
       "      <th>42</th>\n",
       "      <td>RENT_CHANNEL_5</td>\n",
       "      <td>0.025287</td>\n",
       "    </tr>\n",
       "    <tr>\n",
       "      <th>22</th>\n",
       "      <td>COM_CAT#8_3</td>\n",
       "      <td>0.025256</td>\n",
       "    </tr>\n",
       "    <tr>\n",
       "      <th>79</th>\n",
       "      <td>COM_CAT#27_3</td>\n",
       "      <td>0.025086</td>\n",
       "    </tr>\n",
       "    <tr>\n",
       "      <th>93</th>\n",
       "      <td>COM_CAT#31_5</td>\n",
       "      <td>0.024916</td>\n",
       "    </tr>\n",
       "    <tr>\n",
       "      <th>40</th>\n",
       "      <td>RENT_CHANNEL_3</td>\n",
       "      <td>0.024606</td>\n",
       "    </tr>\n",
       "    <tr>\n",
       "      <th>41</th>\n",
       "      <td>RENT_CHANNEL_4</td>\n",
       "      <td>0.022805</td>\n",
       "    </tr>\n",
       "  </tbody>\n",
       "</table>\n",
       "</div>"
      ],
      "text/plain": [
       "               cols       imp\n",
       "0             SK_ID  0.035771\n",
       "103    CONTACT_DATE  0.028198\n",
       "91     COM_CAT#31_3  0.027523\n",
       "81     COM_CAT#27_5  0.025704\n",
       "42   RENT_CHANNEL_5  0.025287\n",
       "22      COM_CAT#8_3  0.025256\n",
       "79     COM_CAT#27_3  0.025086\n",
       "93     COM_CAT#31_5  0.024916\n",
       "40   RENT_CHANNEL_3  0.024606\n",
       "41   RENT_CHANNEL_4  0.022805"
      ]
     },
     "execution_count": 58,
     "metadata": {},
     "output_type": "execute_result"
    }
   ],
   "source": [
    "fi[:10]"
   ]
  },
  {
   "cell_type": "code",
   "execution_count": 59,
   "metadata": {},
   "outputs": [
    {
     "data": {
      "image/png": "[encoded data removed]",
      "text/plain": [
       "<Figure size 720x432 with 1 Axes>"
      ]
     },
     "metadata": {},
     "output_type": "display_data"
    }
   ],
   "source": [
    "fi.plot('cols', 'imp', figsize=(10,6), legend=False);"
   ]
  },
  {
   "cell_type": "code",
   "execution_count": 60,
   "metadata": {},
   "outputs": [],
   "source": [
    "def plot_fi(fi): return fi.plot('cols', 'imp', 'barh', figsize=(12,7), legend=False)"
   ]
  },
  {
   "cell_type": "code",
   "execution_count": 62,
   "metadata": {},
   "outputs": [
    {
     "data": {
      "image/png": "[encoded data removed]",
      "text/plain": [
       "<Figure size 864x504 with 1 Axes>"
      ]
     },
     "metadata": {},
     "output_type": "display_data"
    }
   ],
   "source": [
    "plot_fi(fi[:30]);"
   ]
  },
  {
   "cell_type": "code",
   "execution_count": 148,
   "metadata": {
    "scrolled": true
   },
   "outputs": [
    {
     "data": {
      "text/html": [
       "<div>\n",
       "<style scoped>\n",
       "    .dataframe tbody tr th:only-of-type {\n",
       "        vertical-align: middle;\n",
       "    }\n",
       "\n",
       "    .dataframe tbody tr th {\n",
       "        vertical-align: top;\n",
       "    }\n",
       "\n",
       "    .dataframe thead th {\n",
       "        text-align: right;\n",
       "    }\n",
       "</style>\n",
       "<table border=\"1\" class=\"dataframe\">\n",
       "  <thead>\n",
       "    <tr style=\"text-align: right;\">\n",
       "      <th></th>\n",
       "      <th>imp</th>\n",
       "    </tr>\n",
       "  </thead>\n",
       "  <tbody>\n",
       "    <tr>\n",
       "      <th>count</th>\n",
       "      <td>79.000000</td>\n",
       "    </tr>\n",
       "    <tr>\n",
       "      <th>mean</th>\n",
       "      <td>37.974684</td>\n",
       "    </tr>\n",
       "    <tr>\n",
       "      <th>std</th>\n",
       "      <td>16.778324</td>\n",
       "    </tr>\n",
       "    <tr>\n",
       "      <th>min</th>\n",
       "      <td>6.000000</td>\n",
       "    </tr>\n",
       "    <tr>\n",
       "      <th>25%</th>\n",
       "      <td>26.500000</td>\n",
       "    </tr>\n",
       "    <tr>\n",
       "      <th>50%</th>\n",
       "      <td>37.000000</td>\n",
       "    </tr>\n",
       "    <tr>\n",
       "      <th>75%</th>\n",
       "      <td>47.000000</td>\n",
       "    </tr>\n",
       "    <tr>\n",
       "      <th>max</th>\n",
       "      <td>95.000000</td>\n",
       "    </tr>\n",
       "  </tbody>\n",
       "</table>\n",
       "</div>"
      ],
      "text/plain": [
       "             imp\n",
       "count  79.000000\n",
       "mean   37.974684\n",
       "std    16.778324\n",
       "min     6.000000\n",
       "25%    26.500000\n",
       "50%    37.000000\n",
       "75%    47.000000\n",
       "max    95.000000"
      ]
     },
     "execution_count": 148,
     "metadata": {},
     "output_type": "execute_result"
    }
   ],
   "source": [
    "fi.describe()"
   ]
  },
  {
   "cell_type": "code",
   "execution_count": 104,
   "metadata": {},
   "outputs": [
    {
     "data": {
      "text/plain": [
       "79"
      ]
     },
     "execution_count": 104,
     "metadata": {},
     "output_type": "execute_result"
    }
   ],
   "source": [
    "to_keep = fi[fi.imp>0.005].cols; len(to_keep)"
   ]
  },
  {
   "cell_type": "code",
   "execution_count": 105,
   "metadata": {},
   "outputs": [],
   "source": [
    "df_keep = df[to_keep].copy()\n",
    "X_train, X_valid = X_train[to_keep], X_valid[to_keep]"
   ]
  },
  {
   "cell_type": "markdown",
   "metadata": {},
   "source": [
    "### Predict on test and submit"
   ]
  },
  {
   "cell_type": "code",
   "execution_count": 66,
   "metadata": {},
   "outputs": [
    {
     "data": {
      "text/plain": [
       "RandomForestClassifier(bootstrap=True, class_weight=None, criterion='gini',\n",
       "            max_depth=None, max_features=0.8, max_leaf_nodes=None,\n",
       "            min_impurity_decrease=0.0, min_impurity_split=None,\n",
       "            min_samples_leaf=3, min_samples_split=2,\n",
       "            min_weight_fraction_leaf=0.0, n_estimators=100, n_jobs=-1,\n",
       "            oob_score=False, random_state=111, verbose=0, warm_start=False)"
      ]
     },
     "execution_count": 66,
     "metadata": {},
     "output_type": "execute_result"
    }
   ],
   "source": [
    "m = RandomForestClassifier(n_jobs=-1,  n_estimators=100, min_samples_leaf=3, max_features=0.8,  random_state=111)\n",
    "m.fit(df, y)"
   ]
  },
  {
   "cell_type": "code",
   "execution_count": 149,
   "metadata": {},
   "outputs": [
    {
     "data": {
      "text/plain": [
       "LGBMClassifier(boosting_type='gbdt', class_weight=None, colsample_bytree=1.0,\n",
       "        learning_rate=0.1, max_depth=-1, min_child_samples=20,\n",
       "        min_child_weight=0.001, min_split_gain=0.0, n_estimators=100,\n",
       "        n_jobs=-1, num_leaves=31, objective=None, random_state=111,\n",
       "        reg_alpha=0.0, reg_lambda=0.0, silent=True, subsample=1.0,\n",
       "        subsample_for_bin=200000, subsample_freq=0)"
      ]
     },
     "execution_count": 149,
     "metadata": {},
     "output_type": "execute_result"
    }
   ],
   "source": [
    "m = lgb.LGBMClassifier(random_state=111)\n",
    "m.fit(df_keep, y)"
   ]
  },
  {
   "cell_type": "code",
   "execution_count": 68,
   "metadata": {},
   "outputs": [],
   "source": [
    "pred_y = m.predict_proba(test)[:,1]"
   ]
  },
  {
   "cell_type": "code",
   "execution_count": 69,
   "metadata": {},
   "outputs": [],
   "source": [
    "subm = pd.DataFrame(pred_y)"
   ]
  },
  {
   "cell_type": "code",
   "execution_count": 70,
   "metadata": {},
   "outputs": [],
   "source": [
    "subm.to_csv('submits/rf_on_rand_str_sample_3mt.csv', index=False, header=False)"
   ]
  },
  {
   "cell_type": "code",
   "execution_count": null,
   "metadata": {},
   "outputs": [],
   "source": []
  }
 ],
 "metadata": {
  "kernelspec": {
   "display_name": "Python 3",
   "language": "python",
   "name": "python3"
  },
  "language_info": {
   "codemirror_mode": {
    "name": "ipython",
    "version": 3
   },
   "file_extension": ".py",
   "mimetype": "text/x-python",
   "name": "python",
   "nbconvert_exporter": "python",
   "pygments_lexer": "ipython3",
   "version": "3.6.5"
  },
  "toc": {
   "base_numbering": 1,
   "nav_menu": {},
   "number_sections": true,
   "sideBar": true,
   "skip_h1_title": false,
   "title_cell": "Table of Contents",
   "title_sidebar": "Contents",
   "toc_cell": false,
   "toc_position": {},
   "toc_section_display": true,
   "toc_window_display": false
  }
 },
 "nbformat": 4,
 "nbformat_minor": 2
}
