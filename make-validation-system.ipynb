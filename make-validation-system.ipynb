{
 "cells": [
  {
   "cell_type": "markdown",
   "metadata": {},
   "source": [
    "###  Imports"
   ]
  },
  {
   "cell_type": "code",
   "execution_count": 1,
   "metadata": {},
   "outputs": [],
   "source": [
    "%load_ext autoreload\n",
    "%autoreload 2\n",
    "\n",
    "%matplotlib inline"
   ]
  },
  {
   "cell_type": "code",
   "execution_count": 2,
   "metadata": {},
   "outputs": [],
   "source": [
    "from fastai.imports import *\n",
    "from fastai.structured import *\n",
    "\n",
    "from pandas_summary import DataFrameSummary\n",
    "from sklearn.ensemble import RandomForestRegressor, RandomForestClassifier\n",
    "from IPython.display import display\n",
    "\n",
    "from sklearn import metrics"
   ]
  },
  {
   "cell_type": "markdown",
   "metadata": {},
   "source": [
    "### Const and Func"
   ]
  },
  {
   "cell_type": "code",
   "execution_count": 3,
   "metadata": {},
   "outputs": [],
   "source": [
    "path = Path('data/dataset/').expanduser()"
   ]
  },
  {
   "cell_type": "code",
   "execution_count": 4,
   "metadata": {},
   "outputs": [
    {
     "data": {
      "text/plain": [
       "PosixPath('data/dataset')"
      ]
     },
     "execution_count": 4,
     "metadata": {},
     "output_type": "execute_result"
    }
   ],
   "source": [
    "path"
   ]
  },
  {
   "cell_type": "code",
   "execution_count": 5,
   "metadata": {},
   "outputs": [
    {
     "name": "stdout",
     "output_type": "stream",
     "text": [
      "!dataset_fields_description.xlsx sample-submit-zero.csv\r\n",
      "bs_avg_kpi.csv                   \u001b[1m\u001b[36mtest\u001b[m\u001b[m\r\n",
      "bs_chnn_kpi.csv                  \u001b[1m\u001b[36mtrain\u001b[m\u001b[m\r\n"
     ]
    }
   ],
   "source": [
    "! ls {path}"
   ]
  },
  {
   "cell_type": "code",
   "execution_count": 6,
   "metadata": {},
   "outputs": [
    {
     "name": "stdout",
     "output_type": "stream",
     "text": [
      "subs_bs_consumption_train.csv   subs_csi_train.csv\r\n",
      "subs_bs_data_session_train.csv  subs_features_train.csv\r\n",
      "subs_bs_voice_session_train.csv\r\n"
     ]
    }
   ],
   "source": [
    "! ls {path/'train'}"
   ]
  },
  {
   "cell_type": "code",
   "execution_count": 7,
   "metadata": {},
   "outputs": [],
   "source": [
    "def display_all(df):\n",
    "    with pd.option_context(\"display.max_rows\", 1000, \"display.max_columns\", 1000): \n",
    "        display(df)"
   ]
  },
  {
   "cell_type": "code",
   "execution_count": 8,
   "metadata": {},
   "outputs": [],
   "source": [
    "subs_csi_tr_df = pd.read_csv(path/'train/subs_csi_train.csv', sep=';')"
   ]
  },
  {
   "cell_type": "code",
   "execution_count": 9,
   "metadata": {},
   "outputs": [],
   "source": [
    "subs_csi_te_df = pd.read_csv(path/'test/subs_csi_test.csv', sep=';')"
   ]
  },
  {
   "cell_type": "markdown",
   "metadata": {},
   "source": [
    "### Fast and First EDA "
   ]
  },
  {
   "cell_type": "code",
   "execution_count": 10,
   "metadata": {},
   "outputs": [
    {
     "data": {
      "text/html": [
       "<div>\n",
       "<style scoped>\n",
       "    .dataframe tbody tr th:only-of-type {\n",
       "        vertical-align: middle;\n",
       "    }\n",
       "\n",
       "    .dataframe tbody tr th {\n",
       "        vertical-align: top;\n",
       "    }\n",
       "\n",
       "    .dataframe thead th {\n",
       "        text-align: right;\n",
       "    }\n",
       "</style>\n",
       "<table border=\"1\" class=\"dataframe\">\n",
       "  <thead>\n",
       "    <tr style=\"text-align: right;\">\n",
       "      <th></th>\n",
       "      <th>SK_ID</th>\n",
       "      <th>CSI</th>\n",
       "      <th>CONTACT_DATE</th>\n",
       "    </tr>\n",
       "  </thead>\n",
       "  <tbody>\n",
       "    <tr>\n",
       "      <th>0</th>\n",
       "      <td>2</td>\n",
       "      <td>0</td>\n",
       "      <td>4.05</td>\n",
       "    </tr>\n",
       "    <tr>\n",
       "      <th>1</th>\n",
       "      <td>3</td>\n",
       "      <td>0</td>\n",
       "      <td>21.05</td>\n",
       "    </tr>\n",
       "    <tr>\n",
       "      <th>2</th>\n",
       "      <td>4</td>\n",
       "      <td>0</td>\n",
       "      <td>27.05</td>\n",
       "    </tr>\n",
       "    <tr>\n",
       "      <th>3</th>\n",
       "      <td>5</td>\n",
       "      <td>0</td>\n",
       "      <td>8.05</td>\n",
       "    </tr>\n",
       "    <tr>\n",
       "      <th>4</th>\n",
       "      <td>6</td>\n",
       "      <td>1</td>\n",
       "      <td>6.05</td>\n",
       "    </tr>\n",
       "  </tbody>\n",
       "</table>\n",
       "</div>"
      ],
      "text/plain": [
       "   SK_ID  CSI  CONTACT_DATE\n",
       "0      2    0          4.05\n",
       "1      3    0         21.05\n",
       "2      4    0         27.05\n",
       "3      5    0          8.05\n",
       "4      6    1          6.05"
      ]
     },
     "execution_count": 10,
     "metadata": {},
     "output_type": "execute_result"
    }
   ],
   "source": [
    "subs_csi_tr_df.head()"
   ]
  },
  {
   "cell_type": "code",
   "execution_count": 11,
   "metadata": {},
   "outputs": [
    {
     "data": {
      "text/html": [
       "<div>\n",
       "<style scoped>\n",
       "    .dataframe tbody tr th:only-of-type {\n",
       "        vertical-align: middle;\n",
       "    }\n",
       "\n",
       "    .dataframe tbody tr th {\n",
       "        vertical-align: top;\n",
       "    }\n",
       "\n",
       "    .dataframe thead th {\n",
       "        text-align: right;\n",
       "    }\n",
       "</style>\n",
       "<table border=\"1\" class=\"dataframe\">\n",
       "  <thead>\n",
       "    <tr style=\"text-align: right;\">\n",
       "      <th></th>\n",
       "      <th>SK_ID</th>\n",
       "      <th>CONTACT_DATE</th>\n",
       "    </tr>\n",
       "  </thead>\n",
       "  <tbody>\n",
       "    <tr>\n",
       "      <th>0</th>\n",
       "      <td>6184</td>\n",
       "      <td>2.04</td>\n",
       "    </tr>\n",
       "    <tr>\n",
       "      <th>1</th>\n",
       "      <td>5175</td>\n",
       "      <td>18.04</td>\n",
       "    </tr>\n",
       "    <tr>\n",
       "      <th>2</th>\n",
       "      <td>5478</td>\n",
       "      <td>2.04</td>\n",
       "    </tr>\n",
       "    <tr>\n",
       "      <th>3</th>\n",
       "      <td>7807</td>\n",
       "      <td>14.04</td>\n",
       "    </tr>\n",
       "    <tr>\n",
       "      <th>4</th>\n",
       "      <td>5640</td>\n",
       "      <td>3.04</td>\n",
       "    </tr>\n",
       "  </tbody>\n",
       "</table>\n",
       "</div>"
      ],
      "text/plain": [
       "   SK_ID  CONTACT_DATE\n",
       "0   6184          2.04\n",
       "1   5175         18.04\n",
       "2   5478          2.04\n",
       "3   7807         14.04\n",
       "4   5640          3.04"
      ]
     },
     "execution_count": 11,
     "metadata": {},
     "output_type": "execute_result"
    }
   ],
   "source": [
    "subs_csi_te_df.head()"
   ]
  },
  {
   "cell_type": "code",
   "execution_count": 12,
   "metadata": {},
   "outputs": [
    {
     "name": "stdout",
     "output_type": "stream",
     "text": [
      "<class 'pandas.core.frame.DataFrame'>\n",
      "RangeIndex: 4222 entries, 0 to 4221\n",
      "Data columns (total 3 columns):\n",
      "SK_ID           4222 non-null int64\n",
      "CSI             4222 non-null int64\n",
      "CONTACT_DATE    4222 non-null float64\n",
      "dtypes: float64(1), int64(2)\n",
      "memory usage: 99.0 KB\n"
     ]
    }
   ],
   "source": [
    "subs_csi_tr_df.info()"
   ]
  },
  {
   "cell_type": "code",
   "execution_count": 13,
   "metadata": {},
   "outputs": [
    {
     "name": "stdout",
     "output_type": "stream",
     "text": [
      "<class 'pandas.core.frame.DataFrame'>\n",
      "RangeIndex: 5221 entries, 0 to 5220\n",
      "Data columns (total 2 columns):\n",
      "SK_ID           5221 non-null int64\n",
      "CONTACT_DATE    5221 non-null float64\n",
      "dtypes: float64(1), int64(1)\n",
      "memory usage: 81.7 KB\n"
     ]
    }
   ],
   "source": [
    "subs_csi_te_df.info()"
   ]
  },
  {
   "cell_type": "code",
   "execution_count": 14,
   "metadata": {},
   "outputs": [
    {
     "data": {
      "text/plain": [
       "4222"
      ]
     },
     "execution_count": 14,
     "metadata": {},
     "output_type": "execute_result"
    }
   ],
   "source": [
    "# 3754 unique users in train, no duplicates\n",
    "subs_csi_tr_df.SK_ID.nunique()"
   ]
  },
  {
   "cell_type": "code",
   "execution_count": 15,
   "metadata": {},
   "outputs": [
    {
     "data": {
      "text/plain": [
       "5221"
      ]
     },
     "execution_count": 15,
     "metadata": {},
     "output_type": "execute_result"
    }
   ],
   "source": [
    "# 948 unique users in test, no duplicates\n",
    "subs_csi_te_df.SK_ID.nunique()"
   ]
  },
  {
   "cell_type": "code",
   "execution_count": 16,
   "metadata": {},
   "outputs": [
    {
     "data": {
      "text/plain": [
       "0.15537659876835622"
      ]
     },
     "execution_count": 16,
     "metadata": {},
     "output_type": "execute_result"
    }
   ],
   "source": [
    "# ~15% unsutisfied customers \n",
    "subs_csi_tr_df.CSI.mean()"
   ]
  },
  {
   "cell_type": "code",
   "execution_count": 17,
   "metadata": {},
   "outputs": [
    {
     "data": {
      "text/html": [
       "<div>\n",
       "<style scoped>\n",
       "    .dataframe tbody tr th:only-of-type {\n",
       "        vertical-align: middle;\n",
       "    }\n",
       "\n",
       "    .dataframe tbody tr th {\n",
       "        vertical-align: top;\n",
       "    }\n",
       "\n",
       "    .dataframe thead th {\n",
       "        text-align: right;\n",
       "    }\n",
       "</style>\n",
       "<table border=\"1\" class=\"dataframe\">\n",
       "  <thead>\n",
       "    <tr style=\"text-align: right;\">\n",
       "      <th></th>\n",
       "      <th>SK_ID</th>\n",
       "      <th>CSI</th>\n",
       "      <th>CONTACT_DATE</th>\n",
       "    </tr>\n",
       "  </thead>\n",
       "  <tbody>\n",
       "    <tr>\n",
       "      <th>count</th>\n",
       "      <td>4222.000000</td>\n",
       "      <td>4222.000000</td>\n",
       "      <td>4222.000000</td>\n",
       "    </tr>\n",
       "    <tr>\n",
       "      <th>mean</th>\n",
       "      <td>2352.205116</td>\n",
       "      <td>0.155377</td>\n",
       "      <td>15.008550</td>\n",
       "    </tr>\n",
       "    <tr>\n",
       "      <th>std</th>\n",
       "      <td>1364.712938</td>\n",
       "      <td>0.362306</td>\n",
       "      <td>8.868538</td>\n",
       "    </tr>\n",
       "    <tr>\n",
       "      <th>min</th>\n",
       "      <td>2.000000</td>\n",
       "      <td>0.000000</td>\n",
       "      <td>1.050000</td>\n",
       "    </tr>\n",
       "    <tr>\n",
       "      <th>25%</th>\n",
       "      <td>1169.250000</td>\n",
       "      <td>0.000000</td>\n",
       "      <td>8.050000</td>\n",
       "    </tr>\n",
       "    <tr>\n",
       "      <th>50%</th>\n",
       "      <td>2352.500000</td>\n",
       "      <td>0.000000</td>\n",
       "      <td>13.050000</td>\n",
       "    </tr>\n",
       "    <tr>\n",
       "      <th>75%</th>\n",
       "      <td>3543.750000</td>\n",
       "      <td>0.000000</td>\n",
       "      <td>23.050000</td>\n",
       "    </tr>\n",
       "    <tr>\n",
       "      <th>max</th>\n",
       "      <td>4702.000000</td>\n",
       "      <td>1.000000</td>\n",
       "      <td>31.050000</td>\n",
       "    </tr>\n",
       "  </tbody>\n",
       "</table>\n",
       "</div>"
      ],
      "text/plain": [
       "             SK_ID          CSI  CONTACT_DATE\n",
       "count  4222.000000  4222.000000   4222.000000\n",
       "mean   2352.205116     0.155377     15.008550\n",
       "std    1364.712938     0.362306      8.868538\n",
       "min       2.000000     0.000000      1.050000\n",
       "25%    1169.250000     0.000000      8.050000\n",
       "50%    2352.500000     0.000000     13.050000\n",
       "75%    3543.750000     0.000000     23.050000\n",
       "max    4702.000000     1.000000     31.050000"
      ]
     },
     "execution_count": 17,
     "metadata": {},
     "output_type": "execute_result"
    }
   ],
   "source": [
    "subs_csi_tr_df.describe()"
   ]
  },
  {
   "cell_type": "code",
   "execution_count": 18,
   "metadata": {},
   "outputs": [
    {
     "data": {
      "text/html": [
       "<div>\n",
       "<style scoped>\n",
       "    .dataframe tbody tr th:only-of-type {\n",
       "        vertical-align: middle;\n",
       "    }\n",
       "\n",
       "    .dataframe tbody tr th {\n",
       "        vertical-align: top;\n",
       "    }\n",
       "\n",
       "    .dataframe thead th {\n",
       "        text-align: right;\n",
       "    }\n",
       "</style>\n",
       "<table border=\"1\" class=\"dataframe\">\n",
       "  <thead>\n",
       "    <tr style=\"text-align: right;\">\n",
       "      <th></th>\n",
       "      <th>SK_ID</th>\n",
       "      <th>CONTACT_DATE</th>\n",
       "    </tr>\n",
       "  </thead>\n",
       "  <tbody>\n",
       "    <tr>\n",
       "      <th>count</th>\n",
       "      <td>5221.000000</td>\n",
       "      <td>5221.000000</td>\n",
       "    </tr>\n",
       "    <tr>\n",
       "      <th>mean</th>\n",
       "      <td>6918.778012</td>\n",
       "      <td>14.403963</td>\n",
       "    </tr>\n",
       "    <tr>\n",
       "      <th>std</th>\n",
       "      <td>1868.527636</td>\n",
       "      <td>7.875737</td>\n",
       "    </tr>\n",
       "    <tr>\n",
       "      <th>min</th>\n",
       "      <td>1.000000</td>\n",
       "      <td>1.040000</td>\n",
       "    </tr>\n",
       "    <tr>\n",
       "      <th>25%</th>\n",
       "      <td>5709.000000</td>\n",
       "      <td>7.040000</td>\n",
       "    </tr>\n",
       "    <tr>\n",
       "      <th>50%</th>\n",
       "      <td>7052.000000</td>\n",
       "      <td>14.040000</td>\n",
       "    </tr>\n",
       "    <tr>\n",
       "      <th>75%</th>\n",
       "      <td>8404.000000</td>\n",
       "      <td>21.040000</td>\n",
       "    </tr>\n",
       "    <tr>\n",
       "      <th>max</th>\n",
       "      <td>9748.000000</td>\n",
       "      <td>31.050000</td>\n",
       "    </tr>\n",
       "  </tbody>\n",
       "</table>\n",
       "</div>"
      ],
      "text/plain": [
       "             SK_ID  CONTACT_DATE\n",
       "count  5221.000000   5221.000000\n",
       "mean   6918.778012     14.403963\n",
       "std    1868.527636      7.875737\n",
       "min       1.000000      1.040000\n",
       "25%    5709.000000      7.040000\n",
       "50%    7052.000000     14.040000\n",
       "75%    8404.000000     21.040000\n",
       "max    9748.000000     31.050000"
      ]
     },
     "execution_count": 18,
     "metadata": {},
     "output_type": "execute_result"
    }
   ],
   "source": [
    "subs_csi_te_df.describe()"
   ]
  },
  {
   "cell_type": "code",
   "execution_count": 19,
   "metadata": {},
   "outputs": [
    {
     "data": {
      "text/plain": [
       "31"
      ]
     },
     "execution_count": 19,
     "metadata": {},
     "output_type": "execute_result"
    }
   ],
   "source": [
    "subs_csi_tr_df.CONTACT_DATE.nunique()"
   ]
  },
  {
   "cell_type": "code",
   "execution_count": 20,
   "metadata": {},
   "outputs": [
    {
     "data": {
      "text/plain": [
       "array([ 4.05, 21.05, 27.05,  8.05,  6.05,  3.05, 30.05, 29.05, 26.05,  2.05,  9.05, 17.05, 12.05, 15.05,\n",
       "       20.05,  1.05, 10.05, 25.05, 23.05, 31.05, 28.05, 18.05,  5.05, 24.05, 19.05,  7.05, 14.05, 11.05,\n",
       "       13.05, 22.05, 16.05])"
      ]
     },
     "execution_count": 20,
     "metadata": {},
     "output_type": "execute_result"
    }
   ],
   "source": [
    "subs_csi_tr_df.CONTACT_DATE.unique()"
   ]
  },
  {
   "cell_type": "code",
   "execution_count": 21,
   "metadata": {},
   "outputs": [
    {
     "data": {
      "text/plain": [
       "59"
      ]
     },
     "execution_count": 21,
     "metadata": {},
     "output_type": "execute_result"
    }
   ],
   "source": [
    "subs_csi_te_df.CONTACT_DATE.nunique()"
   ]
  },
  {
   "cell_type": "code",
   "execution_count": 22,
   "metadata": {},
   "outputs": [
    {
     "data": {
      "text/plain": [
       "array([ 2.04, 18.04, 14.04,  3.04, 19.04,  2.05,  9.04, 12.04, 23.04,  4.04,  1.05, 22.04,  7.04, 10.05,\n",
       "       16.04,  1.04, 11.04, 24.04, 26.04, 20.04, 15.04, 25.04, 17.05,  5.04, 10.04, 13.04, 17.04, 21.04,\n",
       "       27.04, 28.04,  6.04,  8.04, 14.05, 23.05,  5.05, 24.05, 20.05,  7.05, 28.05, 21.05, 12.05, 30.05,\n",
       "       22.05, 26.05,  4.05,  8.05, 18.05,  9.05,  6.05, 13.05,  3.05, 25.05, 19.05, 29.05, 16.05, 11.05,\n",
       "       27.05, 15.05, 31.05])"
      ]
     },
     "execution_count": 22,
     "metadata": {},
     "output_type": "execute_result"
    }
   ],
   "source": [
    "subs_csi_te_df.CONTACT_DATE.unique()"
   ]
  },
  {
   "cell_type": "code",
   "execution_count": 23,
   "metadata": {},
   "outputs": [
    {
     "data": {
      "text/plain": [
       "set()"
      ]
     },
     "execution_count": 23,
     "metadata": {},
     "output_type": "execute_result"
    }
   ],
   "source": [
    "# difference of dates in train and test\n",
    "set(subs_csi_tr_df.CONTACT_DATE.unique()).difference(subs_csi_te_df.CONTACT_DATE.unique())"
   ]
  },
  {
   "cell_type": "markdown",
   "metadata": {},
   "source": [
    "### Random validation"
   ]
  },
  {
   "cell_type": "code",
   "execution_count": 24,
   "metadata": {},
   "outputs": [],
   "source": [
    "np.random.seed(111)"
   ]
  },
  {
   "cell_type": "markdown",
   "metadata": {},
   "source": [
    "#### Validate "
   ]
  },
  {
   "cell_type": "code",
   "execution_count": 24,
   "metadata": {},
   "outputs": [],
   "source": [
    "all_train_ids = subs_csi_tr_df.SK_ID.values"
   ]
  },
  {
   "cell_type": "code",
   "execution_count": 25,
   "metadata": {},
   "outputs": [],
   "source": [
    "full_tr_num = len(subs_csi_tr_df)"
   ]
  },
  {
   "cell_type": "code",
   "execution_count": 26,
   "metadata": {},
   "outputs": [],
   "source": [
    "val_num = full_tr_num // 7"
   ]
  },
  {
   "cell_type": "code",
   "execution_count": 27,
   "metadata": {},
   "outputs": [],
   "source": [
    "shuffle_ids = np.random.permutation(len(subs_csi_tr_df))"
   ]
  },
  {
   "cell_type": "code",
   "execution_count": 28,
   "metadata": {},
   "outputs": [],
   "source": [
    "val_ids = shuffle_ids[:val_num]\n",
    "tr_ids = shuffle_ids[val_num:]"
   ]
  },
  {
   "cell_type": "code",
   "execution_count": 29,
   "metadata": {},
   "outputs": [],
   "source": [
    "train = subs_csi_tr_df.iloc[tr_ids].copy()\n",
    "valid = subs_csi_tr_df.iloc[val_ids].copy()"
   ]
  },
  {
   "cell_type": "code",
   "execution_count": 30,
   "metadata": {},
   "outputs": [],
   "source": [
    "val_y = valid.CSI\n",
    "tr_y = train.CSI"
   ]
  },
  {
   "cell_type": "code",
   "execution_count": 32,
   "metadata": {},
   "outputs": [],
   "source": [
    "pred_y = [train.CSI.mean()] * len(valid)"
   ]
  },
  {
   "cell_type": "code",
   "execution_count": 33,
   "metadata": {},
   "outputs": [
    {
     "data": {
      "text/plain": [
       "True"
      ]
     },
     "execution_count": 33,
     "metadata": {},
     "output_type": "execute_result"
    }
   ],
   "source": [
    "len(val_y) == len(pred_y)"
   ]
  },
  {
   "cell_type": "code",
   "execution_count": 34,
   "metadata": {
    "scrolled": true
   },
   "outputs": [
    {
     "data": {
      "text/plain": [
       "0.5"
      ]
     },
     "execution_count": 34,
     "metadata": {},
     "output_type": "execute_result"
    }
   ],
   "source": [
    "metrics.roc_auc_score(val_y, pred_y)"
   ]
  },
  {
   "cell_type": "code",
   "execution_count": 35,
   "metadata": {},
   "outputs": [],
   "source": [
    "val_ids = valid.SK_ID.values\n",
    "tr_ids = train.SK_ID.values"
   ]
  },
  {
   "cell_type": "code",
   "execution_count": 36,
   "metadata": {},
   "outputs": [
    {
     "data": {
      "text/plain": [
       "((3218,), (536,))"
      ]
     },
     "execution_count": 36,
     "metadata": {},
     "output_type": "execute_result"
    }
   ],
   "source": [
    "tr_ids.shape, val_ids.shape"
   ]
  },
  {
   "cell_type": "markdown",
   "metadata": {},
   "source": [
    "#### Test"
   ]
  },
  {
   "cell_type": "code",
   "execution_count": 55,
   "metadata": {},
   "outputs": [],
   "source": [
    "pred_y = [subs_csi_tr_df.CSI.mean()] * len(subs_csi_te_df)"
   ]
  },
  {
   "cell_type": "code",
   "execution_count": 57,
   "metadata": {},
   "outputs": [],
   "source": [
    "subm = pd.DataFrame(pred_y)"
   ]
  },
  {
   "cell_type": "code",
   "execution_count": 60,
   "metadata": {},
   "outputs": [],
   "source": [
    "subm.to_csv('submits/tr_mean.csv', index=False, header=False)"
   ]
  },
  {
   "cell_type": "code",
   "execution_count": 61,
   "metadata": {},
   "outputs": [],
   "source": [
    "# test ROC AUC = 0.5"
   ]
  },
  {
   "cell_type": "markdown",
   "metadata": {},
   "source": [
    "### Extrapolation"
   ]
  },
  {
   "cell_type": "code",
   "execution_count": 25,
   "metadata": {},
   "outputs": [],
   "source": [
    "train_ext = subs_csi_tr_df.drop('CSI', axis=1).copy()\n",
    "train_ext['is_test'] = 0\n",
    "test_ext = subs_csi_te_df.copy()\n",
    "test_ext['is_test'] = 1\n",
    "\n",
    "merged_ext = pd.concat([train_ext, test_ext])\n",
    "x, y, nas = proc_df(merged_ext, 'is_test')"
   ]
  },
  {
   "cell_type": "code",
   "execution_count": 26,
   "metadata": {},
   "outputs": [
    {
     "data": {
      "text/plain": [
       "0.963253203431113"
      ]
     },
     "execution_count": 26,
     "metadata": {},
     "output_type": "execute_result"
    }
   ],
   "source": [
    "m = RandomForestClassifier(n_estimators=40, min_samples_leaf=3, max_features=0.5, n_jobs=-1, oob_score=True)\n",
    "m.fit(x, y);\n",
    "m.oob_score_"
   ]
  },
  {
   "cell_type": "code",
   "execution_count": 27,
   "metadata": {},
   "outputs": [
    {
     "data": {
      "text/html": [
       "<div>\n",
       "<style scoped>\n",
       "    .dataframe tbody tr th:only-of-type {\n",
       "        vertical-align: middle;\n",
       "    }\n",
       "\n",
       "    .dataframe tbody tr th {\n",
       "        vertical-align: top;\n",
       "    }\n",
       "\n",
       "    .dataframe thead th {\n",
       "        text-align: right;\n",
       "    }\n",
       "</style>\n",
       "<table border=\"1\" class=\"dataframe\">\n",
       "  <thead>\n",
       "    <tr style=\"text-align: right;\">\n",
       "      <th></th>\n",
       "      <th>cols</th>\n",
       "      <th>imp</th>\n",
       "    </tr>\n",
       "  </thead>\n",
       "  <tbody>\n",
       "    <tr>\n",
       "      <th>0</th>\n",
       "      <td>SK_ID</td>\n",
       "      <td>0.942358</td>\n",
       "    </tr>\n",
       "    <tr>\n",
       "      <th>1</th>\n",
       "      <td>CONTACT_DATE</td>\n",
       "      <td>0.057642</td>\n",
       "    </tr>\n",
       "  </tbody>\n",
       "</table>\n",
       "</div>"
      ],
      "text/plain": [
       "           cols       imp\n",
       "0         SK_ID  0.942358\n",
       "1  CONTACT_DATE  0.057642"
      ]
     },
     "execution_count": 27,
     "metadata": {},
     "output_type": "execute_result"
    }
   ],
   "source": [
    "fi = rf_feat_importance(m, x); fi[:10]"
   ]
  },
  {
   "cell_type": "code",
   "execution_count": 68,
   "metadata": {},
   "outputs": [
    {
     "data": {
      "text/plain": [
       "count    3754.000000\n",
       "mean     2354.045818\n",
       "std      1363.579050\n",
       "min         2.000000\n",
       "25%      1174.250000\n",
       "50%      2360.500000\n",
       "75%      3549.500000\n",
       "max      4701.000000\n",
       "Name: SK_ID, dtype: float64"
      ]
     },
     "execution_count": 68,
     "metadata": {},
     "output_type": "execute_result"
    }
   ],
   "source": [
    "subs_csi_tr_df.SK_ID.describe()"
   ]
  },
  {
   "cell_type": "code",
   "execution_count": 69,
   "metadata": {},
   "outputs": [
    {
     "data": {
      "text/plain": [
       "count     948.000000\n",
       "mean     2341.418776\n",
       "std      1333.791553\n",
       "min         1.000000\n",
       "25%      1182.750000\n",
       "50%      2329.000000\n",
       "75%      3462.250000\n",
       "max      4702.000000\n",
       "Name: SK_ID, dtype: float64"
      ]
     },
     "execution_count": 69,
     "metadata": {},
     "output_type": "execute_result"
    }
   ],
   "source": [
    "subs_csi_te_df.SK_ID.describe()"
   ]
  },
  {
   "cell_type": "code",
   "execution_count": 75,
   "metadata": {},
   "outputs": [
    {
     "data": {
      "text/plain": [
       "0    1973\n",
       "1     987\n",
       "2     351\n",
       "3      81\n",
       "4    4427\n",
       "5    1314\n",
       "6    1589\n",
       "7    1750\n",
       "8    4238\n",
       "9    2507\n",
       "Name: SK_ID, dtype: int64"
      ]
     },
     "execution_count": 75,
     "metadata": {},
     "output_type": "execute_result"
    }
   ],
   "source": [
    "subs_csi_tr_df.SK_ID.iloc[:10]"
   ]
  },
  {
   "cell_type": "code",
   "execution_count": 74,
   "metadata": {},
   "outputs": [
    {
     "data": {
      "text/plain": [
       "0     308\n",
       "1    1789\n",
       "2    3386\n",
       "3    2429\n",
       "4     693\n",
       "5    2003\n",
       "6     830\n",
       "7    1003\n",
       "8    2940\n",
       "9    2352\n",
       "Name: SK_ID, dtype: int64"
      ]
     },
     "execution_count": 74,
     "metadata": {},
     "output_type": "execute_result"
    }
   ],
   "source": [
    "subs_csi_te_df.SK_ID.iloc[:10]"
   ]
  },
  {
   "cell_type": "markdown",
   "metadata": {},
   "source": [
    "### Subs Features"
   ]
  },
  {
   "cell_type": "code",
   "execution_count": 37,
   "metadata": {},
   "outputs": [
    {
     "name": "stdout",
     "output_type": "stream",
     "text": [
      "subs_bs_consumption_train.csv\t subs_csi_train.csv\r\n",
      "subs_bs_data_session_train.csv\t subs_features_train.csv\r\n",
      "subs_bs_voice_session_train.csv\r\n"
     ]
    }
   ],
   "source": [
    "! ls {path/'train'}"
   ]
  },
  {
   "cell_type": "code",
   "execution_count": 38,
   "metadata": {},
   "outputs": [],
   "source": [
    "subs_feat_tr_df = pd.read_csv(path/'train/subs_features_train.csv', sep=';', decimal=',', \n",
    "                              parse_dates=['SNAP_DATE'], infer_datetime_format=True, dayfirst=True)"
   ]
  },
  {
   "cell_type": "code",
   "execution_count": 39,
   "metadata": {},
   "outputs": [],
   "source": [
    "subs_feat_te_df = pd.read_csv(path/'test/subs_features_test.csv', sep=';', decimal=',', \n",
    "                              parse_dates=['SNAP_DATE'], infer_datetime_format=True, dayfirst=True)"
   ]
  },
  {
   "cell_type": "code",
   "execution_count": 40,
   "metadata": {},
   "outputs": [
    {
     "data": {
      "text/html": [
       "<div>\n",
       "<style scoped>\n",
       "    .dataframe tbody tr th:only-of-type {\n",
       "        vertical-align: middle;\n",
       "    }\n",
       "\n",
       "    .dataframe tbody tr th {\n",
       "        vertical-align: top;\n",
       "    }\n",
       "\n",
       "    .dataframe thead th {\n",
       "        text-align: right;\n",
       "    }\n",
       "</style>\n",
       "<table border=\"1\" class=\"dataframe\">\n",
       "  <thead>\n",
       "    <tr style=\"text-align: right;\">\n",
       "      <th></th>\n",
       "      <th>SNAP_DATE</th>\n",
       "      <th>COM_CAT#1</th>\n",
       "      <th>SK_ID</th>\n",
       "      <th>COM_CAT#2</th>\n",
       "      <th>COM_CAT#3</th>\n",
       "      <th>BASE_TYPE</th>\n",
       "      <th>ACT</th>\n",
       "      <th>ARPU_GROUP</th>\n",
       "      <th>COM_CAT#7</th>\n",
       "      <th>COM_CAT#8</th>\n",
       "      <th>...</th>\n",
       "      <th>COM_CAT#25</th>\n",
       "      <th>COM_CAT#26</th>\n",
       "      <th>COM_CAT#27</th>\n",
       "      <th>COM_CAT#28</th>\n",
       "      <th>COM_CAT#29</th>\n",
       "      <th>COM_CAT#30</th>\n",
       "      <th>COM_CAT#31</th>\n",
       "      <th>COM_CAT#32</th>\n",
       "      <th>COM_CAT#33</th>\n",
       "      <th>COM_CAT#34</th>\n",
       "    </tr>\n",
       "  </thead>\n",
       "  <tbody>\n",
       "    <tr>\n",
       "      <th>0</th>\n",
       "      <td>2001-07-01</td>\n",
       "      <td>4</td>\n",
       "      <td>4053</td>\n",
       "      <td>38</td>\n",
       "      <td>5</td>\n",
       "      <td>2</td>\n",
       "      <td>1</td>\n",
       "      <td>6.0</td>\n",
       "      <td>3</td>\n",
       "      <td>944.0</td>\n",
       "      <td>...</td>\n",
       "      <td>1</td>\n",
       "      <td>1</td>\n",
       "      <td>0.000099</td>\n",
       "      <td>0.002529</td>\n",
       "      <td>0.000000</td>\n",
       "      <td>0.000000</td>\n",
       "      <td>0.013087</td>\n",
       "      <td>0.049189</td>\n",
       "      <td>0.27508</td>\n",
       "      <td>8.0</td>\n",
       "    </tr>\n",
       "    <tr>\n",
       "      <th>1</th>\n",
       "      <td>2001-07-01</td>\n",
       "      <td>4</td>\n",
       "      <td>358</td>\n",
       "      <td>59</td>\n",
       "      <td>5</td>\n",
       "      <td>2</td>\n",
       "      <td>1</td>\n",
       "      <td>3.0</td>\n",
       "      <td>3</td>\n",
       "      <td>1013.0</td>\n",
       "      <td>...</td>\n",
       "      <td>1</td>\n",
       "      <td>1</td>\n",
       "      <td>0.000165</td>\n",
       "      <td>0.001658</td>\n",
       "      <td>0.000000</td>\n",
       "      <td>0.000000</td>\n",
       "      <td>0.002422</td>\n",
       "      <td>0.049189</td>\n",
       "      <td>0.27508</td>\n",
       "      <td>3.0</td>\n",
       "    </tr>\n",
       "    <tr>\n",
       "      <th>2</th>\n",
       "      <td>2002-01-01</td>\n",
       "      <td>4</td>\n",
       "      <td>1184</td>\n",
       "      <td>43</td>\n",
       "      <td>5</td>\n",
       "      <td>2</td>\n",
       "      <td>1</td>\n",
       "      <td>11.0</td>\n",
       "      <td>1</td>\n",
       "      <td>1625.0</td>\n",
       "      <td>...</td>\n",
       "      <td>1</td>\n",
       "      <td>1</td>\n",
       "      <td>0.012292</td>\n",
       "      <td>0.016809</td>\n",
       "      <td>0.016444</td>\n",
       "      <td>0.163132</td>\n",
       "      <td>0.067453</td>\n",
       "      <td>0.049189</td>\n",
       "      <td>0.27508</td>\n",
       "      <td>2.0</td>\n",
       "    </tr>\n",
       "    <tr>\n",
       "      <th>3</th>\n",
       "      <td>2002-02-01</td>\n",
       "      <td>4</td>\n",
       "      <td>1254</td>\n",
       "      <td>80</td>\n",
       "      <td>5</td>\n",
       "      <td>2</td>\n",
       "      <td>1</td>\n",
       "      <td>12.0</td>\n",
       "      <td>1</td>\n",
       "      <td>114.0</td>\n",
       "      <td>...</td>\n",
       "      <td>1</td>\n",
       "      <td>1</td>\n",
       "      <td>0.185548</td>\n",
       "      <td>0.233169</td>\n",
       "      <td>0.009074</td>\n",
       "      <td>0.009782</td>\n",
       "      <td>0.192253</td>\n",
       "      <td>0.049189</td>\n",
       "      <td>0.27508</td>\n",
       "      <td>2.0</td>\n",
       "    </tr>\n",
       "    <tr>\n",
       "      <th>4</th>\n",
       "      <td>2001-07-01</td>\n",
       "      <td>4</td>\n",
       "      <td>1868</td>\n",
       "      <td>43</td>\n",
       "      <td>12</td>\n",
       "      <td>1</td>\n",
       "      <td>1</td>\n",
       "      <td>12.0</td>\n",
       "      <td>3</td>\n",
       "      <td>948.0</td>\n",
       "      <td>...</td>\n",
       "      <td>1</td>\n",
       "      <td>1</td>\n",
       "      <td>0.015419</td>\n",
       "      <td>0.006734</td>\n",
       "      <td>0.000000</td>\n",
       "      <td>0.000000</td>\n",
       "      <td>0.083193</td>\n",
       "      <td>0.049189</td>\n",
       "      <td>0.27508</td>\n",
       "      <td>3.0</td>\n",
       "    </tr>\n",
       "  </tbody>\n",
       "</table>\n",
       "<p>5 rows × 36 columns</p>\n",
       "</div>"
      ],
      "text/plain": [
       "   SNAP_DATE  COM_CAT#1  SK_ID  COM_CAT#2  COM_CAT#3  BASE_TYPE  ACT  \\\n",
       "0 2001-07-01          4   4053         38          5          2    1   \n",
       "1 2001-07-01          4    358         59          5          2    1   \n",
       "2 2002-01-01          4   1184         43          5          2    1   \n",
       "3 2002-02-01          4   1254         80          5          2    1   \n",
       "4 2001-07-01          4   1868         43         12          1    1   \n",
       "\n",
       "   ARPU_GROUP  COM_CAT#7  COM_CAT#8     ...      COM_CAT#25  COM_CAT#26  \\\n",
       "0         6.0          3      944.0     ...               1           1   \n",
       "1         3.0          3     1013.0     ...               1           1   \n",
       "2        11.0          1     1625.0     ...               1           1   \n",
       "3        12.0          1      114.0     ...               1           1   \n",
       "4        12.0          3      948.0     ...               1           1   \n",
       "\n",
       "   COM_CAT#27  COM_CAT#28  COM_CAT#29  COM_CAT#30  COM_CAT#31  COM_CAT#32  \\\n",
       "0    0.000099    0.002529    0.000000    0.000000    0.013087    0.049189   \n",
       "1    0.000165    0.001658    0.000000    0.000000    0.002422    0.049189   \n",
       "2    0.012292    0.016809    0.016444    0.163132    0.067453    0.049189   \n",
       "3    0.185548    0.233169    0.009074    0.009782    0.192253    0.049189   \n",
       "4    0.015419    0.006734    0.000000    0.000000    0.083193    0.049189   \n",
       "\n",
       "   COM_CAT#33  COM_CAT#34  \n",
       "0     0.27508         8.0  \n",
       "1     0.27508         3.0  \n",
       "2     0.27508         2.0  \n",
       "3     0.27508         2.0  \n",
       "4     0.27508         3.0  \n",
       "\n",
       "[5 rows x 36 columns]"
      ]
     },
     "execution_count": 40,
     "metadata": {},
     "output_type": "execute_result"
    }
   ],
   "source": [
    "subs_feat_tr_df.head()"
   ]
  },
  {
   "cell_type": "code",
   "execution_count": 41,
   "metadata": {},
   "outputs": [
    {
     "data": {
      "text/html": [
       "<div>\n",
       "<style scoped>\n",
       "    .dataframe tbody tr th:only-of-type {\n",
       "        vertical-align: middle;\n",
       "    }\n",
       "\n",
       "    .dataframe tbody tr th {\n",
       "        vertical-align: top;\n",
       "    }\n",
       "\n",
       "    .dataframe thead th {\n",
       "        text-align: right;\n",
       "    }\n",
       "</style>\n",
       "<table border=\"1\" class=\"dataframe\">\n",
       "  <thead>\n",
       "    <tr style=\"text-align: right;\">\n",
       "      <th></th>\n",
       "      <th>SNAP_DATE</th>\n",
       "      <th>COM_CAT#1</th>\n",
       "      <th>SK_ID</th>\n",
       "      <th>COM_CAT#2</th>\n",
       "      <th>COM_CAT#3</th>\n",
       "      <th>BASE_TYPE</th>\n",
       "      <th>ACT</th>\n",
       "      <th>ARPU_GROUP</th>\n",
       "      <th>COM_CAT#7</th>\n",
       "      <th>COM_CAT#8</th>\n",
       "      <th>...</th>\n",
       "      <th>COM_CAT#25</th>\n",
       "      <th>COM_CAT#26</th>\n",
       "      <th>COM_CAT#27</th>\n",
       "      <th>COM_CAT#28</th>\n",
       "      <th>COM_CAT#29</th>\n",
       "      <th>COM_CAT#30</th>\n",
       "      <th>COM_CAT#31</th>\n",
       "      <th>COM_CAT#32</th>\n",
       "      <th>COM_CAT#33</th>\n",
       "      <th>COM_CAT#34</th>\n",
       "    </tr>\n",
       "  </thead>\n",
       "  <tbody>\n",
       "    <tr>\n",
       "      <th>0</th>\n",
       "      <td>2001-11-01</td>\n",
       "      <td>4</td>\n",
       "      <td>1066</td>\n",
       "      <td>50</td>\n",
       "      <td>5</td>\n",
       "      <td>2</td>\n",
       "      <td>1</td>\n",
       "      <td>6.0</td>\n",
       "      <td>2</td>\n",
       "      <td>1311.0</td>\n",
       "      <td>...</td>\n",
       "      <td>1</td>\n",
       "      <td>1</td>\n",
       "      <td>0.001414</td>\n",
       "      <td>0.003556</td>\n",
       "      <td>0.000553</td>\n",
       "      <td>0.00299</td>\n",
       "      <td>0.044062</td>\n",
       "      <td>0.049189</td>\n",
       "      <td>0.275080</td>\n",
       "      <td>9.0</td>\n",
       "    </tr>\n",
       "    <tr>\n",
       "      <th>1</th>\n",
       "      <td>2001-07-01</td>\n",
       "      <td>4</td>\n",
       "      <td>2863</td>\n",
       "      <td>43</td>\n",
       "      <td>5</td>\n",
       "      <td>2</td>\n",
       "      <td>1</td>\n",
       "      <td>5.0</td>\n",
       "      <td>4</td>\n",
       "      <td>991.0</td>\n",
       "      <td>...</td>\n",
       "      <td>1</td>\n",
       "      <td>1</td>\n",
       "      <td>0.000438</td>\n",
       "      <td>0.000152</td>\n",
       "      <td>0.000011</td>\n",
       "      <td>0.00000</td>\n",
       "      <td>0.009002</td>\n",
       "      <td>0.049189</td>\n",
       "      <td>0.275080</td>\n",
       "      <td>10.0</td>\n",
       "    </tr>\n",
       "    <tr>\n",
       "      <th>2</th>\n",
       "      <td>2001-11-01</td>\n",
       "      <td>4</td>\n",
       "      <td>866</td>\n",
       "      <td>59</td>\n",
       "      <td>5</td>\n",
       "      <td>2</td>\n",
       "      <td>1</td>\n",
       "      <td>11.0</td>\n",
       "      <td>1</td>\n",
       "      <td>1373.0</td>\n",
       "      <td>...</td>\n",
       "      <td>1</td>\n",
       "      <td>1</td>\n",
       "      <td>0.004139</td>\n",
       "      <td>0.029945</td>\n",
       "      <td>0.020470</td>\n",
       "      <td>0.00000</td>\n",
       "      <td>0.030452</td>\n",
       "      <td>0.049189</td>\n",
       "      <td>0.275080</td>\n",
       "      <td>6.0</td>\n",
       "    </tr>\n",
       "    <tr>\n",
       "      <th>3</th>\n",
       "      <td>2002-01-01</td>\n",
       "      <td>4</td>\n",
       "      <td>2977</td>\n",
       "      <td>43</td>\n",
       "      <td>1</td>\n",
       "      <td>2</td>\n",
       "      <td>1</td>\n",
       "      <td>8.0</td>\n",
       "      <td>1</td>\n",
       "      <td>736.0</td>\n",
       "      <td>...</td>\n",
       "      <td>1</td>\n",
       "      <td>1</td>\n",
       "      <td>0.016428</td>\n",
       "      <td>0.003004</td>\n",
       "      <td>0.023645</td>\n",
       "      <td>0.00000</td>\n",
       "      <td>0.027091</td>\n",
       "      <td>0.049189</td>\n",
       "      <td>0.277508</td>\n",
       "      <td>2.0</td>\n",
       "    </tr>\n",
       "    <tr>\n",
       "      <th>4</th>\n",
       "      <td>2001-10-01</td>\n",
       "      <td>1</td>\n",
       "      <td>2775</td>\n",
       "      <td>30</td>\n",
       "      <td>7</td>\n",
       "      <td>2</td>\n",
       "      <td>1</td>\n",
       "      <td>12.0</td>\n",
       "      <td>1</td>\n",
       "      <td>124.0</td>\n",
       "      <td>...</td>\n",
       "      <td>1</td>\n",
       "      <td>1</td>\n",
       "      <td>0.010055</td>\n",
       "      <td>0.012047</td>\n",
       "      <td>0.119542</td>\n",
       "      <td>0.00000</td>\n",
       "      <td>0.021487</td>\n",
       "      <td>0.049189</td>\n",
       "      <td>0.275080</td>\n",
       "      <td>2.0</td>\n",
       "    </tr>\n",
       "  </tbody>\n",
       "</table>\n",
       "<p>5 rows × 36 columns</p>\n",
       "</div>"
      ],
      "text/plain": [
       "   SNAP_DATE  COM_CAT#1  SK_ID  COM_CAT#2  COM_CAT#3  BASE_TYPE  ACT  \\\n",
       "0 2001-11-01          4   1066         50          5          2    1   \n",
       "1 2001-07-01          4   2863         43          5          2    1   \n",
       "2 2001-11-01          4    866         59          5          2    1   \n",
       "3 2002-01-01          4   2977         43          1          2    1   \n",
       "4 2001-10-01          1   2775         30          7          2    1   \n",
       "\n",
       "   ARPU_GROUP  COM_CAT#7  COM_CAT#8     ...      COM_CAT#25  COM_CAT#26  \\\n",
       "0         6.0          2     1311.0     ...               1           1   \n",
       "1         5.0          4      991.0     ...               1           1   \n",
       "2        11.0          1     1373.0     ...               1           1   \n",
       "3         8.0          1      736.0     ...               1           1   \n",
       "4        12.0          1      124.0     ...               1           1   \n",
       "\n",
       "   COM_CAT#27  COM_CAT#28  COM_CAT#29  COM_CAT#30  COM_CAT#31  COM_CAT#32  \\\n",
       "0    0.001414    0.003556    0.000553     0.00299    0.044062    0.049189   \n",
       "1    0.000438    0.000152    0.000011     0.00000    0.009002    0.049189   \n",
       "2    0.004139    0.029945    0.020470     0.00000    0.030452    0.049189   \n",
       "3    0.016428    0.003004    0.023645     0.00000    0.027091    0.049189   \n",
       "4    0.010055    0.012047    0.119542     0.00000    0.021487    0.049189   \n",
       "\n",
       "   COM_CAT#33  COM_CAT#34  \n",
       "0    0.275080         9.0  \n",
       "1    0.275080        10.0  \n",
       "2    0.275080         6.0  \n",
       "3    0.277508         2.0  \n",
       "4    0.275080         2.0  \n",
       "\n",
       "[5 rows x 36 columns]"
      ]
     },
     "execution_count": 41,
     "metadata": {},
     "output_type": "execute_result"
    }
   ],
   "source": [
    "subs_feat_te_df.head()"
   ]
  },
  {
   "cell_type": "code",
   "execution_count": 42,
   "metadata": {},
   "outputs": [
    {
     "name": "stdout",
     "output_type": "stream",
     "text": [
      "<class 'pandas.core.frame.DataFrame'>\n",
      "RangeIndex: 40638 entries, 0 to 40637\n",
      "Data columns (total 36 columns):\n",
      "SNAP_DATE           40638 non-null datetime64[ns]\n",
      "COM_CAT#1           40638 non-null int64\n",
      "SK_ID               40638 non-null int64\n",
      "COM_CAT#2           40638 non-null int64\n",
      "COM_CAT#3           40638 non-null int64\n",
      "BASE_TYPE           40638 non-null int64\n",
      "ACT                 40638 non-null int64\n",
      "ARPU_GROUP          40620 non-null float64\n",
      "COM_CAT#7           40638 non-null int64\n",
      "COM_CAT#8           40552 non-null float64\n",
      "DEVICE_TYPE_ID      40552 non-null float64\n",
      "INTERNET_TYPE_ID    40552 non-null float64\n",
      "REVENUE             40638 non-null float64\n",
      "ITC                 40638 non-null float64\n",
      "VAS                 40638 non-null float64\n",
      "RENT_CHANNEL        40638 non-null float64\n",
      "ROAM                40638 non-null float64\n",
      "COST                40638 non-null float64\n",
      "COM_CAT#17          40638 non-null float64\n",
      "COM_CAT#18          40638 non-null float64\n",
      "COM_CAT#19          40638 non-null float64\n",
      "COM_CAT#20          40638 non-null float64\n",
      "COM_CAT#21          40638 non-null float64\n",
      "COM_CAT#22          40638 non-null float64\n",
      "COM_CAT#23          40638 non-null float64\n",
      "COM_CAT#24          40638 non-null object\n",
      "COM_CAT#25          40638 non-null int64\n",
      "COM_CAT#26          40638 non-null int64\n",
      "COM_CAT#27          40638 non-null float64\n",
      "COM_CAT#28          40638 non-null float64\n",
      "COM_CAT#29          40638 non-null float64\n",
      "COM_CAT#30          40638 non-null float64\n",
      "COM_CAT#31          40638 non-null float64\n",
      "COM_CAT#32          40638 non-null float64\n",
      "COM_CAT#33          40638 non-null float64\n",
      "COM_CAT#34          39248 non-null float64\n",
      "dtypes: datetime64[ns](1), float64(25), int64(9), object(1)\n",
      "memory usage: 11.2+ MB\n"
     ]
    }
   ],
   "source": [
    "subs_feat_tr_df.info()"
   ]
  },
  {
   "cell_type": "code",
   "execution_count": 43,
   "metadata": {},
   "outputs": [
    {
     "name": "stdout",
     "output_type": "stream",
     "text": [
      "<class 'pandas.core.frame.DataFrame'>\n",
      "RangeIndex: 10445 entries, 0 to 10444\n",
      "Data columns (total 36 columns):\n",
      "SNAP_DATE           10445 non-null datetime64[ns]\n",
      "COM_CAT#1           10445 non-null int64\n",
      "SK_ID               10445 non-null int64\n",
      "COM_CAT#2           10445 non-null int64\n",
      "COM_CAT#3           10445 non-null int64\n",
      "BASE_TYPE           10445 non-null int64\n",
      "ACT                 10445 non-null int64\n",
      "ARPU_GROUP          10440 non-null float64\n",
      "COM_CAT#7           10445 non-null int64\n",
      "COM_CAT#8           10407 non-null float64\n",
      "DEVICE_TYPE_ID      10407 non-null float64\n",
      "INTERNET_TYPE_ID    10407 non-null float64\n",
      "REVENUE             10445 non-null float64\n",
      "ITC                 10445 non-null float64\n",
      "VAS                 10445 non-null float64\n",
      "RENT_CHANNEL        10445 non-null float64\n",
      "ROAM                10445 non-null float64\n",
      "COST                10445 non-null float64\n",
      "COM_CAT#17          10445 non-null float64\n",
      "COM_CAT#18          10445 non-null float64\n",
      "COM_CAT#19          10445 non-null float64\n",
      "COM_CAT#20          10445 non-null float64\n",
      "COM_CAT#21          10445 non-null float64\n",
      "COM_CAT#22          10445 non-null float64\n",
      "COM_CAT#23          10445 non-null float64\n",
      "COM_CAT#24          10445 non-null object\n",
      "COM_CAT#25          10445 non-null int64\n",
      "COM_CAT#26          10445 non-null int64\n",
      "COM_CAT#27          10445 non-null float64\n",
      "COM_CAT#28          10445 non-null float64\n",
      "COM_CAT#29          10445 non-null float64\n",
      "COM_CAT#30          10445 non-null float64\n",
      "COM_CAT#31          10445 non-null float64\n",
      "COM_CAT#32          10445 non-null float64\n",
      "COM_CAT#33          10445 non-null float64\n",
      "COM_CAT#34          10126 non-null float64\n",
      "dtypes: datetime64[ns](1), float64(25), int64(9), object(1)\n",
      "memory usage: 2.9+ MB\n"
     ]
    }
   ],
   "source": [
    "subs_feat_te_df.info()"
   ]
  },
  {
   "cell_type": "code",
   "execution_count": 44,
   "metadata": {},
   "outputs": [
    {
     "data": {
      "text/plain": [
       "count                   40638\n",
       "unique                     12\n",
       "top       2002-05-01 00:00:00\n",
       "freq                     3604\n",
       "first     2001-06-01 00:00:00\n",
       "last      2002-05-01 00:00:00\n",
       "Name: SNAP_DATE, dtype: object"
      ]
     },
     "execution_count": 44,
     "metadata": {},
     "output_type": "execute_result"
    }
   ],
   "source": [
    "subs_feat_tr_df.SNAP_DATE.describe()"
   ]
  },
  {
   "cell_type": "code",
   "execution_count": 45,
   "metadata": {},
   "outputs": [
    {
     "data": {
      "text/plain": [
       "count                   10445\n",
       "unique                     12\n",
       "top       2002-05-01 00:00:00\n",
       "freq                      920\n",
       "first     2001-06-01 00:00:00\n",
       "last      2002-05-01 00:00:00\n",
       "Name: SNAP_DATE, dtype: object"
      ]
     },
     "execution_count": 45,
     "metadata": {},
     "output_type": "execute_result"
    }
   ],
   "source": [
    "subs_feat_te_df.SNAP_DATE.describe()"
   ]
  },
  {
   "cell_type": "code",
   "execution_count": 46,
   "metadata": {},
   "outputs": [],
   "source": [
    "# convert to months (int)\n",
    "subs_feat_tr_df.SNAP_DATE = subs_feat_tr_df.SNAP_DATE.dt.month"
   ]
  },
  {
   "cell_type": "code",
   "execution_count": 47,
   "metadata": {},
   "outputs": [],
   "source": [
    "# convert to months (int)\n",
    "subs_feat_te_df.SNAP_DATE = subs_feat_te_df.SNAP_DATE.dt.month"
   ]
  },
  {
   "cell_type": "code",
   "execution_count": 48,
   "metadata": {
    "scrolled": true
   },
   "outputs": [
    {
     "data": {
      "text/plain": [
       "array([ 7,  1,  2,  8,  5,  9,  6, 11,  4,  3, 12, 10])"
      ]
     },
     "execution_count": 48,
     "metadata": {},
     "output_type": "execute_result"
    }
   ],
   "source": [
    "subs_feat_tr_df.SNAP_DATE.unique()"
   ]
  },
  {
   "cell_type": "code",
   "execution_count": 49,
   "metadata": {},
   "outputs": [
    {
     "data": {
      "text/plain": [
       "array([11,  7,  1, 10,  5,  8,  9, 12,  2,  6,  3,  4])"
      ]
     },
     "execution_count": 49,
     "metadata": {},
     "output_type": "execute_result"
    }
   ],
   "source": [
    "subs_feat_te_df.SNAP_DATE.unique()"
   ]
  },
  {
   "cell_type": "code",
   "execution_count": 50,
   "metadata": {},
   "outputs": [
    {
     "data": {
      "text/html": [
       "<div>\n",
       "<style scoped>\n",
       "    .dataframe tbody tr th:only-of-type {\n",
       "        vertical-align: middle;\n",
       "    }\n",
       "\n",
       "    .dataframe tbody tr th {\n",
       "        vertical-align: top;\n",
       "    }\n",
       "\n",
       "    .dataframe thead th {\n",
       "        text-align: right;\n",
       "    }\n",
       "</style>\n",
       "<table border=\"1\" class=\"dataframe\">\n",
       "  <thead>\n",
       "    <tr style=\"text-align: right;\">\n",
       "      <th></th>\n",
       "      <th>0</th>\n",
       "      <th>1</th>\n",
       "      <th>2</th>\n",
       "      <th>3</th>\n",
       "      <th>4</th>\n",
       "    </tr>\n",
       "  </thead>\n",
       "  <tbody>\n",
       "    <tr>\n",
       "      <th>SNAP_DATE</th>\n",
       "      <td>7</td>\n",
       "      <td>7</td>\n",
       "      <td>1</td>\n",
       "      <td>2</td>\n",
       "      <td>7</td>\n",
       "    </tr>\n",
       "    <tr>\n",
       "      <th>COM_CAT#1</th>\n",
       "      <td>4</td>\n",
       "      <td>4</td>\n",
       "      <td>4</td>\n",
       "      <td>4</td>\n",
       "      <td>4</td>\n",
       "    </tr>\n",
       "    <tr>\n",
       "      <th>SK_ID</th>\n",
       "      <td>4053</td>\n",
       "      <td>358</td>\n",
       "      <td>1184</td>\n",
       "      <td>1254</td>\n",
       "      <td>1868</td>\n",
       "    </tr>\n",
       "    <tr>\n",
       "      <th>COM_CAT#2</th>\n",
       "      <td>38</td>\n",
       "      <td>59</td>\n",
       "      <td>43</td>\n",
       "      <td>80</td>\n",
       "      <td>43</td>\n",
       "    </tr>\n",
       "    <tr>\n",
       "      <th>COM_CAT#3</th>\n",
       "      <td>5</td>\n",
       "      <td>5</td>\n",
       "      <td>5</td>\n",
       "      <td>5</td>\n",
       "      <td>12</td>\n",
       "    </tr>\n",
       "    <tr>\n",
       "      <th>BASE_TYPE</th>\n",
       "      <td>2</td>\n",
       "      <td>2</td>\n",
       "      <td>2</td>\n",
       "      <td>2</td>\n",
       "      <td>1</td>\n",
       "    </tr>\n",
       "    <tr>\n",
       "      <th>ACT</th>\n",
       "      <td>1</td>\n",
       "      <td>1</td>\n",
       "      <td>1</td>\n",
       "      <td>1</td>\n",
       "      <td>1</td>\n",
       "    </tr>\n",
       "    <tr>\n",
       "      <th>ARPU_GROUP</th>\n",
       "      <td>6</td>\n",
       "      <td>3</td>\n",
       "      <td>11</td>\n",
       "      <td>12</td>\n",
       "      <td>12</td>\n",
       "    </tr>\n",
       "    <tr>\n",
       "      <th>COM_CAT#7</th>\n",
       "      <td>3</td>\n",
       "      <td>3</td>\n",
       "      <td>1</td>\n",
       "      <td>1</td>\n",
       "      <td>3</td>\n",
       "    </tr>\n",
       "    <tr>\n",
       "      <th>COM_CAT#8</th>\n",
       "      <td>944</td>\n",
       "      <td>1013</td>\n",
       "      <td>1625</td>\n",
       "      <td>114</td>\n",
       "      <td>948</td>\n",
       "    </tr>\n",
       "    <tr>\n",
       "      <th>DEVICE_TYPE_ID</th>\n",
       "      <td>3</td>\n",
       "      <td>3</td>\n",
       "      <td>5</td>\n",
       "      <td>5</td>\n",
       "      <td>3</td>\n",
       "    </tr>\n",
       "    <tr>\n",
       "      <th>INTERNET_TYPE_ID</th>\n",
       "      <td>3</td>\n",
       "      <td>3</td>\n",
       "      <td>2</td>\n",
       "      <td>2</td>\n",
       "      <td>3</td>\n",
       "    </tr>\n",
       "    <tr>\n",
       "      <th>REVENUE</th>\n",
       "      <td>0.116888</td>\n",
       "      <td>0.109891</td>\n",
       "      <td>0.137541</td>\n",
       "      <td>0.188234</td>\n",
       "      <td>0.141619</td>\n",
       "    </tr>\n",
       "    <tr>\n",
       "      <th>ITC</th>\n",
       "      <td>0.002517</td>\n",
       "      <td>0.00165</td>\n",
       "      <td>0.01673</td>\n",
       "      <td>0.237541</td>\n",
       "      <td>0.009875</td>\n",
       "    </tr>\n",
       "    <tr>\n",
       "      <th>VAS</th>\n",
       "      <td>0.09507</td>\n",
       "      <td>0.09507</td>\n",
       "      <td>0.100538</td>\n",
       "      <td>0.09507</td>\n",
       "      <td>0.100318</td>\n",
       "    </tr>\n",
       "    <tr>\n",
       "      <th>RENT_CHANNEL</th>\n",
       "      <td>0.057117</td>\n",
       "      <td>0.057111</td>\n",
       "      <td>0.067907</td>\n",
       "      <td>0.058396</td>\n",
       "      <td>0.057183</td>\n",
       "    </tr>\n",
       "    <tr>\n",
       "      <th>ROAM</th>\n",
       "      <td>0</td>\n",
       "      <td>0</td>\n",
       "      <td>0</td>\n",
       "      <td>0</td>\n",
       "      <td>0</td>\n",
       "    </tr>\n",
       "    <tr>\n",
       "      <th>COST</th>\n",
       "      <td>0.004398</td>\n",
       "      <td>0.004332</td>\n",
       "      <td>0.006616</td>\n",
       "      <td>0.022369</td>\n",
       "      <td>0.005268</td>\n",
       "    </tr>\n",
       "    <tr>\n",
       "      <th>COM_CAT#17</th>\n",
       "      <td>0</td>\n",
       "      <td>0</td>\n",
       "      <td>0</td>\n",
       "      <td>0</td>\n",
       "      <td>0</td>\n",
       "    </tr>\n",
       "    <tr>\n",
       "      <th>COM_CAT#18</th>\n",
       "      <td>0</td>\n",
       "      <td>0</td>\n",
       "      <td>0</td>\n",
       "      <td>0</td>\n",
       "      <td>0</td>\n",
       "    </tr>\n",
       "    <tr>\n",
       "      <th>COM_CAT#19</th>\n",
       "      <td>0.014253</td>\n",
       "      <td>0.014253</td>\n",
       "      <td>0.014253</td>\n",
       "      <td>0.014253</td>\n",
       "      <td>0.014253</td>\n",
       "    </tr>\n",
       "    <tr>\n",
       "      <th>COM_CAT#20</th>\n",
       "      <td>0.701414</td>\n",
       "      <td>0.698998</td>\n",
       "      <td>0.706978</td>\n",
       "      <td>0.712654</td>\n",
       "      <td>0.70946</td>\n",
       "    </tr>\n",
       "    <tr>\n",
       "      <th>COM_CAT#21</th>\n",
       "      <td>0.01611</td>\n",
       "      <td>0.01611</td>\n",
       "      <td>0.01611</td>\n",
       "      <td>0.01611</td>\n",
       "      <td>0.01611</td>\n",
       "    </tr>\n",
       "    <tr>\n",
       "      <th>COM_CAT#22</th>\n",
       "      <td>0.701414</td>\n",
       "      <td>0.698998</td>\n",
       "      <td>0.706978</td>\n",
       "      <td>0.712654</td>\n",
       "      <td>0.70946</td>\n",
       "    </tr>\n",
       "    <tr>\n",
       "      <th>COM_CAT#23</th>\n",
       "      <td>0.118327</td>\n",
       "      <td>0.111297</td>\n",
       "      <td>0.135967</td>\n",
       "      <td>0.143643</td>\n",
       "      <td>0.138878</td>\n",
       "    </tr>\n",
       "    <tr>\n",
       "      <th>COM_CAT#24</th>\n",
       "      <td>31.12</td>\n",
       "      <td>31.12</td>\n",
       "      <td>31.12</td>\n",
       "      <td>31.12</td>\n",
       "      <td>31.12</td>\n",
       "    </tr>\n",
       "    <tr>\n",
       "      <th>COM_CAT#25</th>\n",
       "      <td>1</td>\n",
       "      <td>1</td>\n",
       "      <td>1</td>\n",
       "      <td>1</td>\n",
       "      <td>1</td>\n",
       "    </tr>\n",
       "    <tr>\n",
       "      <th>COM_CAT#26</th>\n",
       "      <td>1</td>\n",
       "      <td>1</td>\n",
       "      <td>1</td>\n",
       "      <td>1</td>\n",
       "      <td>1</td>\n",
       "    </tr>\n",
       "    <tr>\n",
       "      <th>COM_CAT#27</th>\n",
       "      <td>9.9e-05</td>\n",
       "      <td>0.000165</td>\n",
       "      <td>0.012292</td>\n",
       "      <td>0.185548</td>\n",
       "      <td>0.015419</td>\n",
       "    </tr>\n",
       "    <tr>\n",
       "      <th>COM_CAT#28</th>\n",
       "      <td>0.002529</td>\n",
       "      <td>0.001658</td>\n",
       "      <td>0.016809</td>\n",
       "      <td>0.233169</td>\n",
       "      <td>0.006734</td>\n",
       "    </tr>\n",
       "    <tr>\n",
       "      <th>COM_CAT#29</th>\n",
       "      <td>0</td>\n",
       "      <td>0</td>\n",
       "      <td>0.016444</td>\n",
       "      <td>0.009074</td>\n",
       "      <td>0</td>\n",
       "    </tr>\n",
       "    <tr>\n",
       "      <th>COM_CAT#30</th>\n",
       "      <td>0</td>\n",
       "      <td>0</td>\n",
       "      <td>0.163132</td>\n",
       "      <td>0.009782</td>\n",
       "      <td>0</td>\n",
       "    </tr>\n",
       "    <tr>\n",
       "      <th>COM_CAT#31</th>\n",
       "      <td>0.013087</td>\n",
       "      <td>0.002422</td>\n",
       "      <td>0.067453</td>\n",
       "      <td>0.192253</td>\n",
       "      <td>0.083193</td>\n",
       "    </tr>\n",
       "    <tr>\n",
       "      <th>COM_CAT#32</th>\n",
       "      <td>0.049189</td>\n",
       "      <td>0.049189</td>\n",
       "      <td>0.049189</td>\n",
       "      <td>0.049189</td>\n",
       "      <td>0.049189</td>\n",
       "    </tr>\n",
       "    <tr>\n",
       "      <th>COM_CAT#33</th>\n",
       "      <td>0.27508</td>\n",
       "      <td>0.27508</td>\n",
       "      <td>0.27508</td>\n",
       "      <td>0.27508</td>\n",
       "      <td>0.27508</td>\n",
       "    </tr>\n",
       "    <tr>\n",
       "      <th>COM_CAT#34</th>\n",
       "      <td>8</td>\n",
       "      <td>3</td>\n",
       "      <td>2</td>\n",
       "      <td>2</td>\n",
       "      <td>3</td>\n",
       "    </tr>\n",
       "  </tbody>\n",
       "</table>\n",
       "</div>"
      ],
      "text/plain": [
       "                         0         1         2         3         4\n",
       "SNAP_DATE                7         7         1         2         7\n",
       "COM_CAT#1                4         4         4         4         4\n",
       "SK_ID                 4053       358      1184      1254      1868\n",
       "COM_CAT#2               38        59        43        80        43\n",
       "COM_CAT#3                5         5         5         5        12\n",
       "BASE_TYPE                2         2         2         2         1\n",
       "ACT                      1         1         1         1         1\n",
       "ARPU_GROUP               6         3        11        12        12\n",
       "COM_CAT#7                3         3         1         1         3\n",
       "COM_CAT#8              944      1013      1625       114       948\n",
       "DEVICE_TYPE_ID           3         3         5         5         3\n",
       "INTERNET_TYPE_ID         3         3         2         2         3\n",
       "REVENUE           0.116888  0.109891  0.137541  0.188234  0.141619\n",
       "ITC               0.002517   0.00165   0.01673  0.237541  0.009875\n",
       "VAS                0.09507   0.09507  0.100538   0.09507  0.100318\n",
       "RENT_CHANNEL      0.057117  0.057111  0.067907  0.058396  0.057183\n",
       "ROAM                     0         0         0         0         0\n",
       "COST              0.004398  0.004332  0.006616  0.022369  0.005268\n",
       "COM_CAT#17               0         0         0         0         0\n",
       "COM_CAT#18               0         0         0         0         0\n",
       "COM_CAT#19        0.014253  0.014253  0.014253  0.014253  0.014253\n",
       "COM_CAT#20        0.701414  0.698998  0.706978  0.712654   0.70946\n",
       "COM_CAT#21         0.01611   0.01611   0.01611   0.01611   0.01611\n",
       "COM_CAT#22        0.701414  0.698998  0.706978  0.712654   0.70946\n",
       "COM_CAT#23        0.118327  0.111297  0.135967  0.143643  0.138878\n",
       "COM_CAT#24           31.12     31.12     31.12     31.12     31.12\n",
       "COM_CAT#25               1         1         1         1         1\n",
       "COM_CAT#26               1         1         1         1         1\n",
       "COM_CAT#27         9.9e-05  0.000165  0.012292  0.185548  0.015419\n",
       "COM_CAT#28        0.002529  0.001658  0.016809  0.233169  0.006734\n",
       "COM_CAT#29               0         0  0.016444  0.009074         0\n",
       "COM_CAT#30               0         0  0.163132  0.009782         0\n",
       "COM_CAT#31        0.013087  0.002422  0.067453  0.192253  0.083193\n",
       "COM_CAT#32        0.049189  0.049189  0.049189  0.049189  0.049189\n",
       "COM_CAT#33         0.27508   0.27508   0.27508   0.27508   0.27508\n",
       "COM_CAT#34               8         3         2         2         3"
      ]
     },
     "metadata": {},
     "output_type": "display_data"
    }
   ],
   "source": [
    "display_all(subs_feat_tr_df.head().T)"
   ]
  },
  {
   "cell_type": "code",
   "execution_count": 51,
   "metadata": {},
   "outputs": [
    {
     "data": {
      "text/html": [
       "<div>\n",
       "<style scoped>\n",
       "    .dataframe tbody tr th:only-of-type {\n",
       "        vertical-align: middle;\n",
       "    }\n",
       "\n",
       "    .dataframe tbody tr th {\n",
       "        vertical-align: top;\n",
       "    }\n",
       "\n",
       "    .dataframe thead th {\n",
       "        text-align: right;\n",
       "    }\n",
       "</style>\n",
       "<table border=\"1\" class=\"dataframe\">\n",
       "  <thead>\n",
       "    <tr style=\"text-align: right;\">\n",
       "      <th></th>\n",
       "      <th>count</th>\n",
       "      <th>unique</th>\n",
       "      <th>top</th>\n",
       "      <th>freq</th>\n",
       "      <th>mean</th>\n",
       "      <th>std</th>\n",
       "      <th>min</th>\n",
       "      <th>25%</th>\n",
       "      <th>50%</th>\n",
       "      <th>75%</th>\n",
       "      <th>max</th>\n",
       "    </tr>\n",
       "  </thead>\n",
       "  <tbody>\n",
       "    <tr>\n",
       "      <th>SNAP_DATE</th>\n",
       "      <td>40638</td>\n",
       "      <td>NaN</td>\n",
       "      <td>NaN</td>\n",
       "      <td>NaN</td>\n",
       "      <td>6.43831</td>\n",
       "      <td>3.46804</td>\n",
       "      <td>1</td>\n",
       "      <td>3</td>\n",
       "      <td>6</td>\n",
       "      <td>9</td>\n",
       "      <td>12</td>\n",
       "    </tr>\n",
       "    <tr>\n",
       "      <th>COM_CAT#1</th>\n",
       "      <td>40638</td>\n",
       "      <td>NaN</td>\n",
       "      <td>NaN</td>\n",
       "      <td>NaN</td>\n",
       "      <td>4.53484</td>\n",
       "      <td>2.17681</td>\n",
       "      <td>1</td>\n",
       "      <td>3</td>\n",
       "      <td>4</td>\n",
       "      <td>6</td>\n",
       "      <td>8</td>\n",
       "    </tr>\n",
       "    <tr>\n",
       "      <th>SK_ID</th>\n",
       "      <td>40638</td>\n",
       "      <td>NaN</td>\n",
       "      <td>NaN</td>\n",
       "      <td>NaN</td>\n",
       "      <td>2346.06</td>\n",
       "      <td>1368.01</td>\n",
       "      <td>2</td>\n",
       "      <td>1164</td>\n",
       "      <td>2349</td>\n",
       "      <td>3554</td>\n",
       "      <td>4701</td>\n",
       "    </tr>\n",
       "    <tr>\n",
       "      <th>COM_CAT#2</th>\n",
       "      <td>40638</td>\n",
       "      <td>NaN</td>\n",
       "      <td>NaN</td>\n",
       "      <td>NaN</td>\n",
       "      <td>41.1288</td>\n",
       "      <td>22.3662</td>\n",
       "      <td>1</td>\n",
       "      <td>25</td>\n",
       "      <td>38</td>\n",
       "      <td>60</td>\n",
       "      <td>83</td>\n",
       "    </tr>\n",
       "    <tr>\n",
       "      <th>COM_CAT#3</th>\n",
       "      <td>40638</td>\n",
       "      <td>NaN</td>\n",
       "      <td>NaN</td>\n",
       "      <td>NaN</td>\n",
       "      <td>5.27846</td>\n",
       "      <td>2.74282</td>\n",
       "      <td>1</td>\n",
       "      <td>5</td>\n",
       "      <td>5</td>\n",
       "      <td>5</td>\n",
       "      <td>17</td>\n",
       "    </tr>\n",
       "    <tr>\n",
       "      <th>BASE_TYPE</th>\n",
       "      <td>40638</td>\n",
       "      <td>NaN</td>\n",
       "      <td>NaN</td>\n",
       "      <td>NaN</td>\n",
       "      <td>1.93794</td>\n",
       "      <td>0.241268</td>\n",
       "      <td>1</td>\n",
       "      <td>2</td>\n",
       "      <td>2</td>\n",
       "      <td>2</td>\n",
       "      <td>2</td>\n",
       "    </tr>\n",
       "    <tr>\n",
       "      <th>ACT</th>\n",
       "      <td>40638</td>\n",
       "      <td>NaN</td>\n",
       "      <td>NaN</td>\n",
       "      <td>NaN</td>\n",
       "      <td>0.991387</td>\n",
       "      <td>0.0924049</td>\n",
       "      <td>0</td>\n",
       "      <td>1</td>\n",
       "      <td>1</td>\n",
       "      <td>1</td>\n",
       "      <td>1</td>\n",
       "    </tr>\n",
       "    <tr>\n",
       "      <th>ARPU_GROUP</th>\n",
       "      <td>40620</td>\n",
       "      <td>NaN</td>\n",
       "      <td>NaN</td>\n",
       "      <td>NaN</td>\n",
       "      <td>7.68614</td>\n",
       "      <td>3.16843</td>\n",
       "      <td>1</td>\n",
       "      <td>6</td>\n",
       "      <td>8</td>\n",
       "      <td>10</td>\n",
       "      <td>12</td>\n",
       "    </tr>\n",
       "    <tr>\n",
       "      <th>COM_CAT#7</th>\n",
       "      <td>40638</td>\n",
       "      <td>NaN</td>\n",
       "      <td>NaN</td>\n",
       "      <td>NaN</td>\n",
       "      <td>2.38602</td>\n",
       "      <td>1.59636</td>\n",
       "      <td>1</td>\n",
       "      <td>1</td>\n",
       "      <td>2</td>\n",
       "      <td>3</td>\n",
       "      <td>9</td>\n",
       "    </tr>\n",
       "    <tr>\n",
       "      <th>COM_CAT#8</th>\n",
       "      <td>40552</td>\n",
       "      <td>NaN</td>\n",
       "      <td>NaN</td>\n",
       "      <td>NaN</td>\n",
       "      <td>865.851</td>\n",
       "      <td>516.9</td>\n",
       "      <td>2</td>\n",
       "      <td>387</td>\n",
       "      <td>924</td>\n",
       "      <td>1318</td>\n",
       "      <td>1702</td>\n",
       "    </tr>\n",
       "    <tr>\n",
       "      <th>DEVICE_TYPE_ID</th>\n",
       "      <td>40552</td>\n",
       "      <td>NaN</td>\n",
       "      <td>NaN</td>\n",
       "      <td>NaN</td>\n",
       "      <td>4.61859</td>\n",
       "      <td>0.884486</td>\n",
       "      <td>1</td>\n",
       "      <td>5</td>\n",
       "      <td>5</td>\n",
       "      <td>5</td>\n",
       "      <td>8</td>\n",
       "    </tr>\n",
       "    <tr>\n",
       "      <th>INTERNET_TYPE_ID</th>\n",
       "      <td>40552</td>\n",
       "      <td>NaN</td>\n",
       "      <td>NaN</td>\n",
       "      <td>NaN</td>\n",
       "      <td>1.90467</td>\n",
       "      <td>0.721023</td>\n",
       "      <td>1</td>\n",
       "      <td>1</td>\n",
       "      <td>2</td>\n",
       "      <td>2</td>\n",
       "      <td>3</td>\n",
       "    </tr>\n",
       "    <tr>\n",
       "      <th>REVENUE</th>\n",
       "      <td>40638</td>\n",
       "      <td>NaN</td>\n",
       "      <td>NaN</td>\n",
       "      <td>NaN</td>\n",
       "      <td>0.129243</td>\n",
       "      <td>0.0208471</td>\n",
       "      <td>0</td>\n",
       "      <td>0.116159</td>\n",
       "      <td>0.124927</td>\n",
       "      <td>0.136204</td>\n",
       "      <td>1</td>\n",
       "    </tr>\n",
       "    <tr>\n",
       "      <th>ITC</th>\n",
       "      <td>40638</td>\n",
       "      <td>NaN</td>\n",
       "      <td>NaN</td>\n",
       "      <td>NaN</td>\n",
       "      <td>0.0257724</td>\n",
       "      <td>0.0435261</td>\n",
       "      <td>0</td>\n",
       "      <td>0.00159925</td>\n",
       "      <td>0.0102855</td>\n",
       "      <td>0.031996</td>\n",
       "      <td>0.998035</td>\n",
       "    </tr>\n",
       "    <tr>\n",
       "      <th>VAS</th>\n",
       "      <td>40638</td>\n",
       "      <td>NaN</td>\n",
       "      <td>NaN</td>\n",
       "      <td>NaN</td>\n",
       "      <td>0.0989664</td>\n",
       "      <td>0.0141961</td>\n",
       "      <td>0.067636</td>\n",
       "      <td>0.09507</td>\n",
       "      <td>0.095141</td>\n",
       "      <td>0.0978777</td>\n",
       "      <td>1</td>\n",
       "    </tr>\n",
       "    <tr>\n",
       "      <th>RENT_CHANNEL</th>\n",
       "      <td>40638</td>\n",
       "      <td>NaN</td>\n",
       "      <td>NaN</td>\n",
       "      <td>NaN</td>\n",
       "      <td>0.0594647</td>\n",
       "      <td>0.012485</td>\n",
       "      <td>0</td>\n",
       "      <td>0.057144</td>\n",
       "      <td>0.057322</td>\n",
       "      <td>0.058344</td>\n",
       "      <td>1</td>\n",
       "    </tr>\n",
       "    <tr>\n",
       "      <th>ROAM</th>\n",
       "      <td>40638</td>\n",
       "      <td>NaN</td>\n",
       "      <td>NaN</td>\n",
       "      <td>NaN</td>\n",
       "      <td>6.20868e-05</td>\n",
       "      <td>0.00513342</td>\n",
       "      <td>0</td>\n",
       "      <td>0</td>\n",
       "      <td>0</td>\n",
       "      <td>0</td>\n",
       "      <td>1</td>\n",
       "    </tr>\n",
       "    <tr>\n",
       "      <th>COST</th>\n",
       "      <td>40638</td>\n",
       "      <td>NaN</td>\n",
       "      <td>NaN</td>\n",
       "      <td>NaN</td>\n",
       "      <td>0.0066334</td>\n",
       "      <td>0.00629889</td>\n",
       "      <td>0.000534</td>\n",
       "      <td>0.00445325</td>\n",
       "      <td>0.005299</td>\n",
       "      <td>0.007243</td>\n",
       "      <td>1</td>\n",
       "    </tr>\n",
       "    <tr>\n",
       "      <th>COM_CAT#17</th>\n",
       "      <td>40638</td>\n",
       "      <td>NaN</td>\n",
       "      <td>NaN</td>\n",
       "      <td>NaN</td>\n",
       "      <td>0.00345826</td>\n",
       "      <td>0.0222002</td>\n",
       "      <td>0</td>\n",
       "      <td>0</td>\n",
       "      <td>0</td>\n",
       "      <td>0</td>\n",
       "      <td>1</td>\n",
       "    </tr>\n",
       "    <tr>\n",
       "      <th>COM_CAT#18</th>\n",
       "      <td>40638</td>\n",
       "      <td>NaN</td>\n",
       "      <td>NaN</td>\n",
       "      <td>NaN</td>\n",
       "      <td>0.00220819</td>\n",
       "      <td>0.0201653</td>\n",
       "      <td>0</td>\n",
       "      <td>0</td>\n",
       "      <td>0</td>\n",
       "      <td>0</td>\n",
       "      <td>1</td>\n",
       "    </tr>\n",
       "    <tr>\n",
       "      <th>COM_CAT#19</th>\n",
       "      <td>40638</td>\n",
       "      <td>NaN</td>\n",
       "      <td>NaN</td>\n",
       "      <td>NaN</td>\n",
       "      <td>0.0144353</td>\n",
       "      <td>0.00702018</td>\n",
       "      <td>0.014253</td>\n",
       "      <td>0.014253</td>\n",
       "      <td>0.014253</td>\n",
       "      <td>0.014253</td>\n",
       "      <td>0.902894</td>\n",
       "    </tr>\n",
       "    <tr>\n",
       "      <th>COM_CAT#20</th>\n",
       "      <td>40638</td>\n",
       "      <td>NaN</td>\n",
       "      <td>NaN</td>\n",
       "      <td>NaN</td>\n",
       "      <td>0.704039</td>\n",
       "      <td>0.00682107</td>\n",
       "      <td>0</td>\n",
       "      <td>0.700552</td>\n",
       "      <td>0.702904</td>\n",
       "      <td>0.705915</td>\n",
       "      <td>1</td>\n",
       "    </tr>\n",
       "    <tr>\n",
       "      <th>COM_CAT#21</th>\n",
       "      <td>40638</td>\n",
       "      <td>NaN</td>\n",
       "      <td>NaN</td>\n",
       "      <td>NaN</td>\n",
       "      <td>0.0166186</td>\n",
       "      <td>0.00751877</td>\n",
       "      <td>0.01611</td>\n",
       "      <td>0.01611</td>\n",
       "      <td>0.01611</td>\n",
       "      <td>0.01611</td>\n",
       "      <td>1</td>\n",
       "    </tr>\n",
       "    <tr>\n",
       "      <th>COM_CAT#22</th>\n",
       "      <td>40638</td>\n",
       "      <td>NaN</td>\n",
       "      <td>NaN</td>\n",
       "      <td>NaN</td>\n",
       "      <td>0.703889</td>\n",
       "      <td>0.00683513</td>\n",
       "      <td>0</td>\n",
       "      <td>0.700384</td>\n",
       "      <td>0.702777</td>\n",
       "      <td>0.705795</td>\n",
       "      <td>1</td>\n",
       "    </tr>\n",
       "    <tr>\n",
       "      <th>COM_CAT#23</th>\n",
       "      <td>40638</td>\n",
       "      <td>NaN</td>\n",
       "      <td>NaN</td>\n",
       "      <td>NaN</td>\n",
       "      <td>0.126606</td>\n",
       "      <td>0.0183979</td>\n",
       "      <td>0</td>\n",
       "      <td>0.115737</td>\n",
       "      <td>0.122807</td>\n",
       "      <td>0.131825</td>\n",
       "      <td>1</td>\n",
       "    </tr>\n",
       "    <tr>\n",
       "      <th>COM_CAT#24</th>\n",
       "      <td>40638</td>\n",
       "      <td>7</td>\n",
       "      <td>31.12</td>\n",
       "      <td>40632</td>\n",
       "      <td>NaN</td>\n",
       "      <td>NaN</td>\n",
       "      <td>NaN</td>\n",
       "      <td>NaN</td>\n",
       "      <td>NaN</td>\n",
       "      <td>NaN</td>\n",
       "      <td>NaN</td>\n",
       "    </tr>\n",
       "    <tr>\n",
       "      <th>COM_CAT#25</th>\n",
       "      <td>40638</td>\n",
       "      <td>NaN</td>\n",
       "      <td>NaN</td>\n",
       "      <td>NaN</td>\n",
       "      <td>0.999852</td>\n",
       "      <td>0.0121502</td>\n",
       "      <td>0</td>\n",
       "      <td>1</td>\n",
       "      <td>1</td>\n",
       "      <td>1</td>\n",
       "      <td>1</td>\n",
       "    </tr>\n",
       "    <tr>\n",
       "      <th>COM_CAT#26</th>\n",
       "      <td>40638</td>\n",
       "      <td>NaN</td>\n",
       "      <td>NaN</td>\n",
       "      <td>NaN</td>\n",
       "      <td>0.988139</td>\n",
       "      <td>0.108261</td>\n",
       "      <td>0</td>\n",
       "      <td>1</td>\n",
       "      <td>1</td>\n",
       "      <td>1</td>\n",
       "      <td>1</td>\n",
       "    </tr>\n",
       "    <tr>\n",
       "      <th>COM_CAT#27</th>\n",
       "      <td>40638</td>\n",
       "      <td>NaN</td>\n",
       "      <td>NaN</td>\n",
       "      <td>NaN</td>\n",
       "      <td>0.0169361</td>\n",
       "      <td>0.0240845</td>\n",
       "      <td>0</td>\n",
       "      <td>0.00222125</td>\n",
       "      <td>0.0087925</td>\n",
       "      <td>0.0222808</td>\n",
       "      <td>0.608438</td>\n",
       "    </tr>\n",
       "    <tr>\n",
       "      <th>COM_CAT#28</th>\n",
       "      <td>40638</td>\n",
       "      <td>NaN</td>\n",
       "      <td>NaN</td>\n",
       "      <td>NaN</td>\n",
       "      <td>0.0250741</td>\n",
       "      <td>0.0416717</td>\n",
       "      <td>0</td>\n",
       "      <td>0.001482</td>\n",
       "      <td>0.0099425</td>\n",
       "      <td>0.0311148</td>\n",
       "      <td>0.867995</td>\n",
       "    </tr>\n",
       "    <tr>\n",
       "      <th>COM_CAT#29</th>\n",
       "      <td>40638</td>\n",
       "      <td>NaN</td>\n",
       "      <td>NaN</td>\n",
       "      <td>NaN</td>\n",
       "      <td>0.00477496</td>\n",
       "      <td>0.0178761</td>\n",
       "      <td>0</td>\n",
       "      <td>0</td>\n",
       "      <td>0.000116</td>\n",
       "      <td>0.002998</td>\n",
       "      <td>1</td>\n",
       "    </tr>\n",
       "    <tr>\n",
       "      <th>COM_CAT#30</th>\n",
       "      <td>40638</td>\n",
       "      <td>NaN</td>\n",
       "      <td>NaN</td>\n",
       "      <td>NaN</td>\n",
       "      <td>0.0051237</td>\n",
       "      <td>0.0215733</td>\n",
       "      <td>0</td>\n",
       "      <td>0</td>\n",
       "      <td>0</td>\n",
       "      <td>0.00042375</td>\n",
       "      <td>1</td>\n",
       "    </tr>\n",
       "    <tr>\n",
       "      <th>COM_CAT#31</th>\n",
       "      <td>40638</td>\n",
       "      <td>NaN</td>\n",
       "      <td>NaN</td>\n",
       "      <td>NaN</td>\n",
       "      <td>0.0463107</td>\n",
       "      <td>0.0510761</td>\n",
       "      <td>0</td>\n",
       "      <td>0.0117093</td>\n",
       "      <td>0.031606</td>\n",
       "      <td>0.0637757</td>\n",
       "      <td>1</td>\n",
       "    </tr>\n",
       "    <tr>\n",
       "      <th>COM_CAT#32</th>\n",
       "      <td>40638</td>\n",
       "      <td>NaN</td>\n",
       "      <td>NaN</td>\n",
       "      <td>NaN</td>\n",
       "      <td>0.0503317</td>\n",
       "      <td>0.0163534</td>\n",
       "      <td>0</td>\n",
       "      <td>0.049189</td>\n",
       "      <td>0.049189</td>\n",
       "      <td>0.049189</td>\n",
       "      <td>1</td>\n",
       "    </tr>\n",
       "    <tr>\n",
       "      <th>COM_CAT#33</th>\n",
       "      <td>40638</td>\n",
       "      <td>NaN</td>\n",
       "      <td>NaN</td>\n",
       "      <td>NaN</td>\n",
       "      <td>0.277685</td>\n",
       "      <td>0.0212225</td>\n",
       "      <td>0</td>\n",
       "      <td>0.27508</td>\n",
       "      <td>0.27508</td>\n",
       "      <td>0.27508</td>\n",
       "      <td>1</td>\n",
       "    </tr>\n",
       "    <tr>\n",
       "      <th>COM_CAT#34</th>\n",
       "      <td>39248</td>\n",
       "      <td>NaN</td>\n",
       "      <td>NaN</td>\n",
       "      <td>NaN</td>\n",
       "      <td>5.53325</td>\n",
       "      <td>3.55055</td>\n",
       "      <td>1</td>\n",
       "      <td>2</td>\n",
       "      <td>4</td>\n",
       "      <td>9</td>\n",
       "      <td>10</td>\n",
       "    </tr>\n",
       "  </tbody>\n",
       "</table>\n",
       "</div>"
      ],
      "text/plain": [
       "                  count unique    top   freq         mean         std  \\\n",
       "SNAP_DATE         40638    NaN    NaN    NaN      6.43831     3.46804   \n",
       "COM_CAT#1         40638    NaN    NaN    NaN      4.53484     2.17681   \n",
       "SK_ID             40638    NaN    NaN    NaN      2346.06     1368.01   \n",
       "COM_CAT#2         40638    NaN    NaN    NaN      41.1288     22.3662   \n",
       "COM_CAT#3         40638    NaN    NaN    NaN      5.27846     2.74282   \n",
       "BASE_TYPE         40638    NaN    NaN    NaN      1.93794    0.241268   \n",
       "ACT               40638    NaN    NaN    NaN     0.991387   0.0924049   \n",
       "ARPU_GROUP        40620    NaN    NaN    NaN      7.68614     3.16843   \n",
       "COM_CAT#7         40638    NaN    NaN    NaN      2.38602     1.59636   \n",
       "COM_CAT#8         40552    NaN    NaN    NaN      865.851       516.9   \n",
       "DEVICE_TYPE_ID    40552    NaN    NaN    NaN      4.61859    0.884486   \n",
       "INTERNET_TYPE_ID  40552    NaN    NaN    NaN      1.90467    0.721023   \n",
       "REVENUE           40638    NaN    NaN    NaN     0.129243   0.0208471   \n",
       "ITC               40638    NaN    NaN    NaN    0.0257724   0.0435261   \n",
       "VAS               40638    NaN    NaN    NaN    0.0989664   0.0141961   \n",
       "RENT_CHANNEL      40638    NaN    NaN    NaN    0.0594647    0.012485   \n",
       "ROAM              40638    NaN    NaN    NaN  6.20868e-05  0.00513342   \n",
       "COST              40638    NaN    NaN    NaN    0.0066334  0.00629889   \n",
       "COM_CAT#17        40638    NaN    NaN    NaN   0.00345826   0.0222002   \n",
       "COM_CAT#18        40638    NaN    NaN    NaN   0.00220819   0.0201653   \n",
       "COM_CAT#19        40638    NaN    NaN    NaN    0.0144353  0.00702018   \n",
       "COM_CAT#20        40638    NaN    NaN    NaN     0.704039  0.00682107   \n",
       "COM_CAT#21        40638    NaN    NaN    NaN    0.0166186  0.00751877   \n",
       "COM_CAT#22        40638    NaN    NaN    NaN     0.703889  0.00683513   \n",
       "COM_CAT#23        40638    NaN    NaN    NaN     0.126606   0.0183979   \n",
       "COM_CAT#24        40638      7  31.12  40632          NaN         NaN   \n",
       "COM_CAT#25        40638    NaN    NaN    NaN     0.999852   0.0121502   \n",
       "COM_CAT#26        40638    NaN    NaN    NaN     0.988139    0.108261   \n",
       "COM_CAT#27        40638    NaN    NaN    NaN    0.0169361   0.0240845   \n",
       "COM_CAT#28        40638    NaN    NaN    NaN    0.0250741   0.0416717   \n",
       "COM_CAT#29        40638    NaN    NaN    NaN   0.00477496   0.0178761   \n",
       "COM_CAT#30        40638    NaN    NaN    NaN    0.0051237   0.0215733   \n",
       "COM_CAT#31        40638    NaN    NaN    NaN    0.0463107   0.0510761   \n",
       "COM_CAT#32        40638    NaN    NaN    NaN    0.0503317   0.0163534   \n",
       "COM_CAT#33        40638    NaN    NaN    NaN     0.277685   0.0212225   \n",
       "COM_CAT#34        39248    NaN    NaN    NaN      5.53325     3.55055   \n",
       "\n",
       "                       min         25%        50%         75%       max  \n",
       "SNAP_DATE                1           3          6           9        12  \n",
       "COM_CAT#1                1           3          4           6         8  \n",
       "SK_ID                    2        1164       2349        3554      4701  \n",
       "COM_CAT#2                1          25         38          60        83  \n",
       "COM_CAT#3                1           5          5           5        17  \n",
       "BASE_TYPE                1           2          2           2         2  \n",
       "ACT                      0           1          1           1         1  \n",
       "ARPU_GROUP               1           6          8          10        12  \n",
       "COM_CAT#7                1           1          2           3         9  \n",
       "COM_CAT#8                2         387        924        1318      1702  \n",
       "DEVICE_TYPE_ID           1           5          5           5         8  \n",
       "INTERNET_TYPE_ID         1           1          2           2         3  \n",
       "REVENUE                  0    0.116159   0.124927    0.136204         1  \n",
       "ITC                      0  0.00159925  0.0102855    0.031996  0.998035  \n",
       "VAS               0.067636     0.09507   0.095141   0.0978777         1  \n",
       "RENT_CHANNEL             0    0.057144   0.057322    0.058344         1  \n",
       "ROAM                     0           0          0           0         1  \n",
       "COST              0.000534  0.00445325   0.005299    0.007243         1  \n",
       "COM_CAT#17               0           0          0           0         1  \n",
       "COM_CAT#18               0           0          0           0         1  \n",
       "COM_CAT#19        0.014253    0.014253   0.014253    0.014253  0.902894  \n",
       "COM_CAT#20               0    0.700552   0.702904    0.705915         1  \n",
       "COM_CAT#21         0.01611     0.01611    0.01611     0.01611         1  \n",
       "COM_CAT#22               0    0.700384   0.702777    0.705795         1  \n",
       "COM_CAT#23               0    0.115737   0.122807    0.131825         1  \n",
       "COM_CAT#24             NaN         NaN        NaN         NaN       NaN  \n",
       "COM_CAT#25               0           1          1           1         1  \n",
       "COM_CAT#26               0           1          1           1         1  \n",
       "COM_CAT#27               0  0.00222125  0.0087925   0.0222808  0.608438  \n",
       "COM_CAT#28               0    0.001482  0.0099425   0.0311148  0.867995  \n",
       "COM_CAT#29               0           0   0.000116    0.002998         1  \n",
       "COM_CAT#30               0           0          0  0.00042375         1  \n",
       "COM_CAT#31               0   0.0117093   0.031606   0.0637757         1  \n",
       "COM_CAT#32               0    0.049189   0.049189    0.049189         1  \n",
       "COM_CAT#33               0     0.27508    0.27508     0.27508         1  \n",
       "COM_CAT#34               1           2          4           9        10  "
      ]
     },
     "metadata": {},
     "output_type": "display_data"
    }
   ],
   "source": [
    "display_all(subs_feat_tr_df.describe(include='all').T)"
   ]
  },
  {
   "cell_type": "markdown",
   "metadata": {},
   "source": [
    "#### Take only info from one previous month"
   ]
  },
  {
   "cell_type": "code",
   "execution_count": 52,
   "metadata": {},
   "outputs": [],
   "source": [
    "one_mont_tr = subs_feat_tr_df.drop_duplicates(subset='SK_ID').copy()\n",
    "one_mont_te = subs_feat_te_df.drop_duplicates(subset='SK_ID').copy()"
   ]
  },
  {
   "cell_type": "code",
   "execution_count": 53,
   "metadata": {},
   "outputs": [
    {
     "data": {
      "text/plain": [
       "(925, 36)"
      ]
     },
     "execution_count": 53,
     "metadata": {},
     "output_type": "execute_result"
    }
   ],
   "source": [
    "one_mont_te.shape"
   ]
  },
  {
   "cell_type": "code",
   "execution_count": 54,
   "metadata": {},
   "outputs": [
    {
     "data": {
      "text/plain": [
       "(948, 2)"
      ]
     },
     "execution_count": 54,
     "metadata": {},
     "output_type": "execute_result"
    }
   ],
   "source": [
    "subs_csi_te_df.shape"
   ]
  },
  {
   "cell_type": "code",
   "execution_count": 55,
   "metadata": {},
   "outputs": [],
   "source": [
    "month_tr = one_mont_tr[one_mont_tr.SK_ID.isin(tr_ids)].copy()\n",
    "\n",
    "month_val = one_mont_tr[one_mont_tr.SK_ID.isin(val_ids)].copy()"
   ]
  },
  {
   "cell_type": "code",
   "execution_count": 56,
   "metadata": {},
   "outputs": [],
   "source": [
    "month_tr = pd.merge(month_tr, subs_csi_tr_df.drop('CONTACT_DATE', axis=1), on='SK_ID')\n",
    "month_val = pd.merge(month_val, subs_csi_tr_df.drop('CONTACT_DATE', axis=1), on='SK_ID')"
   ]
  },
  {
   "cell_type": "code",
   "execution_count": 57,
   "metadata": {},
   "outputs": [],
   "source": [
    "month_test = pd.merge(subs_csi_te_df.drop('CONTACT_DATE', axis=1),one_mont_te, on='SK_ID', how='left')"
   ]
  },
  {
   "cell_type": "code",
   "execution_count": 58,
   "metadata": {},
   "outputs": [],
   "source": [
    "month_all = pd.concat([month_tr, month_val])"
   ]
  },
  {
   "cell_type": "code",
   "execution_count": 59,
   "metadata": {},
   "outputs": [
    {
     "data": {
      "text/plain": [
       "((3102, 37), (520, 37), (3622, 37))"
      ]
     },
     "execution_count": 59,
     "metadata": {},
     "output_type": "execute_result"
    }
   ],
   "source": [
    "month_tr.shape, month_val.shape, month_all.shape"
   ]
  },
  {
   "cell_type": "code",
   "execution_count": 60,
   "metadata": {},
   "outputs": [],
   "source": [
    "train_cats(month_tr)"
   ]
  },
  {
   "cell_type": "code",
   "execution_count": 61,
   "metadata": {},
   "outputs": [],
   "source": [
    "apply_cats(month_val, month_tr)"
   ]
  },
  {
   "cell_type": "code",
   "execution_count": 62,
   "metadata": {},
   "outputs": [],
   "source": [
    "df, y, nas = proc_df(month_tr, 'CSI')"
   ]
  },
  {
   "cell_type": "code",
   "execution_count": 63,
   "metadata": {},
   "outputs": [
    {
     "data": {
      "text/plain": [
       "0.9754996776273372"
      ]
     },
     "execution_count": 63,
     "metadata": {},
     "output_type": "execute_result"
    }
   ],
   "source": [
    "m = RandomForestClassifier(n_jobs=-1, n_estimators=10)\n",
    "m.fit(df, y)\n",
    "m.score(df,y)"
   ]
  },
  {
   "cell_type": "code",
   "execution_count": 64,
   "metadata": {},
   "outputs": [],
   "source": [
    "X_train, y_train, nas = proc_df(month_tr, 'CSI')"
   ]
  },
  {
   "cell_type": "code",
   "execution_count": 65,
   "metadata": {},
   "outputs": [],
   "source": [
    "X_valid, y_valid, _ = proc_df(month_val, 'CSI', na_dict=nas)"
   ]
  },
  {
   "cell_type": "code",
   "execution_count": 66,
   "metadata": {},
   "outputs": [],
   "source": [
    "def print_score(m):\n",
    "    res = [metrics.roc_auc_score(y_train, m.predict_proba(X_train)[:,1]), \n",
    "           metrics.roc_auc_score(y_valid, m.predict_proba(X_valid)[:,1]),\n",
    "           m.score(X_train, y_train), m.score(X_valid, y_valid)]\n",
    "    \n",
    "    if hasattr(m, 'oob_score_'): res.append(m.oob_score_)\n",
    "    print(res)"
   ]
  },
  {
   "cell_type": "code",
   "execution_count": 73,
   "metadata": {},
   "outputs": [
    {
     "name": "stdout",
     "output_type": "stream",
     "text": [
      "CPU times: user 901 ms, sys: 0 ns, total: 901 ms\n",
      "Wall time: 248 ms\n",
      "[0.9840762458682939, 0.5372008113590264, 0.8455834945196647, 0.8365384615384616, 0.8449387491940683]\n"
     ]
    }
   ],
   "source": [
    "m = RandomForestClassifier(n_jobs=-1, n_estimators=40, min_samples_leaf=10, max_features=.5, oob_score=True)\n",
    "%time m.fit(X_train, y_train)\n",
    "print_score(m)"
   ]
  },
  {
   "cell_type": "code",
   "execution_count": 74,
   "metadata": {},
   "outputs": [],
   "source": [
    "fi = rf_feat_importance(m, X_train)"
   ]
  },
  {
   "cell_type": "code",
   "execution_count": 75,
   "metadata": {},
   "outputs": [
    {
     "data": {
      "text/html": [
       "<div>\n",
       "<style scoped>\n",
       "    .dataframe tbody tr th:only-of-type {\n",
       "        vertical-align: middle;\n",
       "    }\n",
       "\n",
       "    .dataframe tbody tr th {\n",
       "        vertical-align: top;\n",
       "    }\n",
       "\n",
       "    .dataframe thead th {\n",
       "        text-align: right;\n",
       "    }\n",
       "</style>\n",
       "<table border=\"1\" class=\"dataframe\">\n",
       "  <thead>\n",
       "    <tr style=\"text-align: right;\">\n",
       "      <th></th>\n",
       "      <th>cols</th>\n",
       "      <th>imp</th>\n",
       "    </tr>\n",
       "  </thead>\n",
       "  <tbody>\n",
       "    <tr>\n",
       "      <th>32</th>\n",
       "      <td>COM_CAT#31</td>\n",
       "      <td>0.077805</td>\n",
       "    </tr>\n",
       "    <tr>\n",
       "      <th>15</th>\n",
       "      <td>RENT_CHANNEL</td>\n",
       "      <td>0.071191</td>\n",
       "    </tr>\n",
       "    <tr>\n",
       "      <th>28</th>\n",
       "      <td>COM_CAT#27</td>\n",
       "      <td>0.068651</td>\n",
       "    </tr>\n",
       "    <tr>\n",
       "      <th>2</th>\n",
       "      <td>SK_ID</td>\n",
       "      <td>0.064533</td>\n",
       "    </tr>\n",
       "    <tr>\n",
       "      <th>9</th>\n",
       "      <td>COM_CAT#8</td>\n",
       "      <td>0.062863</td>\n",
       "    </tr>\n",
       "    <tr>\n",
       "      <th>3</th>\n",
       "      <td>COM_CAT#2</td>\n",
       "      <td>0.057144</td>\n",
       "    </tr>\n",
       "    <tr>\n",
       "      <th>23</th>\n",
       "      <td>COM_CAT#22</td>\n",
       "      <td>0.052850</td>\n",
       "    </tr>\n",
       "    <tr>\n",
       "      <th>12</th>\n",
       "      <td>REVENUE</td>\n",
       "      <td>0.049457</td>\n",
       "    </tr>\n",
       "    <tr>\n",
       "      <th>21</th>\n",
       "      <td>COM_CAT#20</td>\n",
       "      <td>0.048326</td>\n",
       "    </tr>\n",
       "    <tr>\n",
       "      <th>30</th>\n",
       "      <td>COM_CAT#29</td>\n",
       "      <td>0.046915</td>\n",
       "    </tr>\n",
       "  </tbody>\n",
       "</table>\n",
       "</div>"
      ],
      "text/plain": [
       "            cols       imp\n",
       "32    COM_CAT#31  0.077805\n",
       "15  RENT_CHANNEL  0.071191\n",
       "28    COM_CAT#27  0.068651\n",
       "2          SK_ID  0.064533\n",
       "9      COM_CAT#8  0.062863\n",
       "3      COM_CAT#2  0.057144\n",
       "23    COM_CAT#22  0.052850\n",
       "12       REVENUE  0.049457\n",
       "21    COM_CAT#20  0.048326\n",
       "30    COM_CAT#29  0.046915"
      ]
     },
     "execution_count": 75,
     "metadata": {},
     "output_type": "execute_result"
    }
   ],
   "source": [
    "fi[:10]"
   ]
  },
  {
   "cell_type": "code",
   "execution_count": 76,
   "metadata": {},
   "outputs": [
    {
     "data": {
      "image/png": "[encoded data removed]",
      "text/plain": [
       "<Figure size 720x432 with 1 Axes>"
      ]
     },
     "metadata": {
      "needs_background": "light"
     },
     "output_type": "display_data"
    }
   ],
   "source": [
    "fi.plot('cols', 'imp', figsize=(10,6), legend=False);"
   ]
  },
  {
   "cell_type": "code",
   "execution_count": 77,
   "metadata": {},
   "outputs": [],
   "source": [
    "def plot_fi(fi): return fi.plot('cols', 'imp', 'barh', figsize=(12,7), legend=False)"
   ]
  },
  {
   "cell_type": "code",
   "execution_count": 78,
   "metadata": {},
   "outputs": [
    {
     "data": {
      "image/png": "[encoded data removed]",
      "text/plain": [
       "<Figure size 864x504 with 1 Axes>"
      ]
     },
     "metadata": {
      "needs_background": "light"
     },
     "output_type": "display_data"
    }
   ],
   "source": [
    "plot_fi(fi[:30]);"
   ]
  },
  {
   "cell_type": "code",
   "execution_count": 79,
   "metadata": {},
   "outputs": [
    {
     "data": {
      "text/html": [
       "<div>\n",
       "<style scoped>\n",
       "    .dataframe tbody tr th:only-of-type {\n",
       "        vertical-align: middle;\n",
       "    }\n",
       "\n",
       "    .dataframe tbody tr th {\n",
       "        vertical-align: top;\n",
       "    }\n",
       "\n",
       "    .dataframe thead th {\n",
       "        text-align: right;\n",
       "    }\n",
       "</style>\n",
       "<table border=\"1\" class=\"dataframe\">\n",
       "  <thead>\n",
       "    <tr style=\"text-align: right;\">\n",
       "      <th></th>\n",
       "      <th>imp</th>\n",
       "    </tr>\n",
       "  </thead>\n",
       "  <tbody>\n",
       "    <tr>\n",
       "      <th>count</th>\n",
       "      <td>41.000000</td>\n",
       "    </tr>\n",
       "    <tr>\n",
       "      <th>mean</th>\n",
       "      <td>0.024390</td>\n",
       "    </tr>\n",
       "    <tr>\n",
       "      <th>std</th>\n",
       "      <td>0.025509</td>\n",
       "    </tr>\n",
       "    <tr>\n",
       "      <th>min</th>\n",
       "      <td>0.000000</td>\n",
       "    </tr>\n",
       "    <tr>\n",
       "      <th>25%</th>\n",
       "      <td>0.000469</td>\n",
       "    </tr>\n",
       "    <tr>\n",
       "      <th>50%</th>\n",
       "      <td>0.016080</td>\n",
       "    </tr>\n",
       "    <tr>\n",
       "      <th>75%</th>\n",
       "      <td>0.046808</td>\n",
       "    </tr>\n",
       "    <tr>\n",
       "      <th>max</th>\n",
       "      <td>0.077805</td>\n",
       "    </tr>\n",
       "  </tbody>\n",
       "</table>\n",
       "</div>"
      ],
      "text/plain": [
       "             imp\n",
       "count  41.000000\n",
       "mean    0.024390\n",
       "std     0.025509\n",
       "min     0.000000\n",
       "25%     0.000469\n",
       "50%     0.016080\n",
       "75%     0.046808\n",
       "max     0.077805"
      ]
     },
     "execution_count": 79,
     "metadata": {},
     "output_type": "execute_result"
    }
   ],
   "source": [
    "fi.describe()"
   ]
  },
  {
   "cell_type": "code",
   "execution_count": 80,
   "metadata": {},
   "outputs": [
    {
     "data": {
      "text/plain": [
       "25"
      ]
     },
     "execution_count": 80,
     "metadata": {},
     "output_type": "execute_result"
    }
   ],
   "source": [
    "to_keep = fi[fi.imp>0.005].cols; len(to_keep)"
   ]
  },
  {
   "cell_type": "code",
   "execution_count": 81,
   "metadata": {},
   "outputs": [],
   "source": [
    "X_train, X_valid = X_train[to_keep], X_valid[to_keep]"
   ]
  },
  {
   "cell_type": "code",
   "execution_count": 111,
   "metadata": {},
   "outputs": [
    {
     "name": "stdout",
     "output_type": "stream",
     "text": [
      "CPU times: user 820 ms, sys: 7.97 ms, total: 828 ms\n",
      "Wall time: 245 ms\n",
      "[0.9830854309687262, 0.5458012170385395, 0.8452611218568665, 0.8365384615384616, 0.8449387491940683]\n"
     ]
    }
   ],
   "source": [
    "m = RandomForestClassifier(n_jobs=-1, n_estimators=40, min_samples_leaf=10, max_features=.5, oob_score=True)\n",
    "%time m.fit(X_train, y_train)\n",
    "print_score(m)"
   ]
  },
  {
   "cell_type": "code",
   "execution_count": 112,
   "metadata": {},
   "outputs": [],
   "source": [
    "train_cats(month_all)"
   ]
  },
  {
   "cell_type": "code",
   "execution_count": 113,
   "metadata": {},
   "outputs": [],
   "source": [
    "apply_cats(month_test, month_all)"
   ]
  },
  {
   "cell_type": "code",
   "execution_count": 114,
   "metadata": {},
   "outputs": [],
   "source": [
    "df, y, nas = proc_df(month_all, 'CSI')\n",
    "test, _, _ = proc_df(month_test, na_dict=nas)"
   ]
  },
  {
   "cell_type": "code",
   "execution_count": 115,
   "metadata": {},
   "outputs": [
    {
     "name": "stdout",
     "output_type": "stream",
     "text": [
      "CPU times: user 943 ms, sys: 0 ns, total: 943 ms\n",
      "Wall time: 226 ms\n"
     ]
    },
    {
     "data": {
      "text/plain": [
       "RandomForestClassifier(bootstrap=True, class_weight=None, criterion='gini',\n",
       "            max_depth=None, max_features=0.5, max_leaf_nodes=None,\n",
       "            min_impurity_decrease=0.0, min_impurity_split=None,\n",
       "            min_samples_leaf=10, min_samples_split=2,\n",
       "            min_weight_fraction_leaf=0.0, n_estimators=40, n_jobs=-1,\n",
       "            oob_score=False, random_state=None, verbose=0,\n",
       "            warm_start=False)"
      ]
     },
     "execution_count": 115,
     "metadata": {},
     "output_type": "execute_result"
    }
   ],
   "source": [
    "m = RandomForestClassifier(n_jobs=-1, n_estimators=40, min_samples_leaf=10, max_features=.5)\n",
    "%time m.fit(df[to_keep], y)"
   ]
  },
  {
   "cell_type": "code",
   "execution_count": 116,
   "metadata": {},
   "outputs": [],
   "source": [
    "pred_y = m.predict_proba(test[to_keep])[:,1]"
   ]
  },
  {
   "cell_type": "code",
   "execution_count": 117,
   "metadata": {},
   "outputs": [],
   "source": [
    "subm = pd.DataFrame(pred_y)"
   ]
  },
  {
   "cell_type": "code",
   "execution_count": 118,
   "metadata": {},
   "outputs": [],
   "source": [
    "subm.to_csv('submits/rf_fi_on_rand_sample.csv', index=False, header=False)"
   ]
  },
  {
   "cell_type": "code",
   "execution_count": null,
   "metadata": {},
   "outputs": [],
   "source": []
  }
 ],
 "metadata": {
  "kernelspec": {
   "display_name": "Python 3",
   "language": "python",
   "name": "python3"
  },
  "language_info": {
   "codemirror_mode": {
    "name": "ipython",
    "version": 3
   },
   "file_extension": ".py",
   "mimetype": "text/x-python",
   "name": "python",
   "nbconvert_exporter": "python",
   "pygments_lexer": "ipython3",
   "version": "3.6.5"
  },
  "toc": {
   "base_numbering": 1,
   "nav_menu": {},
   "number_sections": true,
   "sideBar": true,
   "skip_h1_title": false,
   "title_cell": "Table of Contents",
   "title_sidebar": "Contents",
   "toc_cell": false,
   "toc_position": {},
   "toc_section_display": true,
   "toc_window_display": false
  }
 },
 "nbformat": 4,
 "nbformat_minor": 2
}
